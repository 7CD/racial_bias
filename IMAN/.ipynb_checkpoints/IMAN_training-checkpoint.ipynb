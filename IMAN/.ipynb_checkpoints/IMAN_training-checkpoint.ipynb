{
 "cells": [
  {
   "cell_type": "markdown",
   "metadata": {},
   "source": [
    "Если будете обучаеть не в ноутбуке, поменяйте в iman_steps.py tqdm.notebook  на tqdm"
   ]
  },
  {
   "cell_type": "code",
   "execution_count": null,
   "metadata": {
    "id": "X7H1JEnzd5yt"
   },
   "outputs": [],
   "source": [
    "import torch\n",
    "import torchvision.datasets\n",
    "import torchvision.transforms as transforms\n",
    "import numpy as np\n",
    "import matplotlib.pyplot as plt"
   ]
  },
  {
   "cell_type": "markdown",
   "metadata": {
    "id": "a0odLma-sA1R"
   },
   "source": [
    "Модель должна удовлетворять некоторому интерфейсу. В методе forward первым аргументом входной тензор, вторым -- флаг calc_scores -- нужно ли вычислять логиты для классификации на source domain. Скоринговая голова для source domain принадлежит модели, скоринговая голова для target domain нужна только для обучения (на стадиях 2 и 3) и находится отдельно от модели.\\\n",
    "Модель возвращает 3 объекта -- эмбеддинги вход. изобр., выходы с адаптационных слоев и классификационные скоры (не вероятности).\\\n",
    "Я взял одну модель отсюда https://github.com/ox-vgg/vgg_face2, чуть изменил код в forward, результат в файле \"resnet50_256_corrected.py\".\\\n",
    "В статье пишут, что в качестве адаптационных слоев, на которых считают MMD, исп. 2 линейных слоя резнета. Не понятно какие два, пока будем считать MMD только между эмбеддингами.\n",
    "\n",
    "В файле \"scoring.py\" скоринговые головы -- ArcFaceScoring и LinearScoring. LinearScoring -- SoftMax скоринг. Я ведь правильно понимаю, что под SoftMax в контексте распознавания лиц называют линейный скоринг, но не простой, а который как в ArcFace предвалительно норимирует входной тензор и веса? Если, например, у нас модель ArcFace (значит эмбеддинги обучены так, что предполагаются они будут нормированы), а в кач. скоринга для target domain исп. SoftMax, то эмбеддинги и веса он тоже должны нормировать?\n",
    "\n"
   ]
  },
  {
   "cell_type": "code",
   "execution_count": null,
   "metadata": {
    "id": "3tJtmtRGalO5"
   },
   "outputs": [],
   "source": [
    "# https://github.com/ox-vgg/vgg_face2\n",
    "\n",
    "!wget http://www.robots.ox.ac.uk/~vgg/data/vgg_face2/models/pytorch/resnet50_256_pytorch.tar.gz\n",
    "\n",
    "!tar -xzf /content/resnet50_256_pytorch.tar.gz"
   ]
  },
  {
   "cell_type": "code",
   "execution_count": null,
   "metadata": {
    "id": "-cLQ7IIXdoeo"
   },
   "outputs": [],
   "source": [
    "from resnet50_256_corrected import resnet50_256\n",
    "\n",
    "device = torch.device(\"cuda\" if torch.cuda.is_available() else \"cpu\")\n",
    "\n",
    "model = resnet50_256('/content/resnet50_256.pth')\n",
    "model.to(device);"
   ]
  },
  {
   "cell_type": "markdown",
   "metadata": {
    "id": "ZaOEusdbzLxI"
   },
   "source": [
    "Я не тестировал в реальном режиме свой код, только прогонял пару батчей. В качестве игрушечных source and target domains -- Caucasians and Africans из RFW."
   ]
  },
  {
   "cell_type": "code",
   "execution_count": null,
   "metadata": {
    "colab": {
     "base_uri": "https://localhost:8080/"
    },
    "id": "t_LMwLMcPJzR",
    "outputId": "f557b087-7499-4a50-adda-9b4e0c08dd5c"
   },
   "outputs": [
    {
     "name": "stdout",
     "output_type": "stream",
     "text": [
      "Mounted at /content/drive\n"
     ]
    }
   ],
   "source": [
    "from google.colab import drive\n",
    "\n",
    "drive.mount('/content/drive')"
   ]
  },
  {
   "cell_type": "code",
   "execution_count": null,
   "metadata": {
    "id": "J5tL3sc8c_Ab"
   },
   "outputs": [],
   "source": [
    "!cp '/content/drive/My Drive/RFW/test.tar.gz' '.'\n",
    "\n",
    "!tar -xf test.tar.gz"
   ]
  },
  {
   "cell_type": "markdown",
   "metadata": {
    "id": "Ko1mBMj8jvb0"
   },
   "source": [
    "Еще код предполагает, что датасеты имеют аттрибут samples, из которого выдаются примеры -- пары (image_path, target_lamel) -- такой интерфейс у torchvision.datasets.ImageFolder. "
   ]
  },
  {
   "cell_type": "code",
   "execution_count": null,
   "metadata": {
    "id": "TFYmGOk8dH8S"
   },
   "outputs": [],
   "source": [
    "transforms_ = transforms.Compose([transforms.Resize(256),\n",
    "                                  transforms.CenterCrop(224),\n",
    "                                  transforms.ToTensor(),\n",
    "                                  # см. как в вашей модели\n",
    "                                  transforms.Normalize(mean=[131.0912/255, 103.8827/255, 91.4953/255],\n",
    "                                                        std=[1., 1., 1.])])\n",
    "\n",
    "\n",
    "\n",
    "source_domain_dataset = torchvision.datasets.ImageFolder('/content/test/data/Caucasian',\n",
    "                                                 transform=transforms_)\n",
    "\n",
    "\n",
    "target_domain_dataset = torchvision.datasets.ImageFolder('/content/test/data/African',\n",
    "                                                 transform=transforms_)"
   ]
  },
  {
   "cell_type": "code",
   "execution_count": null,
   "metadata": {
    "id": "6zE8M1_ojZx5"
   },
   "outputs": [],
   "source": [
    "# Для быстрого тестирования урезаю датасеты\n",
    "\n",
    "source_domain_dataset.samples = source_domain_dataset.samples[:1000]\n",
    "target_domain_dataset.samples = target_domain_dataset.samples[:1000]"
   ]
  },
  {
   "cell_type": "markdown",
   "metadata": {
    "id": "36n1Aikcf8xe"
   },
   "source": [
    "## Stage 1: Pre-training"
   ]
  },
  {
   "cell_type": "code",
   "execution_count": null,
   "metadata": {
    "id": "3AJ61sckkacH"
   },
   "outputs": [],
   "source": [
    "target_domain_pretraining_loader = torch.utils.data.DataLoader(\n",
    "    target_domain_dataset, batch_size=32, shuffle=True,\n",
    "    num_workers=2, pin_memory=True, drop_last=True)\n",
    "\n",
    "source_domain_loader = torch.utils.data.DataLoader(\n",
    "    source_domain_dataset, batch_size=32, shuffle=True,\n",
    "    num_workers=2, pin_memory=True, drop_last=True)\n",
    "\n",
    "optimizer = torch.optim.SGD(model.parameters(), lr=0.001)"
   ]
  },
  {
   "cell_type": "code",
   "execution_count": null,
   "metadata": {
    "colab": {
     "base_uri": "https://localhost:8080/",
     "height": 149,
     "referenced_widgets": [
      "d2801999a3324dd8806e3d015712207e",
      "78291fcc28c441dd80af6481159e505e",
      "a7e7bc10530d4e0ea0c9c53055d31e83",
      "8b78268e9ac84dc49ad27f092642e168",
      "777b98ab41844a2a8039b52e34a7e0c6",
      "a2ca9c8ed73a498090330df7c77dc9bb",
      "a116e3c6b0e44b7fa72fb247afa09669",
      "3155ee12e7494ec28208957e428879a7",
      "3c8d9b6aba1241ab874a68b8818d0335",
      "3e77938f3363419a9b9c59c1410b8b3c",
      "378777a0ec3542c48d8f29803c356892",
      "152d83f4b91e477b8dc4d8cb32b21824",
      "8166d9e3658f47a085955b664463bea9",
      "36e30155782f491caa8fa8eb27d6ce15",
      "4a63b1b6edd94531955194aa4d2f23db",
      "0a404d85b8854de7a548587fc83c3484"
     ]
    },
    "id": "rFRjcAhUf3P_",
    "outputId": "a59be93d-4fe9-4137-b01b-47f36c6d5b4b"
   },
   "outputs": [
    {
     "data": {
      "application/vnd.jupyter.widget-view+json": {
       "model_id": "d2801999a3324dd8806e3d015712207e",
       "version_major": 2,
       "version_minor": 0
      },
      "text/plain": [
       "HBox(children=(FloatProgress(value=0.0, description='epoch progress', max=31.0, style=ProgressStyle(descriptio…"
      ]
     },
     "metadata": {
      "tags": []
     },
     "output_type": "display_data"
    },
    {
     "name": "stdout",
     "output_type": "stream",
     "text": [
      "\n",
      "Epoch #1: source clf loss: 8.93399, mmd loss: 0.41746, lr: 0.001\n"
     ]
    },
    {
     "data": {
      "application/vnd.jupyter.widget-view+json": {
       "model_id": "3c8d9b6aba1241ab874a68b8818d0335",
       "version_major": 2,
       "version_minor": 0
      },
      "text/plain": [
       "HBox(children=(FloatProgress(value=0.0, description='epoch progress', max=31.0, style=ProgressStyle(descriptio…"
      ]
     },
     "metadata": {
      "tags": []
     },
     "output_type": "display_data"
    },
    {
     "name": "stdout",
     "output_type": "stream",
     "text": [
      "\n",
      "Epoch #2: source clf loss: 8.37678, mmd loss: 0.342001, lr: 0.001\n"
     ]
    }
   ],
   "source": [
    "from iman_steps import pretraining_epoch\n",
    "\n",
    "\n",
    "n_epochs = 2\n",
    "\n",
    "s_clf_loss, mmd_loss = [], []\n",
    "\n",
    "for epoch in range(1, n_epochs + 1):\n",
    "\n",
    "  s_clf_loss_epoch, mmd_loss_epoch = pretraining_epoch(model, source_domain_loader, \n",
    "                                           target_domain_pretraining_loader, \n",
    "                                           optimizer, device, lambda_=1)\n",
    "  s_clf_loss += s_clf_loss_epoch\n",
    "  mmd_loss += mmd_loss_epoch\n",
    "\n",
    "  # Можно собрать валидационную выборку из таргет домейна, чтобы отслеживать \n",
    "  # улучшают ли этапы обучения качество на таргете.\n",
    "  # отщепить часть от тестовой выборки, чтобы убедиться, что обучение идет правильно\n",
    "  # val_metric = evaluate(model, validation_loader, device) # roc_auc or accuracy\n",
    "  # if val_metric > best_val_metric:\n",
    "    # best_val_metric = val_metric\n",
    "    # torch.save(model.state_dict(), path)\n",
    "\n",
    "  # scheduler.step()\n",
    "\n",
    "  lr = optimizer.param_groups[0]['lr']\n",
    "  print(\"Epoch #{}: source clf loss: {:.6}, mmd loss: {:.6}, lr: {}\".\\\n",
    "      format(epoch, np.mean(s_clf_loss_epoch), np.mean(mmd_loss_epoch), lr))"
   ]
  },
  {
   "cell_type": "code",
   "execution_count": null,
   "metadata": {
    "colab": {
     "base_uri": "https://localhost:8080/",
     "height": 279
    },
    "id": "Oy_pOoWglptK",
    "outputId": "c5b1c089-340d-4c86-8cc3-f3e40ed3b359"
   },
   "outputs": [
    {
     "data": {
      "image/png": "[encoded data removed]",
      "text/plain": [
       "<Figure size 432x288 with 1 Axes>"
      ]
     },
     "metadata": {
      "needs_background": "light",
      "tags": []
     },
     "output_type": "display_data"
    }
   ],
   "source": [
    "import matplotlib.pyplot as plt\n",
    "\n",
    "def running_mean(x, N):\n",
    "    cumsum = np.cumsum(np.insert(x, 0, 0)) \n",
    "    return (cumsum[N:] - cumsum[:-N]) / float(N)\n",
    "\n",
    "n_avg = 10\n",
    "plt.plot(np.arange(n_avg, len(mmd_loss) + 1), running_mean(mmd_loss, n_avg))\n",
    "plt.xlabel('batch')\n",
    "plt.ylabel('loss');"
   ]
  },
  {
   "cell_type": "markdown",
   "metadata": {
    "id": "3ScYytiSmEz5"
   },
   "source": [
    "## Stage 2: Pre-adaptation"
   ]
  },
  {
   "cell_type": "markdown",
   "metadata": {
    "id": "Ive5vdW7tBFz"
   },
   "source": [
    "На этом этапе неразмеченным семплам target domain'а назначаем лейблы и обучаем на них сеть. Чтобы назначить лейблы, вычисляем косинусную близость между всеми парами изображений, если близость больше порога, добавляем соответсвующее ребро в граф. Затем находим связные компоненты графа с числом вершин больше порога, и каждая компонента связности -- одна метка для изображений, попавших в нее.\n",
    "Значит, есть два гиперпараметра -- sim_thresh, min_cluster_size, которые надо правильно подобрать. В статье они не приводятся.\n",
    "Нужно, наверное, чтобы в один кластер попадали изображения одного человека, а число кластеров примерно равнялось числу персон. Чтобы выбрать адекватные sim_thresh, min_cluster_size предлагаю сначала на части размеченной выборки провести кластеризацию и выбрать гиперпараметры, чтобы условия примерно выполнялись.\n"
   ]
  },
  {
   "cell_type": "code",
   "execution_count": 1,
   "metadata": {
    "id": "JHZi5sfeKY30"
   },
   "outputs": [],
   "source": [
    "from tqdm.notebook import tqdm\n",
    "import torch.nn.functional as F\n",
    "\n",
    "# Возвр косинучную близость между парами изображений\n",
    "def cluster_test(model, data_loader, device):\n",
    "\n",
    "  assert isinstance(data_loader.sampler, torch.utils.data.SequentialSampler)\n",
    "  assert data_loader.drop_last == False\n",
    "\n",
    "  # calculating domain embeddings\n",
    "  domain_dataset_embeddings_list = []\n",
    "  model.eval()\n",
    "  for batch in tqdm(data_loader, total=len(data_loader), desc=\"extracting embeddings...\"):\n",
    "    t_input = batch[0].to(device)\n",
    "    with torch.no_grad():\n",
    "      batch_embeddings, _, _ = model(t_input, calc_scores=False)\n",
    "    domain_dataset_embeddings_list.append(batch_embeddings.cpu())\n",
    "  \n",
    "  domain_dataset_embeddings = torch.cat(domain_dataset_embeddings_list, dim=0)\n",
    "  \n",
    "  \n",
    "  n_nodes = len(data_loader.dataset)\n",
    "\n",
    "  cos_sims_list = []\n",
    "\n",
    "  for node_i in tqdm(range(n_nodes), desc=\"calculating cosine similarities...\"):\n",
    "    node_i_cos_sims = F.cosine_similarity(domain_dataset_embeddings[node_i: node_i+1], \n",
    "                                          domain_dataset_embeddings)\n",
    "    cos_sims_list.append(node_i_cos_sims.view(1, -1))\n",
    "\n",
    "  cos_sims = torch.cat(cos_sims_list, dim=0)\n",
    "  \n",
    "  return cos_sims\n",
    "\n",
    "\n",
    "# возвр косинуснуую близость отдельно для с изобр того же класса и с изобр других классов\n",
    "def get_cos_sims(cos_sims, data_loader):\n",
    "  nodes_cos_sims_with_nodes_of_same_class=[]\n",
    "  nodes_cos_sims_with_nodes_of_other_class=[]\n",
    "  samples = data_loader.dataset.samples\n",
    "  labels = torch.LongTensor([s[1] for s in samples])\n",
    "  for node in range(cos_sims.size(0)):\n",
    "    nodes_of_same_class_indexes = (labels == labels[node]).nonzero().flatten().tolist()\n",
    "    nodes_of_same_class_indexes.remove(node)\n",
    "    nodes_of_same_class_indexes = torch.LongTensor(nodes_of_same_class_indexes)\n",
    "    nodes_of_same_class_sims = cos_sims[node][nodes_of_same_class_indexes]\n",
    "\n",
    "    nodes_of_other_class_indexes = (labels != labels[node]).nonzero().flatten()\n",
    "    nodes_of_other_class_sims = cos_sims[node][nodes_of_other_class_indexes]\n",
    "    \n",
    "    nodes_cos_sims_with_nodes_of_same_class.append(nodes_of_same_class_sims.mean().item())\n",
    "    nodes_cos_sims_with_nodes_of_other_class.append(nodes_of_other_class_sims.mean().item())\n",
    "\n",
    "  return nodes_cos_sims_with_nodes_of_same_class, nodes_cos_sims_with_nodes_of_other_class"
   ]
  },
  {
   "cell_type": "code",
   "execution_count": null,
   "metadata": {
    "id": "jxc7qms8TCoJ"
   },
   "outputs": [],
   "source": [
    "source_domain_loader_part = torch.utils.data.DataLoader(\n",
    "    source_domain_dataset, batch_size=32, shuffle=False,\n",
    "    num_workers=2, pin_memory=True, drop_last=False)\n",
    "\n",
    "cos_sims = cluster_test(model, source_domain_loader_part, device)"
   ]
  },
  {
   "cell_type": "code",
   "execution_count": null,
   "metadata": {
    "colab": {
     "base_uri": "https://localhost:8080/"
    },
    "id": "pxjnV54TSr9c",
    "outputId": "15109d1c-e676-4a84-dab1-7e013d820d0d"
   },
   "outputs": [
    {
     "data": {
      "text/plain": [
       "(1000, torch.Size([1000, 1000]))"
      ]
     },
     "execution_count": 162,
     "metadata": {
      "tags": []
     },
     "output_type": "execute_result"
    }
   ],
   "source": [
    "len(source_domain_loader_part.dataset), cos_sims.shape"
   ]
  },
  {
   "cell_type": "code",
   "execution_count": null,
   "metadata": {
    "id": "6qwBpj2WV1wT"
   },
   "outputs": [],
   "source": [
    "nodes_cos_sims_with_nodes_of_same_class, nodes_cos_sims_with_nodes_of_other_class = get_cos_sims(cos_sims, source_domain_loader_part)"
   ]
  },
  {
   "cell_type": "code",
   "execution_count": null,
   "metadata": {
    "colab": {
     "base_uri": "https://localhost:8080/"
    },
    "id": "FFVtZX0pcEgu",
    "outputId": "7cc6db15-92e1-4f5d-ef32-2b299a0250a8"
   },
   "outputs": [
    {
     "data": {
      "text/plain": [
       "(0.5708562611117959, 0.48763610047101974)"
      ]
     },
     "execution_count": 191,
     "metadata": {
      "tags": []
     },
     "output_type": "execute_result"
    }
   ],
   "source": [
    "np.mean(nodes_cos_sims_with_nodes_of_same_class), np.mean(nodes_cos_sims_with_nodes_of_other_class)"
   ]
  },
  {
   "cell_type": "markdown",
   "metadata": {
    "id": "_SJ6Fy67cLDA"
   },
   "source": [
    "У меня модель не очень отличает персон, даже европеоидных. Может быть потому что я не делал препроцессинг -- вырезание лица по ключевым точкам.\n",
    "\n",
    "Проверьте на своих моделях"
   ]
  },
  {
   "cell_type": "code",
   "execution_count": null,
   "metadata": {
    "colab": {
     "base_uri": "https://localhost:8080/",
     "height": 265
    },
    "id": "gJbkGyg-cYkq",
    "outputId": "488d06cb-d8c7-4bff-ed32-d6f630cdb2eb"
   },
   "outputs": [
    {
     "data": {
      "image/png": "[encoded data removed]",
      "text/plain": [
       "<Figure size 432x288 with 1 Axes>"
      ]
     },
     "metadata": {
      "needs_background": "light",
      "tags": []
     },
     "output_type": "display_data"
    }
   ],
   "source": [
    "plt.hist(nodes_cos_sims_with_nodes_of_same_class, bins=100);"
   ]
  },
  {
   "cell_type": "code",
   "execution_count": null,
   "metadata": {
    "colab": {
     "base_uri": "https://localhost:8080/",
     "height": 265
    },
    "id": "E2CTDOArcgTu",
    "outputId": "7394e4e6-e0de-4799-eb6d-5f16c23af454"
   },
   "outputs": [
    {
     "data": {
      "image/png": "[encoded data removed]",
      "text/plain": [
       "<Figure size 432x288 with 1 Axes>"
      ]
     },
     "metadata": {
      "needs_background": "light",
      "tags": []
     },
     "output_type": "display_data"
    }
   ],
   "source": [
    "plt.hist(nodes_cos_sims_with_nodes_of_other_class, bins=100);"
   ]
  },
  {
   "cell_type": "code",
   "execution_count": null,
   "metadata": {
    "id": "_ZOYMHYfc8XS"
   },
   "outputs": [],
   "source": [
    "sim_thresh = 0.7 \n",
    "min_cluster_size = 3 # Если порог высокий, можно сделать поменьше, но вообще это вопрос какой брать"
   ]
  },
  {
   "cell_type": "markdown",
   "metadata": {
    "id": "kmIr4QbrZJHY"
   },
   "source": [
    "Например, в трейне Transferface в среднем по 47 фото на персону:"
   ]
  },
  {
   "cell_type": "markdown",
   "metadata": {
    "id": "nQUkYGGoZHYt"
   },
   "source": [
    "![image.png](data:image/png;base64,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)"
   ]
  },
  {
   "cell_type": "code",
   "execution_count": null,
   "metadata": {
    "id": "LuSi3Ru5heJO"
   },
   "outputs": [],
   "source": [
    "from collections import Counter\n",
    "\n",
    "def clusterisation_check(preadaptation_dataloader):\n",
    "  samples = preadaptation_dataloader.dataset.samples\n",
    "  c = Counter([c[1] for c in preadaptation_dataloader.dataset.samples])\n",
    "  plt.figure(figsize=(16, 6))\n",
    "  plt.bar(c.keys(), c.values())\n",
    "  plt.xlabel('labels')\n",
    "  plt.ylabel('N samples')\n",
    "  plt.show()"
   ]
  },
  {
   "cell_type": "code",
   "execution_count": null,
   "metadata": {
    "id": "iWcJWPTQ4cKv"
   },
   "outputs": [],
   "source": [
    "from iman_steps import get_data_for_preadaptation"
   ]
  },
  {
   "cell_type": "code",
   "execution_count": null,
   "metadata": {
    "colab": {
     "base_uri": "https://localhost:8080/",
     "height": 486,
     "referenced_widgets": [
      "5cc8b92404ea4f4c981ce13c79176fcf",
      "bc75540587b54512b3138795838ccd76",
      "e58fbfb9f1234638b8e2fa2c58c7b358",
      "31a56208c5a34b869fb9c83174216be9",
      "3a9a22bab9814d31b6a098c255cff893",
      "e89021ecb5aa400a898168680f6775b0",
      "9ce9f38635cc46debf43c264b9412b3f",
      "edfb041b10714b7dbe319a496068450f",
      "5287769d509e499aaa1da683e7e9a3e2",
      "fadffa47bea541f5aef2fccc1cb4b45f",
      "3e85d0098f1e4e1dbbd4e13a3f106d0a",
      "d3774105d3e241108eafa2a95d5dc2bb",
      "c4b2fc0d9e4d4bc3a93676c591036d38",
      "af3609374d5641ea8c0b1d17f23386a2",
      "bfc1b5732511440eaa8a37c25bd63077",
      "030600056e1647c687652d1ebd3f6837"
     ]
    },
    "id": "32IQAoakf7oI",
    "outputId": "9790352e-5208-4ef7-c326-e68b589c924e"
   },
   "outputs": [
    {
     "data": {
      "application/vnd.jupyter.widget-view+json": {
       "model_id": "5cc8b92404ea4f4c981ce13c79176fcf",
       "version_major": 2,
       "version_minor": 0
      },
      "text/plain": [
       "HBox(children=(FloatProgress(value=0.0, description='extracting embeddings...', max=32.0, style=ProgressStyle(…"
      ]
     },
     "metadata": {
      "tags": []
     },
     "output_type": "display_data"
    },
    {
     "name": "stdout",
     "output_type": "stream",
     "text": [
      "\n"
     ]
    },
    {
     "data": {
      "application/vnd.jupyter.widget-view+json": {
       "model_id": "5287769d509e499aaa1da683e7e9a3e2",
       "version_major": 2,
       "version_minor": 0
      },
      "text/plain": [
       "HBox(children=(FloatProgress(value=0.0, description='calculating cosine similarities...', max=1000.0, style=Pr…"
      ]
     },
     "metadata": {
      "tags": []
     },
     "output_type": "display_data"
    },
    {
     "name": "stdout",
     "output_type": "stream",
     "text": [
      "\n"
     ]
    },
    {
     "data": {
      "image/png": "[encoded data removed]",
      "text/plain": [
       "<Figure size 1152x432 with 1 Axes>"
      ]
     },
     "metadata": {
      "needs_background": "light",
      "tags": []
     },
     "output_type": "display_data"
    }
   ],
   "source": [
    "dataloader = get_data_for_preadaptation(model, source_domain_loader_part, \n",
    "                                           device, sim_thresh, min_cluster_size)\n",
    "\n",
    "clusterisation_check(dataloader) # все в один кластер, нужен был порог по cos еще выше"
   ]
  },
  {
   "cell_type": "code",
   "execution_count": null,
   "metadata": {
    "colab": {
     "base_uri": "https://localhost:8080/",
     "height": 486,
     "referenced_widgets": [
      "78e8f2ea10cf456ab04bccddd7de9c61",
      "a87483a8399f4e9786e39098e9ebb0f9",
      "968dd3ee5f1845e7a8a622e1047f7a3d",
      "eb8374e89e34454a9e5f508002229977",
      "10f2eaf4f165464b9225931a396f2890",
      "985e97bddd1847fdb7cc99d108d12c5b",
      "21275754a2a240429589e93a658ae088",
      "c05cf761459e49149cefdbeec90c0d24",
      "b0f154f5248d42b590a4d0958b91e2a0",
      "e2599da87a3848fcb692aa905504b02e",
      "977533a3c5854b22a14386ed3ed6e3ec",
      "8dfcebbe026b42bd8eaef94830f25f7a",
      "dd6393651b054896b539917feab887d4",
      "b2f67604892848929faa4ad1c093e3ba",
      "b83ef8cf4625434c927bfe1b0c2788ba",
      "1f71cc0d9d0241dbacd56b75a568c205"
     ]
    },
    "id": "vZjRsie6gVi6",
    "outputId": "7b21e0d0-08ad-45f8-c56a-4d9d58ca0a03"
   },
   "outputs": [
    {
     "data": {
      "application/vnd.jupyter.widget-view+json": {
       "model_id": "78e8f2ea10cf456ab04bccddd7de9c61",
       "version_major": 2,
       "version_minor": 0
      },
      "text/plain": [
       "HBox(children=(FloatProgress(value=0.0, description='extracting embeddings...', max=32.0, style=ProgressStyle(…"
      ]
     },
     "metadata": {
      "tags": []
     },
     "output_type": "display_data"
    },
    {
     "name": "stdout",
     "output_type": "stream",
     "text": [
      "\n"
     ]
    },
    {
     "data": {
      "application/vnd.jupyter.widget-view+json": {
       "model_id": "b0f154f5248d42b590a4d0958b91e2a0",
       "version_major": 2,
       "version_minor": 0
      },
      "text/plain": [
       "HBox(children=(FloatProgress(value=0.0, description='calculating cosine similarities...', max=1000.0, style=Pr…"
      ]
     },
     "metadata": {
      "tags": []
     },
     "output_type": "display_data"
    },
    {
     "name": "stdout",
     "output_type": "stream",
     "text": [
      "\n"
     ]
    },
    {
     "data": {
      "image/png": "[encoded data removed]",
      "text/plain": [
       "<Figure size 1152x432 with 1 Axes>"
      ]
     },
     "metadata": {
      "needs_background": "light",
      "tags": []
     },
     "output_type": "display_data"
    }
   ],
   "source": [
    "dataloader = get_data_for_preadaptation(model, source_domain_loader_part, \n",
    "                                           device, 0.85, min_cluster_size)\n",
    "\n",
    "clusterisation_check(dataloader)"
   ]
  },
  {
   "cell_type": "code",
   "execution_count": null,
   "metadata": {
    "id": "Huw8A83Xhl_s"
   },
   "outputs": [],
   "source": []
  },
  {
   "cell_type": "markdown",
   "metadata": {
    "id": "-4MhhaqhjBP9"
   },
   "source": [
    "### Stage 2: Pre-adaptation"
   ]
  },
  {
   "cell_type": "markdown",
   "metadata": {
    "id": "NxQfV0uOi4eL"
   },
   "source": [
    "формируем датасет для этапа Pre-adaptation"
   ]
  },
  {
   "cell_type": "code",
   "execution_count": null,
   "metadata": {
    "id": "a6mGh67Qdel-"
   },
   "outputs": [],
   "source": [
    "# Важно, что shuffle=False, drop_last=False\n",
    "target_domain_preadaptation_loader = torch.utils.data.DataLoader(\n",
    "    target_domain_dataset, batch_size=32, shuffle=False,\n",
    "    num_workers=2, pin_memory=True, drop_last=False)"
   ]
  },
  {
   "cell_type": "code",
   "execution_count": null,
   "metadata": {
    "colab": {
     "base_uri": "https://localhost:8080/",
     "height": 115,
     "referenced_widgets": [
      "c10c859cbf6040d49c9ecca7cdcd3efc",
      "1f12e50e9f0649b9b0f298445ce1ab2c",
      "27bebefd6bad4e99b41e1017e8525d76",
      "5ce42a04705d45f3864bbda954e15e7a",
      "5a3d6306976f4feba502ef006c005826",
      "908deeda7ba04b64a1e960165b6d5f1e",
      "849449a18ff4430f90e39d85db9fe116",
      "4fa311b39be24914a0aa10512dc82fe6",
      "dc79553486f241a68e472053daaebc1a",
      "8507163a63a845f3a2ab642d1d699be2",
      "cc2cdfb5f1454c4ebcd2bfc12e796e52",
      "f93beb7c14c646ac95e6aee2b251a24e",
      "a7d89a61e13d4d02bc688fcf623773a8",
      "8ef5a31123cd4a428a71deedf0f266ce",
      "7d9a038223f84c3d97b2b2aeecc10067",
      "c4edc2faff8d42e495bdb2fa84b2abf3"
     ]
    },
    "id": "yb7X-PbAJuFF",
    "outputId": "0e963954-5515-49bc-8ad9-f6d898caf4ef"
   },
   "outputs": [
    {
     "data": {
      "application/vnd.jupyter.widget-view+json": {
       "model_id": "c10c859cbf6040d49c9ecca7cdcd3efc",
       "version_major": 2,
       "version_minor": 0
      },
      "text/plain": [
       "HBox(children=(FloatProgress(value=0.0, description='extracting embeddings...', max=32.0, style=ProgressStyle(…"
      ]
     },
     "metadata": {
      "tags": []
     },
     "output_type": "display_data"
    },
    {
     "name": "stdout",
     "output_type": "stream",
     "text": [
      "\n"
     ]
    },
    {
     "data": {
      "application/vnd.jupyter.widget-view+json": {
       "model_id": "dc79553486f241a68e472053daaebc1a",
       "version_major": 2,
       "version_minor": 0
      },
      "text/plain": [
       "HBox(children=(FloatProgress(value=0.0, description='calculating cosine similarities...', max=1000.0, style=Pr…"
      ]
     },
     "metadata": {
      "tags": []
     },
     "output_type": "display_data"
    },
    {
     "name": "stdout",
     "output_type": "stream",
     "text": [
      "\n"
     ]
    }
   ],
   "source": [
    "preadaptation_dataloader = get_data_for_preadaptation(model, target_domain_preadaptation_loader, \n",
    "                                           device, 0.85, min_cluster_size)"
   ]
  },
  {
   "cell_type": "code",
   "execution_count": null,
   "metadata": {
    "colab": {
     "base_uri": "https://localhost:8080/",
     "height": 388
    },
    "id": "MC-BkXTUWaP5",
    "outputId": "1295db4a-79ba-47fa-e8af-53e5af4bb7e6"
   },
   "outputs": [
    {
     "data": {
      "image/png": "[encoded data removed]",
      "text/plain": [
       "<Figure size 1152x432 with 1 Axes>"
      ]
     },
     "metadata": {
      "needs_background": "light",
      "tags": []
     },
     "output_type": "display_data"
    }
   ],
   "source": [
    "clusterisation_check(preadaptation_dataloader)"
   ]
  },
  {
   "cell_type": "code",
   "execution_count": null,
   "metadata": {
    "colab": {
     "base_uri": "https://localhost:8080/"
    },
    "id": "HY1Le4T9KiFu",
    "outputId": "eadce82b-947c-462b-8d09-8e54288b33b3"
   },
   "outputs": [
    {
     "data": {
      "text/plain": [
       "[('/content/test/data/African/m.012mh_/m.012mh__0004.jpg', 0),\n",
       " ('/content/test/data/African/m.012qsp/m.012qsp_0004.jpg', 0),\n",
       " ('/content/test/data/African/m.012tmz/m.012tmz_0003.jpg', 0),\n",
       " ('/content/test/data/African/m.015q3m/m.015q3m_0002.jpg', 1),\n",
       " ('/content/test/data/African/m.018144/m.018144_0001.jpg', 0),\n",
       " ('/content/test/data/African/m.0183qt/m.0183qt_0003.jpg', 0),\n",
       " ('/content/test/data/African/m.01b_88/m.01b_88_0002.jpg', 1),\n",
       " ('/content/test/data/African/m.01c_3f/m.01c_3f_0004.jpg', 1),\n",
       " ('/content/test/data/African/m.01jpwfr/m.01jpwfr_0001.jpg', 0),\n",
       " ('/content/test/data/African/m.01kcgj/m.01kcgj_0003.jpg', 1),\n",
       " ('/content/test/data/African/m.01kp9_8/m.01kp9_8_0003.jpg', 0),\n",
       " ('/content/test/data/African/m.01kq4tc/m.01kq4tc_0002.jpg', 1),\n",
       " ('/content/test/data/African/m.01l5rfm/m.01l5rfm_0001.jpg', 1),\n",
       " ('/content/test/data/African/m.01l7mwv/m.01l7mwv_0002.jpg', 0),\n",
       " ('/content/test/data/African/m.01lmtl/m.01lmtl_0001.jpg', 0),\n",
       " ('/content/test/data/African/m.01lqkw_/m.01lqkw__0002.jpg', 1),\n",
       " ('/content/test/data/African/m.01m0w5f/m.01m0w5f_0003.jpg', 1),\n",
       " ('/content/test/data/African/m.01m3hxr/m.01m3hxr_0005.jpg', 1),\n",
       " ('/content/test/data/African/m.01m40k5/m.01m40k5_0002.jpg', 1),\n",
       " ('/content/test/data/African/m.01mq7_r/m.01mq7_r_0004.jpg', 1),\n",
       " ('/content/test/data/African/m.01mrnp/m.01mrnp_0002.jpg', 0),\n",
       " ('/content/test/data/African/m.01n9lqm/m.01n9lqm_0001.jpg', 0),\n",
       " ('/content/test/data/African/m.01n_yjl/m.01n_yjl_0003.jpg', 1),\n",
       " ('/content/test/data/African/m.01ncw1x/m.01ncw1x_0001.jpg', 1),\n",
       " ('/content/test/data/African/m.01p_2jx/m.01p_2jx_0002.jpg', 0),\n",
       " ('/content/test/data/African/m.01pmcd/m.01pmcd_0003.jpg', 1),\n",
       " ('/content/test/data/African/m.01qc8lm/m.01qc8lm_0001.jpg', 1),\n",
       " ('/content/test/data/African/m.01rpncp/m.01rpncp_0001.jpg', 1),\n",
       " ('/content/test/data/African/m.01s1zk/m.01s1zk_0001.jpg', 0),\n",
       " ('/content/test/data/African/m.01s1zk/m.01s1zk_0002.jpg', 0),\n",
       " ('/content/test/data/African/m.01s1zk/m.01s1zk_0003.jpg', 1),\n",
       " ('/content/test/data/African/m.01s1zk/m.01s1zk_0005.jpg', 0),\n",
       " ('/content/test/data/African/m.01sgd8/m.01sgd8_0003.jpg', 1),\n",
       " ('/content/test/data/African/m.01svhqq/m.01svhqq_0004.jpg', 1),\n",
       " ('/content/test/data/African/m.01szrr/m.01szrr_0003.jpg', 0),\n",
       " ('/content/test/data/African/m.01t96y/m.01t96y_0001.jpg', 0),\n",
       " ('/content/test/data/African/m.01t96y/m.01t96y_0002.jpg', 1),\n",
       " ('/content/test/data/African/m.01t_ncc/m.01t_ncc_0004.jpg', 1),\n",
       " ('/content/test/data/African/m.01t_syq/m.01t_syq_0002.jpg', 1),\n",
       " ('/content/test/data/African/m.01t_syq/m.01t_syq_0003.jpg', 1),\n",
       " ('/content/test/data/African/m.01tqrj3/m.01tqrj3_0001.jpg', 0),\n",
       " ('/content/test/data/African/m.01twq8c/m.01twq8c_0003.jpg', 0),\n",
       " ('/content/test/data/African/m.01vw5v0/m.01vw5v0_0001.jpg', 0),\n",
       " ('/content/test/data/African/m.01vw5v0/m.01vw5v0_0002.jpg', 0),\n",
       " ('/content/test/data/African/m.01w0zk1/m.01w0zk1_0001.jpg', 1),\n",
       " ('/content/test/data/African/m.01w495w/m.01w495w_0001.jpg', 0),\n",
       " ('/content/test/data/African/m.01w6m_0/m.01w6m_0_0003.jpg', 0),\n",
       " ('/content/test/data/African/m.01w6m_0/m.01w6m_0_0004.jpg', 0),\n",
       " ('/content/test/data/African/m.01wnf57/m.01wnf57_0002.jpg', 0),\n",
       " ('/content/test/data/African/m.01ws2cd/m.01ws2cd_0002.jpg', 1),\n",
       " ('/content/test/data/African/m.01x7ys/m.01x7ys_0003.jpg', 1),\n",
       " ('/content/test/data/African/m.022w90/m.022w90_0002.jpg', 1),\n",
       " ('/content/test/data/African/m.024trx/m.024trx_0004.jpg', 1),\n",
       " ('/content/test/data/African/m.025_v3b/m.025_v3b_0002.jpg', 0),\n",
       " ('/content/test/data/African/m.0261fv6/m.0261fv6_0002.jpg', 0),\n",
       " ('/content/test/data/African/m.02623yx/m.02623yx_0001.jpg', 0),\n",
       " ('/content/test/data/African/m.02686yy/m.02686yy_0002.jpg', 0),\n",
       " ('/content/test/data/African/m.0268nqw/m.0268nqw_0003.jpg', 0)]"
      ]
     },
     "execution_count": 210,
     "metadata": {
      "tags": []
     },
     "output_type": "execute_result"
    }
   ],
   "source": [
    "sorted(preadaptation_dataloader.dataset.samples, key=lambda x: x[0]) # практически нет одинаковых людей в одном кластере"
   ]
  },
  {
   "cell_type": "markdown",
   "metadata": {
    "id": "pFyv1Y-khPQ1"
   },
   "source": [
    "Надеюсь, это все моя модель, у вас будет ок"
   ]
  },
  {
   "cell_type": "code",
   "execution_count": null,
   "metadata": {
    "id": "ddxVplmvojJE"
   },
   "outputs": [],
   "source": [
    "from iman_steps import cluster, get_data_for_preadaptation, preadaptation_epoch\n",
    "from scoring import ArcFaceScoring, LinearScoring"
   ]
  },
  {
   "cell_type": "code",
   "execution_count": null,
   "metadata": {
    "id": "0yToXwams5l8"
   },
   "outputs": [],
   "source": [
    "emb_size = 256\n",
    "n_labels = len(set([x[1] for x in preadaptation_dataloader.dataset.samples]))\n",
    "\n",
    "target_domain_scoring = LinearScoring(emb_size, n_labels).to(device) # В статье говорят, что \n",
    "# если преадаптацию проводить с ArcFace в качестве target_domain_scoring (модель IMAN*-A), то качество выше."
   ]
  },
  {
   "cell_type": "code",
   "execution_count": null,
   "metadata": {
    "id": "lJke_r9r2yTb"
   },
   "outputs": [],
   "source": [
    "optimizer = torch.optim.SGD([\n",
    "                {'params': model.parameters(), 'lr': 0.001},\n",
    "                {'params': target_domain_scoring.parameters(), 'lr': 0.001}\n",
    "            ], momentum=0.9)"
   ]
  },
  {
   "cell_type": "code",
   "execution_count": null,
   "metadata": {
    "colab": {
     "base_uri": "https://localhost:8080/",
     "height": 149,
     "referenced_widgets": [
      "4e16a001b8ed4926ab423a40811f1f61",
      "129dfe51a945496cac384d04ea9fb17f",
      "a70dc216e97944c0b14dfbb853918195",
      "4a00126960874d8a8e2b536a68ce7213",
      "e2b6105cdb0e43d88112025877732738",
      "7cb083d82366403fad6ff3cc9d33847c",
      "2b18d4d879484fd49515d6d161279d55",
      "8dc4de00490442bc9cd2f75783351976",
      "86d4771eba944254945a0ccfe3ae2b8b",
      "0b90dccb2eee4f1e8108c122e56bb421",
      "f634124d774a465699d0ff07efa44dfd",
      "01de435b10cf445d959d960921d29e3f",
      "3aef72d451fa4f55955593707177cf8f",
      "1e49e2bb54a24f358b819c64d53a1b03",
      "0e4676ee9e6f4e278da7ade26c355b40",
      "728d93bd7a224e9297cb60e4ccf18300"
     ]
    },
    "id": "j_UykmKsqG77",
    "outputId": "f6f56664-90bf-464e-8f5d-e4a787d80ddc"
   },
   "outputs": [
    {
     "data": {
      "application/vnd.jupyter.widget-view+json": {
       "model_id": "4e16a001b8ed4926ab423a40811f1f61",
       "version_major": 2,
       "version_minor": 0
      },
      "text/plain": [
       "HBox(children=(FloatProgress(value=0.0, description='epoch progress', max=29.0, style=ProgressStyle(descriptio…"
      ]
     },
     "metadata": {
      "tags": []
     },
     "output_type": "display_data"
    },
    {
     "name": "stdout",
     "output_type": "stream",
     "text": [
      "\n",
      "Epoch #1: loss: 0.66184, lr: 0.001\n"
     ]
    },
    {
     "data": {
      "application/vnd.jupyter.widget-view+json": {
       "model_id": "86d4771eba944254945a0ccfe3ae2b8b",
       "version_major": 2,
       "version_minor": 0
      },
      "text/plain": [
       "HBox(children=(FloatProgress(value=0.0, description='epoch progress', max=29.0, style=ProgressStyle(descriptio…"
      ]
     },
     "metadata": {
      "tags": []
     },
     "output_type": "display_data"
    },
    {
     "name": "stdout",
     "output_type": "stream",
     "text": [
      "\n",
      "Epoch #2: loss: 0.596991, lr: 0.001\n"
     ]
    }
   ],
   "source": [
    "n_epochs = 2\n",
    "\n",
    "losses = []\n",
    "\n",
    "for epoch in range(1, n_epochs + 1):\n",
    "\n",
    "  epoch_losses = preadaptation_epoch(model, preadaptation_dataloader, \n",
    "                                     target_domain_scoring, optimizer, device)\n",
    "  losses += epoch_losses\n",
    "\n",
    "  # val_metric = evaluate(model, validation_loader, device) # roc_auc or accuracy\n",
    "  # if val_metric > best_val_metric:\n",
    "    # best_val_metric = val_metric\n",
    "    # torch.save(model.state_dict(), path)\n",
    "\n",
    "  # scheduler.step()\n",
    "\n",
    "  # display.clear_output(wait=True)\n",
    "  lr = optimizer.param_groups[0]['lr']\n",
    "  print(\"Epoch #{}: loss: {:.6}, lr: {}\".format(epoch, np.mean(epoch_losses), lr))"
   ]
  },
  {
   "cell_type": "markdown",
   "metadata": {
    "id": "rPFyGGCC6yx0"
   },
   "source": [
    "наверное, стоит заморозить модель, пока на pre-adaptation впервые обучаем таргет домейн скоринг?"
   ]
  },
  {
   "cell_type": "markdown",
   "metadata": {
    "id": "m6t6BzUv614m"
   },
   "source": [
    "## Stage-3: MI-adaptation"
   ]
  },
  {
   "cell_type": "code",
   "execution_count": null,
   "metadata": {
    "id": "J-EvUlTx2UF3"
   },
   "outputs": [],
   "source": [
    "from iman_steps import mi_adaptation_epoch"
   ]
  },
  {
   "cell_type": "code",
   "execution_count": null,
   "metadata": {
    "id": "RrRhQSIH8ASc"
   },
   "outputs": [],
   "source": [
    "alpha, beta, gamma = 2, 5, 0.2 # paper, page 6, \"Implementation detail\"\n",
    "\n",
    "optimizer = torch.optim.SGD([\n",
    "                {'params': model.parameters(), 'lr': 0.001},\n",
    "                {'params': target_domain_scoring.parameters(), 'lr': 0.001}\n",
    "            ], momentum=0.9)\n",
    "\n",
    "target_domain_miadaptation_loader = torch.utils.data.DataLoader(\n",
    "    target_domain_dataset, batch_size=32, shuffle=True,\n",
    "    num_workers=2, pin_memory=True, drop_last=True)\n",
    "\n",
    "source_domain_miadaptation_loader = torch.utils.data.DataLoader(\n",
    "    source_domain_dataset, batch_size=32, shuffle=True,\n",
    "    num_workers=2, pin_memory=True, drop_last=True)"
   ]
  },
  {
   "cell_type": "code",
   "execution_count": null,
   "metadata": {
    "colab": {
     "base_uri": "https://localhost:8080/",
     "height": 254,
     "referenced_widgets": [
      "648f6884b3514132b202b28d02dc5555",
      "abbe70e6829e455c85bd18725354f16a",
      "1d62c6ac1f3c40a088b94a6e5bdaada1",
      "d0bfeb520ff043c3b6eca1f439b9abbf",
      "b2438d26ab4147118fd6607200dafb82",
      "22762b055c7542fcabdf2b9134011414",
      "23d6e2a4735a4b16b65d041992e32dc5",
      "7815799c90e2420f9806cfae1c3c9527",
      "ffe8a87dda7049989210b55c6dc3ed58",
      "65371c9e9aef4ab1af02304311d88ed1",
      "cc87f18e6547415fa3a874a98007e9aa",
      "64718b59497146f3b5c984460cdda096",
      "9b4228442a2441698e7f9ef3cd17b3c1",
      "1ad278c43da74b98a428aae29e81b0aa",
      "910d804814984359b2ee8f013ec1c6b9",
      "1254fc56448a4b5db3806d282e216636"
     ]
    },
    "id": "ADTCk2IivqXh",
    "outputId": "29195b66-5de3-44bd-9e58-aa80d34b1f95"
   },
   "outputs": [
    {
     "data": {
      "application/vnd.jupyter.widget-view+json": {
       "model_id": "648f6884b3514132b202b28d02dc5555",
       "version_major": 2,
       "version_minor": 0
      },
      "text/plain": [
       "HBox(children=(FloatProgress(value=0.0, description='epoch progress', max=31.0, style=ProgressStyle(descriptio…"
      ]
     },
     "metadata": {
      "tags": []
     },
     "output_type": "display_data"
    },
    {
     "name": "stderr",
     "output_type": "stream",
     "text": [
      "/content/resnet50_256_corrected.py:187: UserWarning: This overload of add is deprecated:\n",
      "\tadd(Tensor input, Number alpha, Tensor other, *, Tensor out)\n",
      "Consider using one of the following signatures instead:\n",
      "\tadd(Tensor input, Tensor other, *, Number alpha, Tensor out) (Triggered internally at  /pytorch/torch/csrc/utils/python_arg_parser.cpp:882.)\n",
      "  conv2_1 = torch.add(conv2_1_1x1_proj_bn, 1, conv2_1_1x1_increase_bn)\n"
     ]
    },
    {
     "name": "stdout",
     "output_type": "stream",
     "text": [
      "\n",
      "Epoch #1: loss: 41.9878, source clf loss: 9.60949, mmd: 14.2025, mi loss: 0.794656, lr: 0.001\n"
     ]
    },
    {
     "data": {
      "application/vnd.jupyter.widget-view+json": {
       "model_id": "ffe8a87dda7049989210b55c6dc3ed58",
       "version_major": 2,
       "version_minor": 0
      },
      "text/plain": [
       "HBox(children=(FloatProgress(value=0.0, description='epoch progress', max=31.0, style=ProgressStyle(descriptio…"
      ]
     },
     "metadata": {
      "tags": []
     },
     "output_type": "display_data"
    },
    {
     "name": "stdout",
     "output_type": "stream",
     "text": [
      "\n",
      "Epoch #2: loss: 13.0937, source clf loss: 9.06696, mmd: 0.39694, mi loss: 0.646568, lr: 0.001\n"
     ]
    }
   ],
   "source": [
    "n_epochs = 2\n",
    "\n",
    "losses, s_clf_losses, mmd_losses, mi_losses = [], [], [], []\n",
    "\n",
    "for epoch in range(1, n_epochs + 1):\n",
    "\n",
    "  epoch_losses, epoch_s_clf_losses, epoch_mmd_losses, epoch_mi_losses \\\n",
    "                 = mi_adaptation_epoch(model, target_domain_scoring,\n",
    "                                       source_domain_miadaptation_loader, \n",
    "                                       target_domain_miadaptation_loader, \n",
    "                                       optimizer, device, alpha, beta, gamma)\n",
    "  losses += epoch_losses\n",
    "  s_clf_losses += epoch_s_clf_losses\n",
    "  mmd_losses += epoch_mmd_losses\n",
    "  mi_losses += epoch_mi_losses\n",
    "\n",
    "  # val_metric = evaluate(model, validation_loader, device) # roc_auc or accuracy\n",
    "  # if val_metric > best_val_metric:\n",
    "    # best_val_metric = val_metric\n",
    "    # torch.save(model.state_dict(), path)\n",
    "\n",
    "  # scheduler.step()\n",
    "\n",
    "  # display.clear_output(wait=True)\n",
    "  lr = optimizer.param_groups[0]['lr']\n",
    "  print(\"Epoch #{}: loss: {:.6}, source clf loss: {:.6}, mmd: {:.6}, mi loss: {:.6}, lr: {}\"\\\n",
    "        .format(epoch, np.mean(epoch_losses), np.mean(epoch_s_clf_losses), \n",
    "                np.mean(epoch_mmd_losses), np.mean(epoch_mi_losses), lr))"
   ]
  },
  {
   "cell_type": "markdown",
   "metadata": {
    "id": "tsDHzcQ866qf"
   },
   "source": [
    "Еще в статье говорят, что если несколько раз, итеративно обучать этапы 2 и 3, то качество еще лучше."
   ]
  },
  {
   "cell_type": "code",
   "execution_count": null,
   "metadata": {
    "id": "yGP5sgWV95v9"
   },
   "outputs": [],
   "source": []
  }
 ],
 "metadata": {
  "accelerator": "GPU",
  "colab": {
   "collapsed_sections": [],
   "name": "Untitled",
   "provenance": []
  },
  "kernelspec": {
   "display_name": "Python 3",
   "language": "python",
   "name": "python3"
  },
  "language_info": {
   "codemirror_mode": {
    "name": "ipython",
    "version": 3
   },
   "file_extension": ".py",
   "mimetype": "text/x-python",
   "name": "python",
   "nbconvert_exporter": "python",
   "pygments_lexer": "ipython3",
   "version": "3.7.4"
  },
  "widgets": {
   "application/vnd.jupyter.widget-state+json": {
    "01de435b10cf445d959d960921d29e3f": {
     "model_module": "@jupyter-widgets/controls",
     "model_name": "HTMLModel",
     "state": {
      "_dom_classes": [],
      "_model_module": "@jupyter-widgets/controls",
      "_model_module_version": "1.5.0",
      "_model_name": "HTMLModel",
      "_view_count": null,
      "_view_module": "@jupyter-widgets/controls",
      "_view_module_version": "1.5.0",
      "_view_name": "HTMLView",
      "description": "",
      "description_tooltip": null,
      "layout": "IPY_MODEL_728d93bd7a224e9297cb60e4ccf18300",
      "placeholder": "​",
      "style": "IPY_MODEL_0e4676ee9e6f4e278da7ade26c355b40",
      "value": " 29/29 [05:47&lt;00:00, 11.98s/it]"
     }
    },
    "030600056e1647c687652d1ebd3f6837": {
     "model_module": "@jupyter-widgets/base",
     "model_name": "LayoutModel",
     "state": {
      "_model_module": "@jupyter-widgets/base",
      "_model_module_version": "1.2.0",
      "_model_name": "LayoutModel",
      "_view_count": null,
      "_view_module": "@jupyter-widgets/base",
      "_view_module_version": "1.2.0",
      "_view_name": "LayoutView",
      "align_content": null,
      "align_items": null,
      "align_self": null,
      "border": null,
      "bottom": null,
      "display": null,
      "flex": null,
      "flex_flow": null,
      "grid_area": null,
      "grid_auto_columns": null,
      "grid_auto_flow": null,
      "grid_auto_rows": null,
      "grid_column": null,
      "grid_gap": null,
      "grid_row": null,
      "grid_template_areas": null,
      "grid_template_columns": null,
      "grid_template_rows": null,
      "height": null,
      "justify_content": null,
      "justify_items": null,
      "left": null,
      "margin": null,
      "max_height": null,
      "max_width": null,
      "min_height": null,
      "min_width": null,
      "object_fit": null,
      "object_position": null,
      "order": null,
      "overflow": null,
      "overflow_x": null,
      "overflow_y": null,
      "padding": null,
      "right": null,
      "top": null,
      "visibility": null,
      "width": null
     }
    },
    "0a404d85b8854de7a548587fc83c3484": {
     "model_module": "@jupyter-widgets/base",
     "model_name": "LayoutModel",
     "state": {
      "_model_module": "@jupyter-widgets/base",
      "_model_module_version": "1.2.0",
      "_model_name": "LayoutModel",
      "_view_count": null,
      "_view_module": "@jupyter-widgets/base",
      "_view_module_version": "1.2.0",
      "_view_name": "LayoutView",
      "align_content": null,
      "align_items": null,
      "align_self": null,
      "border": null,
      "bottom": null,
      "display": null,
      "flex": null,
      "flex_flow": null,
      "grid_area": null,
      "grid_auto_columns": null,
      "grid_auto_flow": null,
      "grid_auto_rows": null,
      "grid_column": null,
      "grid_gap": null,
      "grid_row": null,
      "grid_template_areas": null,
      "grid_template_columns": null,
      "grid_template_rows": null,
      "height": null,
      "justify_content": null,
      "justify_items": null,
      "left": null,
      "margin": null,
      "max_height": null,
      "max_width": null,
      "min_height": null,
      "min_width": null,
      "object_fit": null,
      "object_position": null,
      "order": null,
      "overflow": null,
      "overflow_x": null,
      "overflow_y": null,
      "padding": null,
      "right": null,
      "top": null,
      "visibility": null,
      "width": null
     }
    },
    "0b90dccb2eee4f1e8108c122e56bb421": {
     "model_module": "@jupyter-widgets/base",
     "model_name": "LayoutModel",
     "state": {
      "_model_module": "@jupyter-widgets/base",
      "_model_module_version": "1.2.0",
      "_model_name": "LayoutModel",
      "_view_count": null,
      "_view_module": "@jupyter-widgets/base",
      "_view_module_version": "1.2.0",
      "_view_name": "LayoutView",
      "align_content": null,
      "align_items": null,
      "align_self": null,
      "border": null,
      "bottom": null,
      "display": null,
      "flex": null,
      "flex_flow": null,
      "grid_area": null,
      "grid_auto_columns": null,
      "grid_auto_flow": null,
      "grid_auto_rows": null,
      "grid_column": null,
      "grid_gap": null,
      "grid_row": null,
      "grid_template_areas": null,
      "grid_template_columns": null,
      "grid_template_rows": null,
      "height": null,
      "justify_content": null,
      "justify_items": null,
      "left": null,
      "margin": null,
      "max_height": null,
      "max_width": null,
      "min_height": null,
      "min_width": null,
      "object_fit": null,
      "object_position": null,
      "order": null,
      "overflow": null,
      "overflow_x": null,
      "overflow_y": null,
      "padding": null,
      "right": null,
      "top": null,
      "visibility": null,
      "width": null
     }
    },
    "0e4676ee9e6f4e278da7ade26c355b40": {
     "model_module": "@jupyter-widgets/controls",
     "model_name": "DescriptionStyleModel",
     "state": {
      "_model_module": "@jupyter-widgets/controls",
      "_model_module_version": "1.5.0",
      "_model_name": "DescriptionStyleModel",
      "_view_count": null,
      "_view_module": "@jupyter-widgets/base",
      "_view_module_version": "1.2.0",
      "_view_name": "StyleView",
      "description_width": ""
     }
    },
    "10f2eaf4f165464b9225931a396f2890": {
     "model_module": "@jupyter-widgets/controls",
     "model_name": "ProgressStyleModel",
     "state": {
      "_model_module": "@jupyter-widgets/controls",
      "_model_module_version": "1.5.0",
      "_model_name": "ProgressStyleModel",
      "_view_count": null,
      "_view_module": "@jupyter-widgets/base",
      "_view_module_version": "1.2.0",
      "_view_name": "StyleView",
      "bar_color": null,
      "description_width": "initial"
     }
    },
    "1254fc56448a4b5db3806d282e216636": {
     "model_module": "@jupyter-widgets/base",
     "model_name": "LayoutModel",
     "state": {
      "_model_module": "@jupyter-widgets/base",
      "_model_module_version": "1.2.0",
      "_model_name": "LayoutModel",
      "_view_count": null,
      "_view_module": "@jupyter-widgets/base",
      "_view_module_version": "1.2.0",
      "_view_name": "LayoutView",
      "align_content": null,
      "align_items": null,
      "align_self": null,
      "border": null,
      "bottom": null,
      "display": null,
      "flex": null,
      "flex_flow": null,
      "grid_area": null,
      "grid_auto_columns": null,
      "grid_auto_flow": null,
      "grid_auto_rows": null,
      "grid_column": null,
      "grid_gap": null,
      "grid_row": null,
      "grid_template_areas": null,
      "grid_template_columns": null,
      "grid_template_rows": null,
      "height": null,
      "justify_content": null,
      "justify_items": null,
      "left": null,
      "margin": null,
      "max_height": null,
      "max_width": null,
      "min_height": null,
      "min_width": null,
      "object_fit": null,
      "object_position": null,
      "order": null,
      "overflow": null,
      "overflow_x": null,
      "overflow_y": null,
      "padding": null,
      "right": null,
      "top": null,
      "visibility": null,
      "width": null
     }
    },
    "129dfe51a945496cac384d04ea9fb17f": {
     "model_module": "@jupyter-widgets/base",
     "model_name": "LayoutModel",
     "state": {
      "_model_module": "@jupyter-widgets/base",
      "_model_module_version": "1.2.0",
      "_model_name": "LayoutModel",
      "_view_count": null,
      "_view_module": "@jupyter-widgets/base",
      "_view_module_version": "1.2.0",
      "_view_name": "LayoutView",
      "align_content": null,
      "align_items": null,
      "align_self": null,
      "border": null,
      "bottom": null,
      "display": null,
      "flex": null,
      "flex_flow": null,
      "grid_area": null,
      "grid_auto_columns": null,
      "grid_auto_flow": null,
      "grid_auto_rows": null,
      "grid_column": null,
      "grid_gap": null,
      "grid_row": null,
      "grid_template_areas": null,
      "grid_template_columns": null,
      "grid_template_rows": null,
      "height": null,
      "justify_content": null,
      "justify_items": null,
      "left": null,
      "margin": null,
      "max_height": null,
      "max_width": null,
      "min_height": null,
      "min_width": null,
      "object_fit": null,
      "object_position": null,
      "order": null,
      "overflow": null,
      "overflow_x": null,
      "overflow_y": null,
      "padding": null,
      "right": null,
      "top": null,
      "visibility": null,
      "width": null
     }
    },
    "152d83f4b91e477b8dc4d8cb32b21824": {
     "model_module": "@jupyter-widgets/controls",
     "model_name": "HTMLModel",
     "state": {
      "_dom_classes": [],
      "_model_module": "@jupyter-widgets/controls",
      "_model_module_version": "1.5.0",
      "_model_name": "HTMLModel",
      "_view_count": null,
      "_view_module": "@jupyter-widgets/controls",
      "_view_module_version": "1.5.0",
      "_view_name": "HTMLView",
      "description": "",
      "description_tooltip": null,
      "layout": "IPY_MODEL_0a404d85b8854de7a548587fc83c3484",
      "placeholder": "​",
      "style": "IPY_MODEL_4a63b1b6edd94531955194aa4d2f23db",
      "value": " 31/31 [02:40&lt;00:00,  5.19s/it]"
     }
    },
    "1ad278c43da74b98a428aae29e81b0aa": {
     "model_module": "@jupyter-widgets/base",
     "model_name": "LayoutModel",
     "state": {
      "_model_module": "@jupyter-widgets/base",
      "_model_module_version": "1.2.0",
      "_model_name": "LayoutModel",
      "_view_count": null,
      "_view_module": "@jupyter-widgets/base",
      "_view_module_version": "1.2.0",
      "_view_name": "LayoutView",
      "align_content": null,
      "align_items": null,
      "align_self": null,
      "border": null,
      "bottom": null,
      "display": null,
      "flex": null,
      "flex_flow": null,
      "grid_area": null,
      "grid_auto_columns": null,
      "grid_auto_flow": null,
      "grid_auto_rows": null,
      "grid_column": null,
      "grid_gap": null,
      "grid_row": null,
      "grid_template_areas": null,
      "grid_template_columns": null,
      "grid_template_rows": null,
      "height": null,
      "justify_content": null,
      "justify_items": null,
      "left": null,
      "margin": null,
      "max_height": null,
      "max_width": null,
      "min_height": null,
      "min_width": null,
      "object_fit": null,
      "object_position": null,
      "order": null,
      "overflow": null,
      "overflow_x": null,
      "overflow_y": null,
      "padding": null,
      "right": null,
      "top": null,
      "visibility": null,
      "width": null
     }
    },
    "1d62c6ac1f3c40a088b94a6e5bdaada1": {
     "model_module": "@jupyter-widgets/controls",
     "model_name": "FloatProgressModel",
     "state": {
      "_dom_classes": [],
      "_model_module": "@jupyter-widgets/controls",
      "_model_module_version": "1.5.0",
      "_model_name": "FloatProgressModel",
      "_view_count": null,
      "_view_module": "@jupyter-widgets/controls",
      "_view_module_version": "1.5.0",
      "_view_name": "ProgressView",
      "bar_style": "success",
      "description": "epoch progress: 100%",
      "description_tooltip": null,
      "layout": "IPY_MODEL_22762b055c7542fcabdf2b9134011414",
      "max": 31,
      "min": 0,
      "orientation": "horizontal",
      "style": "IPY_MODEL_b2438d26ab4147118fd6607200dafb82",
      "value": 31
     }
    },
    "1e49e2bb54a24f358b819c64d53a1b03": {
     "model_module": "@jupyter-widgets/base",
     "model_name": "LayoutModel",
     "state": {
      "_model_module": "@jupyter-widgets/base",
      "_model_module_version": "1.2.0",
      "_model_name": "LayoutModel",
      "_view_count": null,
      "_view_module": "@jupyter-widgets/base",
      "_view_module_version": "1.2.0",
      "_view_name": "LayoutView",
      "align_content": null,
      "align_items": null,
      "align_self": null,
      "border": null,
      "bottom": null,
      "display": null,
      "flex": null,
      "flex_flow": null,
      "grid_area": null,
      "grid_auto_columns": null,
      "grid_auto_flow": null,
      "grid_auto_rows": null,
      "grid_column": null,
      "grid_gap": null,
      "grid_row": null,
      "grid_template_areas": null,
      "grid_template_columns": null,
      "grid_template_rows": null,
      "height": null,
      "justify_content": null,
      "justify_items": null,
      "left": null,
      "margin": null,
      "max_height": null,
      "max_width": null,
      "min_height": null,
      "min_width": null,
      "object_fit": null,
      "object_position": null,
      "order": null,
      "overflow": null,
      "overflow_x": null,
      "overflow_y": null,
      "padding": null,
      "right": null,
      "top": null,
      "visibility": null,
      "width": null
     }
    },
    "1f12e50e9f0649b9b0f298445ce1ab2c": {
     "model_module": "@jupyter-widgets/base",
     "model_name": "LayoutModel",
     "state": {
      "_model_module": "@jupyter-widgets/base",
      "_model_module_version": "1.2.0",
      "_model_name": "LayoutModel",
      "_view_count": null,
      "_view_module": "@jupyter-widgets/base",
      "_view_module_version": "1.2.0",
      "_view_name": "LayoutView",
      "align_content": null,
      "align_items": null,
      "align_self": null,
      "border": null,
      "bottom": null,
      "display": null,
      "flex": null,
      "flex_flow": null,
      "grid_area": null,
      "grid_auto_columns": null,
      "grid_auto_flow": null,
      "grid_auto_rows": null,
      "grid_column": null,
      "grid_gap": null,
      "grid_row": null,
      "grid_template_areas": null,
      "grid_template_columns": null,
      "grid_template_rows": null,
      "height": null,
      "justify_content": null,
      "justify_items": null,
      "left": null,
      "margin": null,
      "max_height": null,
      "max_width": null,
      "min_height": null,
      "min_width": null,
      "object_fit": null,
      "object_position": null,
      "order": null,
      "overflow": null,
      "overflow_x": null,
      "overflow_y": null,
      "padding": null,
      "right": null,
      "top": null,
      "visibility": null,
      "width": null
     }
    },
    "1f71cc0d9d0241dbacd56b75a568c205": {
     "model_module": "@jupyter-widgets/base",
     "model_name": "LayoutModel",
     "state": {
      "_model_module": "@jupyter-widgets/base",
      "_model_module_version": "1.2.0",
      "_model_name": "LayoutModel",
      "_view_count": null,
      "_view_module": "@jupyter-widgets/base",
      "_view_module_version": "1.2.0",
      "_view_name": "LayoutView",
      "align_content": null,
      "align_items": null,
      "align_self": null,
      "border": null,
      "bottom": null,
      "display": null,
      "flex": null,
      "flex_flow": null,
      "grid_area": null,
      "grid_auto_columns": null,
      "grid_auto_flow": null,
      "grid_auto_rows": null,
      "grid_column": null,
      "grid_gap": null,
      "grid_row": null,
      "grid_template_areas": null,
      "grid_template_columns": null,
      "grid_template_rows": null,
      "height": null,
      "justify_content": null,
      "justify_items": null,
      "left": null,
      "margin": null,
      "max_height": null,
      "max_width": null,
      "min_height": null,
      "min_width": null,
      "object_fit": null,
      "object_position": null,
      "order": null,
      "overflow": null,
      "overflow_x": null,
      "overflow_y": null,
      "padding": null,
      "right": null,
      "top": null,
      "visibility": null,
      "width": null
     }
    },
    "21275754a2a240429589e93a658ae088": {
     "model_module": "@jupyter-widgets/controls",
     "model_name": "DescriptionStyleModel",
     "state": {
      "_model_module": "@jupyter-widgets/controls",
      "_model_module_version": "1.5.0",
      "_model_name": "DescriptionStyleModel",
      "_view_count": null,
      "_view_module": "@jupyter-widgets/base",
      "_view_module_version": "1.2.0",
      "_view_name": "StyleView",
      "description_width": ""
     }
    },
    "22762b055c7542fcabdf2b9134011414": {
     "model_module": "@jupyter-widgets/base",
     "model_name": "LayoutModel",
     "state": {
      "_model_module": "@jupyter-widgets/base",
      "_model_module_version": "1.2.0",
      "_model_name": "LayoutModel",
      "_view_count": null,
      "_view_module": "@jupyter-widgets/base",
      "_view_module_version": "1.2.0",
      "_view_name": "LayoutView",
      "align_content": null,
      "align_items": null,
      "align_self": null,
      "border": null,
      "bottom": null,
      "display": null,
      "flex": null,
      "flex_flow": null,
      "grid_area": null,
      "grid_auto_columns": null,
      "grid_auto_flow": null,
      "grid_auto_rows": null,
      "grid_column": null,
      "grid_gap": null,
      "grid_row": null,
      "grid_template_areas": null,
      "grid_template_columns": null,
      "grid_template_rows": null,
      "height": null,
      "justify_content": null,
      "justify_items": null,
      "left": null,
      "margin": null,
      "max_height": null,
      "max_width": null,
      "min_height": null,
      "min_width": null,
      "object_fit": null,
      "object_position": null,
      "order": null,
      "overflow": null,
      "overflow_x": null,
      "overflow_y": null,
      "padding": null,
      "right": null,
      "top": null,
      "visibility": null,
      "width": null
     }
    },
    "23d6e2a4735a4b16b65d041992e32dc5": {
     "model_module": "@jupyter-widgets/controls",
     "model_name": "DescriptionStyleModel",
     "state": {
      "_model_module": "@jupyter-widgets/controls",
      "_model_module_version": "1.5.0",
      "_model_name": "DescriptionStyleModel",
      "_view_count": null,
      "_view_module": "@jupyter-widgets/base",
      "_view_module_version": "1.2.0",
      "_view_name": "StyleView",
      "description_width": ""
     }
    },
    "27bebefd6bad4e99b41e1017e8525d76": {
     "model_module": "@jupyter-widgets/controls",
     "model_name": "FloatProgressModel",
     "state": {
      "_dom_classes": [],
      "_model_module": "@jupyter-widgets/controls",
      "_model_module_version": "1.5.0",
      "_model_name": "FloatProgressModel",
      "_view_count": null,
      "_view_module": "@jupyter-widgets/controls",
      "_view_module_version": "1.5.0",
      "_view_name": "ProgressView",
      "bar_style": "success",
      "description": "extracting embeddings...: 100%",
      "description_tooltip": null,
      "layout": "IPY_MODEL_908deeda7ba04b64a1e960165b6d5f1e",
      "max": 32,
      "min": 0,
      "orientation": "horizontal",
      "style": "IPY_MODEL_5a3d6306976f4feba502ef006c005826",
      "value": 32
     }
    },
    "2b18d4d879484fd49515d6d161279d55": {
     "model_module": "@jupyter-widgets/controls",
     "model_name": "DescriptionStyleModel",
     "state": {
      "_model_module": "@jupyter-widgets/controls",
      "_model_module_version": "1.5.0",
      "_model_name": "DescriptionStyleModel",
      "_view_count": null,
      "_view_module": "@jupyter-widgets/base",
      "_view_module_version": "1.2.0",
      "_view_name": "StyleView",
      "description_width": ""
     }
    },
    "3155ee12e7494ec28208957e428879a7": {
     "model_module": "@jupyter-widgets/base",
     "model_name": "LayoutModel",
     "state": {
      "_model_module": "@jupyter-widgets/base",
      "_model_module_version": "1.2.0",
      "_model_name": "LayoutModel",
      "_view_count": null,
      "_view_module": "@jupyter-widgets/base",
      "_view_module_version": "1.2.0",
      "_view_name": "LayoutView",
      "align_content": null,
      "align_items": null,
      "align_self": null,
      "border": null,
      "bottom": null,
      "display": null,
      "flex": null,
      "flex_flow": null,
      "grid_area": null,
      "grid_auto_columns": null,
      "grid_auto_flow": null,
      "grid_auto_rows": null,
      "grid_column": null,
      "grid_gap": null,
      "grid_row": null,
      "grid_template_areas": null,
      "grid_template_columns": null,
      "grid_template_rows": null,
      "height": null,
      "justify_content": null,
      "justify_items": null,
      "left": null,
      "margin": null,
      "max_height": null,
      "max_width": null,
      "min_height": null,
      "min_width": null,
      "object_fit": null,
      "object_position": null,
      "order": null,
      "overflow": null,
      "overflow_x": null,
      "overflow_y": null,
      "padding": null,
      "right": null,
      "top": null,
      "visibility": null,
      "width": null
     }
    },
    "31a56208c5a34b869fb9c83174216be9": {
     "model_module": "@jupyter-widgets/controls",
     "model_name": "HTMLModel",
     "state": {
      "_dom_classes": [],
      "_model_module": "@jupyter-widgets/controls",
      "_model_module_version": "1.5.0",
      "_model_name": "HTMLModel",
      "_view_count": null,
      "_view_module": "@jupyter-widgets/controls",
      "_view_module_version": "1.5.0",
      "_view_name": "HTMLView",
      "description": "",
      "description_tooltip": null,
      "layout": "IPY_MODEL_edfb041b10714b7dbe319a496068450f",
      "placeholder": "​",
      "style": "IPY_MODEL_9ce9f38635cc46debf43c264b9412b3f",
      "value": " 32/32 [00:05&lt;00:00,  5.63it/s]"
     }
    },
    "36e30155782f491caa8fa8eb27d6ce15": {
     "model_module": "@jupyter-widgets/base",
     "model_name": "LayoutModel",
     "state": {
      "_model_module": "@jupyter-widgets/base",
      "_model_module_version": "1.2.0",
      "_model_name": "LayoutModel",
      "_view_count": null,
      "_view_module": "@jupyter-widgets/base",
      "_view_module_version": "1.2.0",
      "_view_name": "LayoutView",
      "align_content": null,
      "align_items": null,
      "align_self": null,
      "border": null,
      "bottom": null,
      "display": null,
      "flex": null,
      "flex_flow": null,
      "grid_area": null,
      "grid_auto_columns": null,
      "grid_auto_flow": null,
      "grid_auto_rows": null,
      "grid_column": null,
      "grid_gap": null,
      "grid_row": null,
      "grid_template_areas": null,
      "grid_template_columns": null,
      "grid_template_rows": null,
      "height": null,
      "justify_content": null,
      "justify_items": null,
      "left": null,
      "margin": null,
      "max_height": null,
      "max_width": null,
      "min_height": null,
      "min_width": null,
      "object_fit": null,
      "object_position": null,
      "order": null,
      "overflow": null,
      "overflow_x": null,
      "overflow_y": null,
      "padding": null,
      "right": null,
      "top": null,
      "visibility": null,
      "width": null
     }
    },
    "378777a0ec3542c48d8f29803c356892": {
     "model_module": "@jupyter-widgets/controls",
     "model_name": "FloatProgressModel",
     "state": {
      "_dom_classes": [],
      "_model_module": "@jupyter-widgets/controls",
      "_model_module_version": "1.5.0",
      "_model_name": "FloatProgressModel",
      "_view_count": null,
      "_view_module": "@jupyter-widgets/controls",
      "_view_module_version": "1.5.0",
      "_view_name": "ProgressView",
      "bar_style": "success",
      "description": "epoch progress: 100%",
      "description_tooltip": null,
      "layout": "IPY_MODEL_36e30155782f491caa8fa8eb27d6ce15",
      "max": 31,
      "min": 0,
      "orientation": "horizontal",
      "style": "IPY_MODEL_8166d9e3658f47a085955b664463bea9",
      "value": 31
     }
    },
    "3a9a22bab9814d31b6a098c255cff893": {
     "model_module": "@jupyter-widgets/controls",
     "model_name": "ProgressStyleModel",
     "state": {
      "_model_module": "@jupyter-widgets/controls",
      "_model_module_version": "1.5.0",
      "_model_name": "ProgressStyleModel",
      "_view_count": null,
      "_view_module": "@jupyter-widgets/base",
      "_view_module_version": "1.2.0",
      "_view_name": "StyleView",
      "bar_color": null,
      "description_width": "initial"
     }
    },
    "3aef72d451fa4f55955593707177cf8f": {
     "model_module": "@jupyter-widgets/controls",
     "model_name": "ProgressStyleModel",
     "state": {
      "_model_module": "@jupyter-widgets/controls",
      "_model_module_version": "1.5.0",
      "_model_name": "ProgressStyleModel",
      "_view_count": null,
      "_view_module": "@jupyter-widgets/base",
      "_view_module_version": "1.2.0",
      "_view_name": "StyleView",
      "bar_color": null,
      "description_width": "initial"
     }
    },
    "3c8d9b6aba1241ab874a68b8818d0335": {
     "model_module": "@jupyter-widgets/controls",
     "model_name": "HBoxModel",
     "state": {
      "_dom_classes": [],
      "_model_module": "@jupyter-widgets/controls",
      "_model_module_version": "1.5.0",
      "_model_name": "HBoxModel",
      "_view_count": null,
      "_view_module": "@jupyter-widgets/controls",
      "_view_module_version": "1.5.0",
      "_view_name": "HBoxView",
      "box_style": "",
      "children": [
       "IPY_MODEL_378777a0ec3542c48d8f29803c356892",
       "IPY_MODEL_152d83f4b91e477b8dc4d8cb32b21824"
      ],
      "layout": "IPY_MODEL_3e77938f3363419a9b9c59c1410b8b3c"
     }
    },
    "3e77938f3363419a9b9c59c1410b8b3c": {
     "model_module": "@jupyter-widgets/base",
     "model_name": "LayoutModel",
     "state": {
      "_model_module": "@jupyter-widgets/base",
      "_model_module_version": "1.2.0",
      "_model_name": "LayoutModel",
      "_view_count": null,
      "_view_module": "@jupyter-widgets/base",
      "_view_module_version": "1.2.0",
      "_view_name": "LayoutView",
      "align_content": null,
      "align_items": null,
      "align_self": null,
      "border": null,
      "bottom": null,
      "display": null,
      "flex": null,
      "flex_flow": null,
      "grid_area": null,
      "grid_auto_columns": null,
      "grid_auto_flow": null,
      "grid_auto_rows": null,
      "grid_column": null,
      "grid_gap": null,
      "grid_row": null,
      "grid_template_areas": null,
      "grid_template_columns": null,
      "grid_template_rows": null,
      "height": null,
      "justify_content": null,
      "justify_items": null,
      "left": null,
      "margin": null,
      "max_height": null,
      "max_width": null,
      "min_height": null,
      "min_width": null,
      "object_fit": null,
      "object_position": null,
      "order": null,
      "overflow": null,
      "overflow_x": null,
      "overflow_y": null,
      "padding": null,
      "right": null,
      "top": null,
      "visibility": null,
      "width": null
     }
    },
    "3e85d0098f1e4e1dbbd4e13a3f106d0a": {
     "model_module": "@jupyter-widgets/controls",
     "model_name": "FloatProgressModel",
     "state": {
      "_dom_classes": [],
      "_model_module": "@jupyter-widgets/controls",
      "_model_module_version": "1.5.0",
      "_model_name": "FloatProgressModel",
      "_view_count": null,
      "_view_module": "@jupyter-widgets/controls",
      "_view_module_version": "1.5.0",
      "_view_name": "ProgressView",
      "bar_style": "success",
      "description": "calculating cosine similarities...: 100%",
      "description_tooltip": null,
      "layout": "IPY_MODEL_af3609374d5641ea8c0b1d17f23386a2",
      "max": 1000,
      "min": 0,
      "orientation": "horizontal",
      "style": "IPY_MODEL_c4b2fc0d9e4d4bc3a93676c591036d38",
      "value": 1000
     }
    },
    "4a00126960874d8a8e2b536a68ce7213": {
     "model_module": "@jupyter-widgets/controls",
     "model_name": "HTMLModel",
     "state": {
      "_dom_classes": [],
      "_model_module": "@jupyter-widgets/controls",
      "_model_module_version": "1.5.0",
      "_model_name": "HTMLModel",
      "_view_count": null,
      "_view_module": "@jupyter-widgets/controls",
      "_view_module_version": "1.5.0",
      "_view_name": "HTMLView",
      "description": "",
      "description_tooltip": null,
      "layout": "IPY_MODEL_8dc4de00490442bc9cd2f75783351976",
      "placeholder": "​",
      "style": "IPY_MODEL_2b18d4d879484fd49515d6d161279d55",
      "value": " 29/29 [05:57&lt;00:00, 12.32s/it]"
     }
    },
    "4a63b1b6edd94531955194aa4d2f23db": {
     "model_module": "@jupyter-widgets/controls",
     "model_name": "DescriptionStyleModel",
     "state": {
      "_model_module": "@jupyter-widgets/controls",
      "_model_module_version": "1.5.0",
      "_model_name": "DescriptionStyleModel",
      "_view_count": null,
      "_view_module": "@jupyter-widgets/base",
      "_view_module_version": "1.2.0",
      "_view_name": "StyleView",
      "description_width": ""
     }
    },
    "4e16a001b8ed4926ab423a40811f1f61": {
     "model_module": "@jupyter-widgets/controls",
     "model_name": "HBoxModel",
     "state": {
      "_dom_classes": [],
      "_model_module": "@jupyter-widgets/controls",
      "_model_module_version": "1.5.0",
      "_model_name": "HBoxModel",
      "_view_count": null,
      "_view_module": "@jupyter-widgets/controls",
      "_view_module_version": "1.5.0",
      "_view_name": "HBoxView",
      "box_style": "",
      "children": [
       "IPY_MODEL_a70dc216e97944c0b14dfbb853918195",
       "IPY_MODEL_4a00126960874d8a8e2b536a68ce7213"
      ],
      "layout": "IPY_MODEL_129dfe51a945496cac384d04ea9fb17f"
     }
    },
    "4fa311b39be24914a0aa10512dc82fe6": {
     "model_module": "@jupyter-widgets/base",
     "model_name": "LayoutModel",
     "state": {
      "_model_module": "@jupyter-widgets/base",
      "_model_module_version": "1.2.0",
      "_model_name": "LayoutModel",
      "_view_count": null,
      "_view_module": "@jupyter-widgets/base",
      "_view_module_version": "1.2.0",
      "_view_name": "LayoutView",
      "align_content": null,
      "align_items": null,
      "align_self": null,
      "border": null,
      "bottom": null,
      "display": null,
      "flex": null,
      "flex_flow": null,
      "grid_area": null,
      "grid_auto_columns": null,
      "grid_auto_flow": null,
      "grid_auto_rows": null,
      "grid_column": null,
      "grid_gap": null,
      "grid_row": null,
      "grid_template_areas": null,
      "grid_template_columns": null,
      "grid_template_rows": null,
      "height": null,
      "justify_content": null,
      "justify_items": null,
      "left": null,
      "margin": null,
      "max_height": null,
      "max_width": null,
      "min_height": null,
      "min_width": null,
      "object_fit": null,
      "object_position": null,
      "order": null,
      "overflow": null,
      "overflow_x": null,
      "overflow_y": null,
      "padding": null,
      "right": null,
      "top": null,
      "visibility": null,
      "width": null
     }
    },
    "5287769d509e499aaa1da683e7e9a3e2": {
     "model_module": "@jupyter-widgets/controls",
     "model_name": "HBoxModel",
     "state": {
      "_dom_classes": [],
      "_model_module": "@jupyter-widgets/controls",
      "_model_module_version": "1.5.0",
      "_model_name": "HBoxModel",
      "_view_count": null,
      "_view_module": "@jupyter-widgets/controls",
      "_view_module_version": "1.5.0",
      "_view_name": "HBoxView",
      "box_style": "",
      "children": [
       "IPY_MODEL_3e85d0098f1e4e1dbbd4e13a3f106d0a",
       "IPY_MODEL_d3774105d3e241108eafa2a95d5dc2bb"
      ],
      "layout": "IPY_MODEL_fadffa47bea541f5aef2fccc1cb4b45f"
     }
    },
    "5a3d6306976f4feba502ef006c005826": {
     "model_module": "@jupyter-widgets/controls",
     "model_name": "ProgressStyleModel",
     "state": {
      "_model_module": "@jupyter-widgets/controls",
      "_model_module_version": "1.5.0",
      "_model_name": "ProgressStyleModel",
      "_view_count": null,
      "_view_module": "@jupyter-widgets/base",
      "_view_module_version": "1.2.0",
      "_view_name": "StyleView",
      "bar_color": null,
      "description_width": "initial"
     }
    },
    "5cc8b92404ea4f4c981ce13c79176fcf": {
     "model_module": "@jupyter-widgets/controls",
     "model_name": "HBoxModel",
     "state": {
      "_dom_classes": [],
      "_model_module": "@jupyter-widgets/controls",
      "_model_module_version": "1.5.0",
      "_model_name": "HBoxModel",
      "_view_count": null,
      "_view_module": "@jupyter-widgets/controls",
      "_view_module_version": "1.5.0",
      "_view_name": "HBoxView",
      "box_style": "",
      "children": [
       "IPY_MODEL_e58fbfb9f1234638b8e2fa2c58c7b358",
       "IPY_MODEL_31a56208c5a34b869fb9c83174216be9"
      ],
      "layout": "IPY_MODEL_bc75540587b54512b3138795838ccd76"
     }
    },
    "5ce42a04705d45f3864bbda954e15e7a": {
     "model_module": "@jupyter-widgets/controls",
     "model_name": "HTMLModel",
     "state": {
      "_dom_classes": [],
      "_model_module": "@jupyter-widgets/controls",
      "_model_module_version": "1.5.0",
      "_model_name": "HTMLModel",
      "_view_count": null,
      "_view_module": "@jupyter-widgets/controls",
      "_view_module_version": "1.5.0",
      "_view_name": "HTMLView",
      "description": "",
      "description_tooltip": null,
      "layout": "IPY_MODEL_4fa311b39be24914a0aa10512dc82fe6",
      "placeholder": "​",
      "style": "IPY_MODEL_849449a18ff4430f90e39d85db9fe116",
      "value": " 32/32 [00:27&lt;00:00,  1.16it/s]"
     }
    },
    "64718b59497146f3b5c984460cdda096": {
     "model_module": "@jupyter-widgets/controls",
     "model_name": "HTMLModel",
     "state": {
      "_dom_classes": [],
      "_model_module": "@jupyter-widgets/controls",
      "_model_module_version": "1.5.0",
      "_model_name": "HTMLModel",
      "_view_count": null,
      "_view_module": "@jupyter-widgets/controls",
      "_view_module_version": "1.5.0",
      "_view_name": "HTMLView",
      "description": "",
      "description_tooltip": null,
      "layout": "IPY_MODEL_1254fc56448a4b5db3806d282e216636",
      "placeholder": "​",
      "style": "IPY_MODEL_910d804814984359b2ee8f013ec1c6b9",
      "value": " 31/31 [00:20&lt;00:00,  1.48it/s]"
     }
    },
    "648f6884b3514132b202b28d02dc5555": {
     "model_module": "@jupyter-widgets/controls",
     "model_name": "HBoxModel",
     "state": {
      "_dom_classes": [],
      "_model_module": "@jupyter-widgets/controls",
      "_model_module_version": "1.5.0",
      "_model_name": "HBoxModel",
      "_view_count": null,
      "_view_module": "@jupyter-widgets/controls",
      "_view_module_version": "1.5.0",
      "_view_name": "HBoxView",
      "box_style": "",
      "children": [
       "IPY_MODEL_1d62c6ac1f3c40a088b94a6e5bdaada1",
       "IPY_MODEL_d0bfeb520ff043c3b6eca1f439b9abbf"
      ],
      "layout": "IPY_MODEL_abbe70e6829e455c85bd18725354f16a"
     }
    },
    "65371c9e9aef4ab1af02304311d88ed1": {
     "model_module": "@jupyter-widgets/base",
     "model_name": "LayoutModel",
     "state": {
      "_model_module": "@jupyter-widgets/base",
      "_model_module_version": "1.2.0",
      "_model_name": "LayoutModel",
      "_view_count": null,
      "_view_module": "@jupyter-widgets/base",
      "_view_module_version": "1.2.0",
      "_view_name": "LayoutView",
      "align_content": null,
      "align_items": null,
      "align_self": null,
      "border": null,
      "bottom": null,
      "display": null,
      "flex": null,
      "flex_flow": null,
      "grid_area": null,
      "grid_auto_columns": null,
      "grid_auto_flow": null,
      "grid_auto_rows": null,
      "grid_column": null,
      "grid_gap": null,
      "grid_row": null,
      "grid_template_areas": null,
      "grid_template_columns": null,
      "grid_template_rows": null,
      "height": null,
      "justify_content": null,
      "justify_items": null,
      "left": null,
      "margin": null,
      "max_height": null,
      "max_width": null,
      "min_height": null,
      "min_width": null,
      "object_fit": null,
      "object_position": null,
      "order": null,
      "overflow": null,
      "overflow_x": null,
      "overflow_y": null,
      "padding": null,
      "right": null,
      "top": null,
      "visibility": null,
      "width": null
     }
    },
    "728d93bd7a224e9297cb60e4ccf18300": {
     "model_module": "@jupyter-widgets/base",
     "model_name": "LayoutModel",
     "state": {
      "_model_module": "@jupyter-widgets/base",
      "_model_module_version": "1.2.0",
      "_model_name": "LayoutModel",
      "_view_count": null,
      "_view_module": "@jupyter-widgets/base",
      "_view_module_version": "1.2.0",
      "_view_name": "LayoutView",
      "align_content": null,
      "align_items": null,
      "align_self": null,
      "border": null,
      "bottom": null,
      "display": null,
      "flex": null,
      "flex_flow": null,
      "grid_area": null,
      "grid_auto_columns": null,
      "grid_auto_flow": null,
      "grid_auto_rows": null,
      "grid_column": null,
      "grid_gap": null,
      "grid_row": null,
      "grid_template_areas": null,
      "grid_template_columns": null,
      "grid_template_rows": null,
      "height": null,
      "justify_content": null,
      "justify_items": null,
      "left": null,
      "margin": null,
      "max_height": null,
      "max_width": null,
      "min_height": null,
      "min_width": null,
      "object_fit": null,
      "object_position": null,
      "order": null,
      "overflow": null,
      "overflow_x": null,
      "overflow_y": null,
      "padding": null,
      "right": null,
      "top": null,
      "visibility": null,
      "width": null
     }
    },
    "777b98ab41844a2a8039b52e34a7e0c6": {
     "model_module": "@jupyter-widgets/controls",
     "model_name": "ProgressStyleModel",
     "state": {
      "_model_module": "@jupyter-widgets/controls",
      "_model_module_version": "1.5.0",
      "_model_name": "ProgressStyleModel",
      "_view_count": null,
      "_view_module": "@jupyter-widgets/base",
      "_view_module_version": "1.2.0",
      "_view_name": "StyleView",
      "bar_color": null,
      "description_width": "initial"
     }
    },
    "7815799c90e2420f9806cfae1c3c9527": {
     "model_module": "@jupyter-widgets/base",
     "model_name": "LayoutModel",
     "state": {
      "_model_module": "@jupyter-widgets/base",
      "_model_module_version": "1.2.0",
      "_model_name": "LayoutModel",
      "_view_count": null,
      "_view_module": "@jupyter-widgets/base",
      "_view_module_version": "1.2.0",
      "_view_name": "LayoutView",
      "align_content": null,
      "align_items": null,
      "align_self": null,
      "border": null,
      "bottom": null,
      "display": null,
      "flex": null,
      "flex_flow": null,
      "grid_area": null,
      "grid_auto_columns": null,
      "grid_auto_flow": null,
      "grid_auto_rows": null,
      "grid_column": null,
      "grid_gap": null,
      "grid_row": null,
      "grid_template_areas": null,
      "grid_template_columns": null,
      "grid_template_rows": null,
      "height": null,
      "justify_content": null,
      "justify_items": null,
      "left": null,
      "margin": null,
      "max_height": null,
      "max_width": null,
      "min_height": null,
      "min_width": null,
      "object_fit": null,
      "object_position": null,
      "order": null,
      "overflow": null,
      "overflow_x": null,
      "overflow_y": null,
      "padding": null,
      "right": null,
      "top": null,
      "visibility": null,
      "width": null
     }
    },
    "78291fcc28c441dd80af6481159e505e": {
     "model_module": "@jupyter-widgets/base",
     "model_name": "LayoutModel",
     "state": {
      "_model_module": "@jupyter-widgets/base",
      "_model_module_version": "1.2.0",
      "_model_name": "LayoutModel",
      "_view_count": null,
      "_view_module": "@jupyter-widgets/base",
      "_view_module_version": "1.2.0",
      "_view_name": "LayoutView",
      "align_content": null,
      "align_items": null,
      "align_self": null,
      "border": null,
      "bottom": null,
      "display": null,
      "flex": null,
      "flex_flow": null,
      "grid_area": null,
      "grid_auto_columns": null,
      "grid_auto_flow": null,
      "grid_auto_rows": null,
      "grid_column": null,
      "grid_gap": null,
      "grid_row": null,
      "grid_template_areas": null,
      "grid_template_columns": null,
      "grid_template_rows": null,
      "height": null,
      "justify_content": null,
      "justify_items": null,
      "left": null,
      "margin": null,
      "max_height": null,
      "max_width": null,
      "min_height": null,
      "min_width": null,
      "object_fit": null,
      "object_position": null,
      "order": null,
      "overflow": null,
      "overflow_x": null,
      "overflow_y": null,
      "padding": null,
      "right": null,
      "top": null,
      "visibility": null,
      "width": null
     }
    },
    "78e8f2ea10cf456ab04bccddd7de9c61": {
     "model_module": "@jupyter-widgets/controls",
     "model_name": "HBoxModel",
     "state": {
      "_dom_classes": [],
      "_model_module": "@jupyter-widgets/controls",
      "_model_module_version": "1.5.0",
      "_model_name": "HBoxModel",
      "_view_count": null,
      "_view_module": "@jupyter-widgets/controls",
      "_view_module_version": "1.5.0",
      "_view_name": "HBoxView",
      "box_style": "",
      "children": [
       "IPY_MODEL_968dd3ee5f1845e7a8a622e1047f7a3d",
       "IPY_MODEL_eb8374e89e34454a9e5f508002229977"
      ],
      "layout": "IPY_MODEL_a87483a8399f4e9786e39098e9ebb0f9"
     }
    },
    "7cb083d82366403fad6ff3cc9d33847c": {
     "model_module": "@jupyter-widgets/base",
     "model_name": "LayoutModel",
     "state": {
      "_model_module": "@jupyter-widgets/base",
      "_model_module_version": "1.2.0",
      "_model_name": "LayoutModel",
      "_view_count": null,
      "_view_module": "@jupyter-widgets/base",
      "_view_module_version": "1.2.0",
      "_view_name": "LayoutView",
      "align_content": null,
      "align_items": null,
      "align_self": null,
      "border": null,
      "bottom": null,
      "display": null,
      "flex": null,
      "flex_flow": null,
      "grid_area": null,
      "grid_auto_columns": null,
      "grid_auto_flow": null,
      "grid_auto_rows": null,
      "grid_column": null,
      "grid_gap": null,
      "grid_row": null,
      "grid_template_areas": null,
      "grid_template_columns": null,
      "grid_template_rows": null,
      "height": null,
      "justify_content": null,
      "justify_items": null,
      "left": null,
      "margin": null,
      "max_height": null,
      "max_width": null,
      "min_height": null,
      "min_width": null,
      "object_fit": null,
      "object_position": null,
      "order": null,
      "overflow": null,
      "overflow_x": null,
      "overflow_y": null,
      "padding": null,
      "right": null,
      "top": null,
      "visibility": null,
      "width": null
     }
    },
    "7d9a038223f84c3d97b2b2aeecc10067": {
     "model_module": "@jupyter-widgets/controls",
     "model_name": "DescriptionStyleModel",
     "state": {
      "_model_module": "@jupyter-widgets/controls",
      "_model_module_version": "1.5.0",
      "_model_name": "DescriptionStyleModel",
      "_view_count": null,
      "_view_module": "@jupyter-widgets/base",
      "_view_module_version": "1.2.0",
      "_view_name": "StyleView",
      "description_width": ""
     }
    },
    "8166d9e3658f47a085955b664463bea9": {
     "model_module": "@jupyter-widgets/controls",
     "model_name": "ProgressStyleModel",
     "state": {
      "_model_module": "@jupyter-widgets/controls",
      "_model_module_version": "1.5.0",
      "_model_name": "ProgressStyleModel",
      "_view_count": null,
      "_view_module": "@jupyter-widgets/base",
      "_view_module_version": "1.2.0",
      "_view_name": "StyleView",
      "bar_color": null,
      "description_width": "initial"
     }
    },
    "849449a18ff4430f90e39d85db9fe116": {
     "model_module": "@jupyter-widgets/controls",
     "model_name": "DescriptionStyleModel",
     "state": {
      "_model_module": "@jupyter-widgets/controls",
      "_model_module_version": "1.5.0",
      "_model_name": "DescriptionStyleModel",
      "_view_count": null,
      "_view_module": "@jupyter-widgets/base",
      "_view_module_version": "1.2.0",
      "_view_name": "StyleView",
      "description_width": ""
     }
    },
    "8507163a63a845f3a2ab642d1d699be2": {
     "model_module": "@jupyter-widgets/base",
     "model_name": "LayoutModel",
     "state": {
      "_model_module": "@jupyter-widgets/base",
      "_model_module_version": "1.2.0",
      "_model_name": "LayoutModel",
      "_view_count": null,
      "_view_module": "@jupyter-widgets/base",
      "_view_module_version": "1.2.0",
      "_view_name": "LayoutView",
      "align_content": null,
      "align_items": null,
      "align_self": null,
      "border": null,
      "bottom": null,
      "display": null,
      "flex": null,
      "flex_flow": null,
      "grid_area": null,
      "grid_auto_columns": null,
      "grid_auto_flow": null,
      "grid_auto_rows": null,
      "grid_column": null,
      "grid_gap": null,
      "grid_row": null,
      "grid_template_areas": null,
      "grid_template_columns": null,
      "grid_template_rows": null,
      "height": null,
      "justify_content": null,
      "justify_items": null,
      "left": null,
      "margin": null,
      "max_height": null,
      "max_width": null,
      "min_height": null,
      "min_width": null,
      "object_fit": null,
      "object_position": null,
      "order": null,
      "overflow": null,
      "overflow_x": null,
      "overflow_y": null,
      "padding": null,
      "right": null,
      "top": null,
      "visibility": null,
      "width": null
     }
    },
    "86d4771eba944254945a0ccfe3ae2b8b": {
     "model_module": "@jupyter-widgets/controls",
     "model_name": "HBoxModel",
     "state": {
      "_dom_classes": [],
      "_model_module": "@jupyter-widgets/controls",
      "_model_module_version": "1.5.0",
      "_model_name": "HBoxModel",
      "_view_count": null,
      "_view_module": "@jupyter-widgets/controls",
      "_view_module_version": "1.5.0",
      "_view_name": "HBoxView",
      "box_style": "",
      "children": [
       "IPY_MODEL_f634124d774a465699d0ff07efa44dfd",
       "IPY_MODEL_01de435b10cf445d959d960921d29e3f"
      ],
      "layout": "IPY_MODEL_0b90dccb2eee4f1e8108c122e56bb421"
     }
    },
    "8b78268e9ac84dc49ad27f092642e168": {
     "model_module": "@jupyter-widgets/controls",
     "model_name": "HTMLModel",
     "state": {
      "_dom_classes": [],
      "_model_module": "@jupyter-widgets/controls",
      "_model_module_version": "1.5.0",
      "_model_name": "HTMLModel",
      "_view_count": null,
      "_view_module": "@jupyter-widgets/controls",
      "_view_module_version": "1.5.0",
      "_view_name": "HTMLView",
      "description": "",
      "description_tooltip": null,
      "layout": "IPY_MODEL_3155ee12e7494ec28208957e428879a7",
      "placeholder": "​",
      "style": "IPY_MODEL_a116e3c6b0e44b7fa72fb247afa09669",
      "value": " 31/31 [1:45:36&lt;00:00, 204.42s/it]"
     }
    },
    "8dc4de00490442bc9cd2f75783351976": {
     "model_module": "@jupyter-widgets/base",
     "model_name": "LayoutModel",
     "state": {
      "_model_module": "@jupyter-widgets/base",
      "_model_module_version": "1.2.0",
      "_model_name": "LayoutModel",
      "_view_count": null,
      "_view_module": "@jupyter-widgets/base",
      "_view_module_version": "1.2.0",
      "_view_name": "LayoutView",
      "align_content": null,
      "align_items": null,
      "align_self": null,
      "border": null,
      "bottom": null,
      "display": null,
      "flex": null,
      "flex_flow": null,
      "grid_area": null,
      "grid_auto_columns": null,
      "grid_auto_flow": null,
      "grid_auto_rows": null,
      "grid_column": null,
      "grid_gap": null,
      "grid_row": null,
      "grid_template_areas": null,
      "grid_template_columns": null,
      "grid_template_rows": null,
      "height": null,
      "justify_content": null,
      "justify_items": null,
      "left": null,
      "margin": null,
      "max_height": null,
      "max_width": null,
      "min_height": null,
      "min_width": null,
      "object_fit": null,
      "object_position": null,
      "order": null,
      "overflow": null,
      "overflow_x": null,
      "overflow_y": null,
      "padding": null,
      "right": null,
      "top": null,
      "visibility": null,
      "width": null
     }
    },
    "8dfcebbe026b42bd8eaef94830f25f7a": {
     "model_module": "@jupyter-widgets/controls",
     "model_name": "HTMLModel",
     "state": {
      "_dom_classes": [],
      "_model_module": "@jupyter-widgets/controls",
      "_model_module_version": "1.5.0",
      "_model_name": "HTMLModel",
      "_view_count": null,
      "_view_module": "@jupyter-widgets/controls",
      "_view_module_version": "1.5.0",
      "_view_name": "HTMLView",
      "description": "",
      "description_tooltip": null,
      "layout": "IPY_MODEL_1f71cc0d9d0241dbacd56b75a568c205",
      "placeholder": "​",
      "style": "IPY_MODEL_b83ef8cf4625434c927bfe1b0c2788ba",
      "value": " 1000/1000 [00:22&lt;00:00, 44.51it/s]"
     }
    },
    "8ef5a31123cd4a428a71deedf0f266ce": {
     "model_module": "@jupyter-widgets/base",
     "model_name": "LayoutModel",
     "state": {
      "_model_module": "@jupyter-widgets/base",
      "_model_module_version": "1.2.0",
      "_model_name": "LayoutModel",
      "_view_count": null,
      "_view_module": "@jupyter-widgets/base",
      "_view_module_version": "1.2.0",
      "_view_name": "LayoutView",
      "align_content": null,
      "align_items": null,
      "align_self": null,
      "border": null,
      "bottom": null,
      "display": null,
      "flex": null,
      "flex_flow": null,
      "grid_area": null,
      "grid_auto_columns": null,
      "grid_auto_flow": null,
      "grid_auto_rows": null,
      "grid_column": null,
      "grid_gap": null,
      "grid_row": null,
      "grid_template_areas": null,
      "grid_template_columns": null,
      "grid_template_rows": null,
      "height": null,
      "justify_content": null,
      "justify_items": null,
      "left": null,
      "margin": null,
      "max_height": null,
      "max_width": null,
      "min_height": null,
      "min_width": null,
      "object_fit": null,
      "object_position": null,
      "order": null,
      "overflow": null,
      "overflow_x": null,
      "overflow_y": null,
      "padding": null,
      "right": null,
      "top": null,
      "visibility": null,
      "width": null
     }
    },
    "908deeda7ba04b64a1e960165b6d5f1e": {
     "model_module": "@jupyter-widgets/base",
     "model_name": "LayoutModel",
     "state": {
      "_model_module": "@jupyter-widgets/base",
      "_model_module_version": "1.2.0",
      "_model_name": "LayoutModel",
      "_view_count": null,
      "_view_module": "@jupyter-widgets/base",
      "_view_module_version": "1.2.0",
      "_view_name": "LayoutView",
      "align_content": null,
      "align_items": null,
      "align_self": null,
      "border": null,
      "bottom": null,
      "display": null,
      "flex": null,
      "flex_flow": null,
      "grid_area": null,
      "grid_auto_columns": null,
      "grid_auto_flow": null,
      "grid_auto_rows": null,
      "grid_column": null,
      "grid_gap": null,
      "grid_row": null,
      "grid_template_areas": null,
      "grid_template_columns": null,
      "grid_template_rows": null,
      "height": null,
      "justify_content": null,
      "justify_items": null,
      "left": null,
      "margin": null,
      "max_height": null,
      "max_width": null,
      "min_height": null,
      "min_width": null,
      "object_fit": null,
      "object_position": null,
      "order": null,
      "overflow": null,
      "overflow_x": null,
      "overflow_y": null,
      "padding": null,
      "right": null,
      "top": null,
      "visibility": null,
      "width": null
     }
    },
    "910d804814984359b2ee8f013ec1c6b9": {
     "model_module": "@jupyter-widgets/controls",
     "model_name": "DescriptionStyleModel",
     "state": {
      "_model_module": "@jupyter-widgets/controls",
      "_model_module_version": "1.5.0",
      "_model_name": "DescriptionStyleModel",
      "_view_count": null,
      "_view_module": "@jupyter-widgets/base",
      "_view_module_version": "1.2.0",
      "_view_name": "StyleView",
      "description_width": ""
     }
    },
    "968dd3ee5f1845e7a8a622e1047f7a3d": {
     "model_module": "@jupyter-widgets/controls",
     "model_name": "FloatProgressModel",
     "state": {
      "_dom_classes": [],
      "_model_module": "@jupyter-widgets/controls",
      "_model_module_version": "1.5.0",
      "_model_name": "FloatProgressModel",
      "_view_count": null,
      "_view_module": "@jupyter-widgets/controls",
      "_view_module_version": "1.5.0",
      "_view_name": "ProgressView",
      "bar_style": "success",
      "description": "extracting embeddings...: 100%",
      "description_tooltip": null,
      "layout": "IPY_MODEL_985e97bddd1847fdb7cc99d108d12c5b",
      "max": 32,
      "min": 0,
      "orientation": "horizontal",
      "style": "IPY_MODEL_10f2eaf4f165464b9225931a396f2890",
      "value": 32
     }
    },
    "977533a3c5854b22a14386ed3ed6e3ec": {
     "model_module": "@jupyter-widgets/controls",
     "model_name": "FloatProgressModel",
     "state": {
      "_dom_classes": [],
      "_model_module": "@jupyter-widgets/controls",
      "_model_module_version": "1.5.0",
      "_model_name": "FloatProgressModel",
      "_view_count": null,
      "_view_module": "@jupyter-widgets/controls",
      "_view_module_version": "1.5.0",
      "_view_name": "ProgressView",
      "bar_style": "success",
      "description": "calculating cosine similarities...: 100%",
      "description_tooltip": null,
      "layout": "IPY_MODEL_b2f67604892848929faa4ad1c093e3ba",
      "max": 1000,
      "min": 0,
      "orientation": "horizontal",
      "style": "IPY_MODEL_dd6393651b054896b539917feab887d4",
      "value": 1000
     }
    },
    "985e97bddd1847fdb7cc99d108d12c5b": {
     "model_module": "@jupyter-widgets/base",
     "model_name": "LayoutModel",
     "state": {
      "_model_module": "@jupyter-widgets/base",
      "_model_module_version": "1.2.0",
      "_model_name": "LayoutModel",
      "_view_count": null,
      "_view_module": "@jupyter-widgets/base",
      "_view_module_version": "1.2.0",
      "_view_name": "LayoutView",
      "align_content": null,
      "align_items": null,
      "align_self": null,
      "border": null,
      "bottom": null,
      "display": null,
      "flex": null,
      "flex_flow": null,
      "grid_area": null,
      "grid_auto_columns": null,
      "grid_auto_flow": null,
      "grid_auto_rows": null,
      "grid_column": null,
      "grid_gap": null,
      "grid_row": null,
      "grid_template_areas": null,
      "grid_template_columns": null,
      "grid_template_rows": null,
      "height": null,
      "justify_content": null,
      "justify_items": null,
      "left": null,
      "margin": null,
      "max_height": null,
      "max_width": null,
      "min_height": null,
      "min_width": null,
      "object_fit": null,
      "object_position": null,
      "order": null,
      "overflow": null,
      "overflow_x": null,
      "overflow_y": null,
      "padding": null,
      "right": null,
      "top": null,
      "visibility": null,
      "width": null
     }
    },
    "9b4228442a2441698e7f9ef3cd17b3c1": {
     "model_module": "@jupyter-widgets/controls",
     "model_name": "ProgressStyleModel",
     "state": {
      "_model_module": "@jupyter-widgets/controls",
      "_model_module_version": "1.5.0",
      "_model_name": "ProgressStyleModel",
      "_view_count": null,
      "_view_module": "@jupyter-widgets/base",
      "_view_module_version": "1.2.0",
      "_view_name": "StyleView",
      "bar_color": null,
      "description_width": "initial"
     }
    },
    "9ce9f38635cc46debf43c264b9412b3f": {
     "model_module": "@jupyter-widgets/controls",
     "model_name": "DescriptionStyleModel",
     "state": {
      "_model_module": "@jupyter-widgets/controls",
      "_model_module_version": "1.5.0",
      "_model_name": "DescriptionStyleModel",
      "_view_count": null,
      "_view_module": "@jupyter-widgets/base",
      "_view_module_version": "1.2.0",
      "_view_name": "StyleView",
      "description_width": ""
     }
    },
    "a116e3c6b0e44b7fa72fb247afa09669": {
     "model_module": "@jupyter-widgets/controls",
     "model_name": "DescriptionStyleModel",
     "state": {
      "_model_module": "@jupyter-widgets/controls",
      "_model_module_version": "1.5.0",
      "_model_name": "DescriptionStyleModel",
      "_view_count": null,
      "_view_module": "@jupyter-widgets/base",
      "_view_module_version": "1.2.0",
      "_view_name": "StyleView",
      "description_width": ""
     }
    },
    "a2ca9c8ed73a498090330df7c77dc9bb": {
     "model_module": "@jupyter-widgets/base",
     "model_name": "LayoutModel",
     "state": {
      "_model_module": "@jupyter-widgets/base",
      "_model_module_version": "1.2.0",
      "_model_name": "LayoutModel",
      "_view_count": null,
      "_view_module": "@jupyter-widgets/base",
      "_view_module_version": "1.2.0",
      "_view_name": "LayoutView",
      "align_content": null,
      "align_items": null,
      "align_self": null,
      "border": null,
      "bottom": null,
      "display": null,
      "flex": null,
      "flex_flow": null,
      "grid_area": null,
      "grid_auto_columns": null,
      "grid_auto_flow": null,
      "grid_auto_rows": null,
      "grid_column": null,
      "grid_gap": null,
      "grid_row": null,
      "grid_template_areas": null,
      "grid_template_columns": null,
      "grid_template_rows": null,
      "height": null,
      "justify_content": null,
      "justify_items": null,
      "left": null,
      "margin": null,
      "max_height": null,
      "max_width": null,
      "min_height": null,
      "min_width": null,
      "object_fit": null,
      "object_position": null,
      "order": null,
      "overflow": null,
      "overflow_x": null,
      "overflow_y": null,
      "padding": null,
      "right": null,
      "top": null,
      "visibility": null,
      "width": null
     }
    },
    "a70dc216e97944c0b14dfbb853918195": {
     "model_module": "@jupyter-widgets/controls",
     "model_name": "FloatProgressModel",
     "state": {
      "_dom_classes": [],
      "_model_module": "@jupyter-widgets/controls",
      "_model_module_version": "1.5.0",
      "_model_name": "FloatProgressModel",
      "_view_count": null,
      "_view_module": "@jupyter-widgets/controls",
      "_view_module_version": "1.5.0",
      "_view_name": "ProgressView",
      "bar_style": "success",
      "description": "epoch progress: 100%",
      "description_tooltip": null,
      "layout": "IPY_MODEL_7cb083d82366403fad6ff3cc9d33847c",
      "max": 29,
      "min": 0,
      "orientation": "horizontal",
      "style": "IPY_MODEL_e2b6105cdb0e43d88112025877732738",
      "value": 29
     }
    },
    "a7d89a61e13d4d02bc688fcf623773a8": {
     "model_module": "@jupyter-widgets/controls",
     "model_name": "ProgressStyleModel",
     "state": {
      "_model_module": "@jupyter-widgets/controls",
      "_model_module_version": "1.5.0",
      "_model_name": "ProgressStyleModel",
      "_view_count": null,
      "_view_module": "@jupyter-widgets/base",
      "_view_module_version": "1.2.0",
      "_view_name": "StyleView",
      "bar_color": null,
      "description_width": "initial"
     }
    },
    "a7e7bc10530d4e0ea0c9c53055d31e83": {
     "model_module": "@jupyter-widgets/controls",
     "model_name": "FloatProgressModel",
     "state": {
      "_dom_classes": [],
      "_model_module": "@jupyter-widgets/controls",
      "_model_module_version": "1.5.0",
      "_model_name": "FloatProgressModel",
      "_view_count": null,
      "_view_module": "@jupyter-widgets/controls",
      "_view_module_version": "1.5.0",
      "_view_name": "ProgressView",
      "bar_style": "success",
      "description": "epoch progress: 100%",
      "description_tooltip": null,
      "layout": "IPY_MODEL_a2ca9c8ed73a498090330df7c77dc9bb",
      "max": 31,
      "min": 0,
      "orientation": "horizontal",
      "style": "IPY_MODEL_777b98ab41844a2a8039b52e34a7e0c6",
      "value": 31
     }
    },
    "a87483a8399f4e9786e39098e9ebb0f9": {
     "model_module": "@jupyter-widgets/base",
     "model_name": "LayoutModel",
     "state": {
      "_model_module": "@jupyter-widgets/base",
      "_model_module_version": "1.2.0",
      "_model_name": "LayoutModel",
      "_view_count": null,
      "_view_module": "@jupyter-widgets/base",
      "_view_module_version": "1.2.0",
      "_view_name": "LayoutView",
      "align_content": null,
      "align_items": null,
      "align_self": null,
      "border": null,
      "bottom": null,
      "display": null,
      "flex": null,
      "flex_flow": null,
      "grid_area": null,
      "grid_auto_columns": null,
      "grid_auto_flow": null,
      "grid_auto_rows": null,
      "grid_column": null,
      "grid_gap": null,
      "grid_row": null,
      "grid_template_areas": null,
      "grid_template_columns": null,
      "grid_template_rows": null,
      "height": null,
      "justify_content": null,
      "justify_items": null,
      "left": null,
      "margin": null,
      "max_height": null,
      "max_width": null,
      "min_height": null,
      "min_width": null,
      "object_fit": null,
      "object_position": null,
      "order": null,
      "overflow": null,
      "overflow_x": null,
      "overflow_y": null,
      "padding": null,
      "right": null,
      "top": null,
      "visibility": null,
      "width": null
     }
    },
    "abbe70e6829e455c85bd18725354f16a": {
     "model_module": "@jupyter-widgets/base",
     "model_name": "LayoutModel",
     "state": {
      "_model_module": "@jupyter-widgets/base",
      "_model_module_version": "1.2.0",
      "_model_name": "LayoutModel",
      "_view_count": null,
      "_view_module": "@jupyter-widgets/base",
      "_view_module_version": "1.2.0",
      "_view_name": "LayoutView",
      "align_content": null,
      "align_items": null,
      "align_self": null,
      "border": null,
      "bottom": null,
      "display": null,
      "flex": null,
      "flex_flow": null,
      "grid_area": null,
      "grid_auto_columns": null,
      "grid_auto_flow": null,
      "grid_auto_rows": null,
      "grid_column": null,
      "grid_gap": null,
      "grid_row": null,
      "grid_template_areas": null,
      "grid_template_columns": null,
      "grid_template_rows": null,
      "height": null,
      "justify_content": null,
      "justify_items": null,
      "left": null,
      "margin": null,
      "max_height": null,
      "max_width": null,
      "min_height": null,
      "min_width": null,
      "object_fit": null,
      "object_position": null,
      "order": null,
      "overflow": null,
      "overflow_x": null,
      "overflow_y": null,
      "padding": null,
      "right": null,
      "top": null,
      "visibility": null,
      "width": null
     }
    },
    "af3609374d5641ea8c0b1d17f23386a2": {
     "model_module": "@jupyter-widgets/base",
     "model_name": "LayoutModel",
     "state": {
      "_model_module": "@jupyter-widgets/base",
      "_model_module_version": "1.2.0",
      "_model_name": "LayoutModel",
      "_view_count": null,
      "_view_module": "@jupyter-widgets/base",
      "_view_module_version": "1.2.0",
      "_view_name": "LayoutView",
      "align_content": null,
      "align_items": null,
      "align_self": null,
      "border": null,
      "bottom": null,
      "display": null,
      "flex": null,
      "flex_flow": null,
      "grid_area": null,
      "grid_auto_columns": null,
      "grid_auto_flow": null,
      "grid_auto_rows": null,
      "grid_column": null,
      "grid_gap": null,
      "grid_row": null,
      "grid_template_areas": null,
      "grid_template_columns": null,
      "grid_template_rows": null,
      "height": null,
      "justify_content": null,
      "justify_items": null,
      "left": null,
      "margin": null,
      "max_height": null,
      "max_width": null,
      "min_height": null,
      "min_width": null,
      "object_fit": null,
      "object_position": null,
      "order": null,
      "overflow": null,
      "overflow_x": null,
      "overflow_y": null,
      "padding": null,
      "right": null,
      "top": null,
      "visibility": null,
      "width": null
     }
    },
    "b0f154f5248d42b590a4d0958b91e2a0": {
     "model_module": "@jupyter-widgets/controls",
     "model_name": "HBoxModel",
     "state": {
      "_dom_classes": [],
      "_model_module": "@jupyter-widgets/controls",
      "_model_module_version": "1.5.0",
      "_model_name": "HBoxModel",
      "_view_count": null,
      "_view_module": "@jupyter-widgets/controls",
      "_view_module_version": "1.5.0",
      "_view_name": "HBoxView",
      "box_style": "",
      "children": [
       "IPY_MODEL_977533a3c5854b22a14386ed3ed6e3ec",
       "IPY_MODEL_8dfcebbe026b42bd8eaef94830f25f7a"
      ],
      "layout": "IPY_MODEL_e2599da87a3848fcb692aa905504b02e"
     }
    },
    "b2438d26ab4147118fd6607200dafb82": {
     "model_module": "@jupyter-widgets/controls",
     "model_name": "ProgressStyleModel",
     "state": {
      "_model_module": "@jupyter-widgets/controls",
      "_model_module_version": "1.5.0",
      "_model_name": "ProgressStyleModel",
      "_view_count": null,
      "_view_module": "@jupyter-widgets/base",
      "_view_module_version": "1.2.0",
      "_view_name": "StyleView",
      "bar_color": null,
      "description_width": "initial"
     }
    },
    "b2f67604892848929faa4ad1c093e3ba": {
     "model_module": "@jupyter-widgets/base",
     "model_name": "LayoutModel",
     "state": {
      "_model_module": "@jupyter-widgets/base",
      "_model_module_version": "1.2.0",
      "_model_name": "LayoutModel",
      "_view_count": null,
      "_view_module": "@jupyter-widgets/base",
      "_view_module_version": "1.2.0",
      "_view_name": "LayoutView",
      "align_content": null,
      "align_items": null,
      "align_self": null,
      "border": null,
      "bottom": null,
      "display": null,
      "flex": null,
      "flex_flow": null,
      "grid_area": null,
      "grid_auto_columns": null,
      "grid_auto_flow": null,
      "grid_auto_rows": null,
      "grid_column": null,
      "grid_gap": null,
      "grid_row": null,
      "grid_template_areas": null,
      "grid_template_columns": null,
      "grid_template_rows": null,
      "height": null,
      "justify_content": null,
      "justify_items": null,
      "left": null,
      "margin": null,
      "max_height": null,
      "max_width": null,
      "min_height": null,
      "min_width": null,
      "object_fit": null,
      "object_position": null,
      "order": null,
      "overflow": null,
      "overflow_x": null,
      "overflow_y": null,
      "padding": null,
      "right": null,
      "top": null,
      "visibility": null,
      "width": null
     }
    },
    "b83ef8cf4625434c927bfe1b0c2788ba": {
     "model_module": "@jupyter-widgets/controls",
     "model_name": "DescriptionStyleModel",
     "state": {
      "_model_module": "@jupyter-widgets/controls",
      "_model_module_version": "1.5.0",
      "_model_name": "DescriptionStyleModel",
      "_view_count": null,
      "_view_module": "@jupyter-widgets/base",
      "_view_module_version": "1.2.0",
      "_view_name": "StyleView",
      "description_width": ""
     }
    },
    "bc75540587b54512b3138795838ccd76": {
     "model_module": "@jupyter-widgets/base",
     "model_name": "LayoutModel",
     "state": {
      "_model_module": "@jupyter-widgets/base",
      "_model_module_version": "1.2.0",
      "_model_name": "LayoutModel",
      "_view_count": null,
      "_view_module": "@jupyter-widgets/base",
      "_view_module_version": "1.2.0",
      "_view_name": "LayoutView",
      "align_content": null,
      "align_items": null,
      "align_self": null,
      "border": null,
      "bottom": null,
      "display": null,
      "flex": null,
      "flex_flow": null,
      "grid_area": null,
      "grid_auto_columns": null,
      "grid_auto_flow": null,
      "grid_auto_rows": null,
      "grid_column": null,
      "grid_gap": null,
      "grid_row": null,
      "grid_template_areas": null,
      "grid_template_columns": null,
      "grid_template_rows": null,
      "height": null,
      "justify_content": null,
      "justify_items": null,
      "left": null,
      "margin": null,
      "max_height": null,
      "max_width": null,
      "min_height": null,
      "min_width": null,
      "object_fit": null,
      "object_position": null,
      "order": null,
      "overflow": null,
      "overflow_x": null,
      "overflow_y": null,
      "padding": null,
      "right": null,
      "top": null,
      "visibility": null,
      "width": null
     }
    },
    "bfc1b5732511440eaa8a37c25bd63077": {
     "model_module": "@jupyter-widgets/controls",
     "model_name": "DescriptionStyleModel",
     "state": {
      "_model_module": "@jupyter-widgets/controls",
      "_model_module_version": "1.5.0",
      "_model_name": "DescriptionStyleModel",
      "_view_count": null,
      "_view_module": "@jupyter-widgets/base",
      "_view_module_version": "1.2.0",
      "_view_name": "StyleView",
      "description_width": ""
     }
    },
    "c05cf761459e49149cefdbeec90c0d24": {
     "model_module": "@jupyter-widgets/base",
     "model_name": "LayoutModel",
     "state": {
      "_model_module": "@jupyter-widgets/base",
      "_model_module_version": "1.2.0",
      "_model_name": "LayoutModel",
      "_view_count": null,
      "_view_module": "@jupyter-widgets/base",
      "_view_module_version": "1.2.0",
      "_view_name": "LayoutView",
      "align_content": null,
      "align_items": null,
      "align_self": null,
      "border": null,
      "bottom": null,
      "display": null,
      "flex": null,
      "flex_flow": null,
      "grid_area": null,
      "grid_auto_columns": null,
      "grid_auto_flow": null,
      "grid_auto_rows": null,
      "grid_column": null,
      "grid_gap": null,
      "grid_row": null,
      "grid_template_areas": null,
      "grid_template_columns": null,
      "grid_template_rows": null,
      "height": null,
      "justify_content": null,
      "justify_items": null,
      "left": null,
      "margin": null,
      "max_height": null,
      "max_width": null,
      "min_height": null,
      "min_width": null,
      "object_fit": null,
      "object_position": null,
      "order": null,
      "overflow": null,
      "overflow_x": null,
      "overflow_y": null,
      "padding": null,
      "right": null,
      "top": null,
      "visibility": null,
      "width": null
     }
    },
    "c10c859cbf6040d49c9ecca7cdcd3efc": {
     "model_module": "@jupyter-widgets/controls",
     "model_name": "HBoxModel",
     "state": {
      "_dom_classes": [],
      "_model_module": "@jupyter-widgets/controls",
      "_model_module_version": "1.5.0",
      "_model_name": "HBoxModel",
      "_view_count": null,
      "_view_module": "@jupyter-widgets/controls",
      "_view_module_version": "1.5.0",
      "_view_name": "HBoxView",
      "box_style": "",
      "children": [
       "IPY_MODEL_27bebefd6bad4e99b41e1017e8525d76",
       "IPY_MODEL_5ce42a04705d45f3864bbda954e15e7a"
      ],
      "layout": "IPY_MODEL_1f12e50e9f0649b9b0f298445ce1ab2c"
     }
    },
    "c4b2fc0d9e4d4bc3a93676c591036d38": {
     "model_module": "@jupyter-widgets/controls",
     "model_name": "ProgressStyleModel",
     "state": {
      "_model_module": "@jupyter-widgets/controls",
      "_model_module_version": "1.5.0",
      "_model_name": "ProgressStyleModel",
      "_view_count": null,
      "_view_module": "@jupyter-widgets/base",
      "_view_module_version": "1.2.0",
      "_view_name": "StyleView",
      "bar_color": null,
      "description_width": "initial"
     }
    },
    "c4edc2faff8d42e495bdb2fa84b2abf3": {
     "model_module": "@jupyter-widgets/base",
     "model_name": "LayoutModel",
     "state": {
      "_model_module": "@jupyter-widgets/base",
      "_model_module_version": "1.2.0",
      "_model_name": "LayoutModel",
      "_view_count": null,
      "_view_module": "@jupyter-widgets/base",
      "_view_module_version": "1.2.0",
      "_view_name": "LayoutView",
      "align_content": null,
      "align_items": null,
      "align_self": null,
      "border": null,
      "bottom": null,
      "display": null,
      "flex": null,
      "flex_flow": null,
      "grid_area": null,
      "grid_auto_columns": null,
      "grid_auto_flow": null,
      "grid_auto_rows": null,
      "grid_column": null,
      "grid_gap": null,
      "grid_row": null,
      "grid_template_areas": null,
      "grid_template_columns": null,
      "grid_template_rows": null,
      "height": null,
      "justify_content": null,
      "justify_items": null,
      "left": null,
      "margin": null,
      "max_height": null,
      "max_width": null,
      "min_height": null,
      "min_width": null,
      "object_fit": null,
      "object_position": null,
      "order": null,
      "overflow": null,
      "overflow_x": null,
      "overflow_y": null,
      "padding": null,
      "right": null,
      "top": null,
      "visibility": null,
      "width": null
     }
    },
    "cc2cdfb5f1454c4ebcd2bfc12e796e52": {
     "model_module": "@jupyter-widgets/controls",
     "model_name": "FloatProgressModel",
     "state": {
      "_dom_classes": [],
      "_model_module": "@jupyter-widgets/controls",
      "_model_module_version": "1.5.0",
      "_model_name": "FloatProgressModel",
      "_view_count": null,
      "_view_module": "@jupyter-widgets/controls",
      "_view_module_version": "1.5.0",
      "_view_name": "ProgressView",
      "bar_style": "success",
      "description": "calculating cosine similarities...: 100%",
      "description_tooltip": null,
      "layout": "IPY_MODEL_8ef5a31123cd4a428a71deedf0f266ce",
      "max": 1000,
      "min": 0,
      "orientation": "horizontal",
      "style": "IPY_MODEL_a7d89a61e13d4d02bc688fcf623773a8",
      "value": 1000
     }
    },
    "cc87f18e6547415fa3a874a98007e9aa": {
     "model_module": "@jupyter-widgets/controls",
     "model_name": "FloatProgressModel",
     "state": {
      "_dom_classes": [],
      "_model_module": "@jupyter-widgets/controls",
      "_model_module_version": "1.5.0",
      "_model_name": "FloatProgressModel",
      "_view_count": null,
      "_view_module": "@jupyter-widgets/controls",
      "_view_module_version": "1.5.0",
      "_view_name": "ProgressView",
      "bar_style": "success",
      "description": "epoch progress: 100%",
      "description_tooltip": null,
      "layout": "IPY_MODEL_1ad278c43da74b98a428aae29e81b0aa",
      "max": 31,
      "min": 0,
      "orientation": "horizontal",
      "style": "IPY_MODEL_9b4228442a2441698e7f9ef3cd17b3c1",
      "value": 31
     }
    },
    "d0bfeb520ff043c3b6eca1f439b9abbf": {
     "model_module": "@jupyter-widgets/controls",
     "model_name": "HTMLModel",
     "state": {
      "_dom_classes": [],
      "_model_module": "@jupyter-widgets/controls",
      "_model_module_version": "1.5.0",
      "_model_name": "HTMLModel",
      "_view_count": null,
      "_view_module": "@jupyter-widgets/controls",
      "_view_module_version": "1.5.0",
      "_view_name": "HTMLView",
      "description": "",
      "description_tooltip": null,
      "layout": "IPY_MODEL_7815799c90e2420f9806cfae1c3c9527",
      "placeholder": "​",
      "style": "IPY_MODEL_23d6e2a4735a4b16b65d041992e32dc5",
      "value": " 31/31 [00:21&lt;00:00,  1.42it/s]"
     }
    },
    "d2801999a3324dd8806e3d015712207e": {
     "model_module": "@jupyter-widgets/controls",
     "model_name": "HBoxModel",
     "state": {
      "_dom_classes": [],
      "_model_module": "@jupyter-widgets/controls",
      "_model_module_version": "1.5.0",
      "_model_name": "HBoxModel",
      "_view_count": null,
      "_view_module": "@jupyter-widgets/controls",
      "_view_module_version": "1.5.0",
      "_view_name": "HBoxView",
      "box_style": "",
      "children": [
       "IPY_MODEL_a7e7bc10530d4e0ea0c9c53055d31e83",
       "IPY_MODEL_8b78268e9ac84dc49ad27f092642e168"
      ],
      "layout": "IPY_MODEL_78291fcc28c441dd80af6481159e505e"
     }
    },
    "d3774105d3e241108eafa2a95d5dc2bb": {
     "model_module": "@jupyter-widgets/controls",
     "model_name": "HTMLModel",
     "state": {
      "_dom_classes": [],
      "_model_module": "@jupyter-widgets/controls",
      "_model_module_version": "1.5.0",
      "_model_name": "HTMLModel",
      "_view_count": null,
      "_view_module": "@jupyter-widgets/controls",
      "_view_module_version": "1.5.0",
      "_view_name": "HTMLView",
      "description": "",
      "description_tooltip": null,
      "layout": "IPY_MODEL_030600056e1647c687652d1ebd3f6837",
      "placeholder": "​",
      "style": "IPY_MODEL_bfc1b5732511440eaa8a37c25bd63077",
      "value": " 1000/1000 [00:22&lt;00:00, 43.77it/s]"
     }
    },
    "dc79553486f241a68e472053daaebc1a": {
     "model_module": "@jupyter-widgets/controls",
     "model_name": "HBoxModel",
     "state": {
      "_dom_classes": [],
      "_model_module": "@jupyter-widgets/controls",
      "_model_module_version": "1.5.0",
      "_model_name": "HBoxModel",
      "_view_count": null,
      "_view_module": "@jupyter-widgets/controls",
      "_view_module_version": "1.5.0",
      "_view_name": "HBoxView",
      "box_style": "",
      "children": [
       "IPY_MODEL_cc2cdfb5f1454c4ebcd2bfc12e796e52",
       "IPY_MODEL_f93beb7c14c646ac95e6aee2b251a24e"
      ],
      "layout": "IPY_MODEL_8507163a63a845f3a2ab642d1d699be2"
     }
    },
    "dd6393651b054896b539917feab887d4": {
     "model_module": "@jupyter-widgets/controls",
     "model_name": "ProgressStyleModel",
     "state": {
      "_model_module": "@jupyter-widgets/controls",
      "_model_module_version": "1.5.0",
      "_model_name": "ProgressStyleModel",
      "_view_count": null,
      "_view_module": "@jupyter-widgets/base",
      "_view_module_version": "1.2.0",
      "_view_name": "StyleView",
      "bar_color": null,
      "description_width": "initial"
     }
    },
    "e2599da87a3848fcb692aa905504b02e": {
     "model_module": "@jupyter-widgets/base",
     "model_name": "LayoutModel",
     "state": {
      "_model_module": "@jupyter-widgets/base",
      "_model_module_version": "1.2.0",
      "_model_name": "LayoutModel",
      "_view_count": null,
      "_view_module": "@jupyter-widgets/base",
      "_view_module_version": "1.2.0",
      "_view_name": "LayoutView",
      "align_content": null,
      "align_items": null,
      "align_self": null,
      "border": null,
      "bottom": null,
      "display": null,
      "flex": null,
      "flex_flow": null,
      "grid_area": null,
      "grid_auto_columns": null,
      "grid_auto_flow": null,
      "grid_auto_rows": null,
      "grid_column": null,
      "grid_gap": null,
      "grid_row": null,
      "grid_template_areas": null,
      "grid_template_columns": null,
      "grid_template_rows": null,
      "height": null,
      "justify_content": null,
      "justify_items": null,
      "left": null,
      "margin": null,
      "max_height": null,
      "max_width": null,
      "min_height": null,
      "min_width": null,
      "object_fit": null,
      "object_position": null,
      "order": null,
      "overflow": null,
      "overflow_x": null,
      "overflow_y": null,
      "padding": null,
      "right": null,
      "top": null,
      "visibility": null,
      "width": null
     }
    },
    "e2b6105cdb0e43d88112025877732738": {
     "model_module": "@jupyter-widgets/controls",
     "model_name": "ProgressStyleModel",
     "state": {
      "_model_module": "@jupyter-widgets/controls",
      "_model_module_version": "1.5.0",
      "_model_name": "ProgressStyleModel",
      "_view_count": null,
      "_view_module": "@jupyter-widgets/base",
      "_view_module_version": "1.2.0",
      "_view_name": "StyleView",
      "bar_color": null,
      "description_width": "initial"
     }
    },
    "e58fbfb9f1234638b8e2fa2c58c7b358": {
     "model_module": "@jupyter-widgets/controls",
     "model_name": "FloatProgressModel",
     "state": {
      "_dom_classes": [],
      "_model_module": "@jupyter-widgets/controls",
      "_model_module_version": "1.5.0",
      "_model_name": "FloatProgressModel",
      "_view_count": null,
      "_view_module": "@jupyter-widgets/controls",
      "_view_module_version": "1.5.0",
      "_view_name": "ProgressView",
      "bar_style": "success",
      "description": "extracting embeddings...: 100%",
      "description_tooltip": null,
      "layout": "IPY_MODEL_e89021ecb5aa400a898168680f6775b0",
      "max": 32,
      "min": 0,
      "orientation": "horizontal",
      "style": "IPY_MODEL_3a9a22bab9814d31b6a098c255cff893",
      "value": 32
     }
    },
    "e89021ecb5aa400a898168680f6775b0": {
     "model_module": "@jupyter-widgets/base",
     "model_name": "LayoutModel",
     "state": {
      "_model_module": "@jupyter-widgets/base",
      "_model_module_version": "1.2.0",
      "_model_name": "LayoutModel",
      "_view_count": null,
      "_view_module": "@jupyter-widgets/base",
      "_view_module_version": "1.2.0",
      "_view_name": "LayoutView",
      "align_content": null,
      "align_items": null,
      "align_self": null,
      "border": null,
      "bottom": null,
      "display": null,
      "flex": null,
      "flex_flow": null,
      "grid_area": null,
      "grid_auto_columns": null,
      "grid_auto_flow": null,
      "grid_auto_rows": null,
      "grid_column": null,
      "grid_gap": null,
      "grid_row": null,
      "grid_template_areas": null,
      "grid_template_columns": null,
      "grid_template_rows": null,
      "height": null,
      "justify_content": null,
      "justify_items": null,
      "left": null,
      "margin": null,
      "max_height": null,
      "max_width": null,
      "min_height": null,
      "min_width": null,
      "object_fit": null,
      "object_position": null,
      "order": null,
      "overflow": null,
      "overflow_x": null,
      "overflow_y": null,
      "padding": null,
      "right": null,
      "top": null,
      "visibility": null,
      "width": null
     }
    },
    "eb8374e89e34454a9e5f508002229977": {
     "model_module": "@jupyter-widgets/controls",
     "model_name": "HTMLModel",
     "state": {
      "_dom_classes": [],
      "_model_module": "@jupyter-widgets/controls",
      "_model_module_version": "1.5.0",
      "_model_name": "HTMLModel",
      "_view_count": null,
      "_view_module": "@jupyter-widgets/controls",
      "_view_module_version": "1.5.0",
      "_view_name": "HTMLView",
      "description": "",
      "description_tooltip": null,
      "layout": "IPY_MODEL_c05cf761459e49149cefdbeec90c0d24",
      "placeholder": "​",
      "style": "IPY_MODEL_21275754a2a240429589e93a658ae088",
      "value": " 32/32 [00:28&lt;00:00,  1.14it/s]"
     }
    },
    "edfb041b10714b7dbe319a496068450f": {
     "model_module": "@jupyter-widgets/base",
     "model_name": "LayoutModel",
     "state": {
      "_model_module": "@jupyter-widgets/base",
      "_model_module_version": "1.2.0",
      "_model_name": "LayoutModel",
      "_view_count": null,
      "_view_module": "@jupyter-widgets/base",
      "_view_module_version": "1.2.0",
      "_view_name": "LayoutView",
      "align_content": null,
      "align_items": null,
      "align_self": null,
      "border": null,
      "bottom": null,
      "display": null,
      "flex": null,
      "flex_flow": null,
      "grid_area": null,
      "grid_auto_columns": null,
      "grid_auto_flow": null,
      "grid_auto_rows": null,
      "grid_column": null,
      "grid_gap": null,
      "grid_row": null,
      "grid_template_areas": null,
      "grid_template_columns": null,
      "grid_template_rows": null,
      "height": null,
      "justify_content": null,
      "justify_items": null,
      "left": null,
      "margin": null,
      "max_height": null,
      "max_width": null,
      "min_height": null,
      "min_width": null,
      "object_fit": null,
      "object_position": null,
      "order": null,
      "overflow": null,
      "overflow_x": null,
      "overflow_y": null,
      "padding": null,
      "right": null,
      "top": null,
      "visibility": null,
      "width": null
     }
    },
    "f634124d774a465699d0ff07efa44dfd": {
     "model_module": "@jupyter-widgets/controls",
     "model_name": "FloatProgressModel",
     "state": {
      "_dom_classes": [],
      "_model_module": "@jupyter-widgets/controls",
      "_model_module_version": "1.5.0",
      "_model_name": "FloatProgressModel",
      "_view_count": null,
      "_view_module": "@jupyter-widgets/controls",
      "_view_module_version": "1.5.0",
      "_view_name": "ProgressView",
      "bar_style": "success",
      "description": "epoch progress: 100%",
      "description_tooltip": null,
      "layout": "IPY_MODEL_1e49e2bb54a24f358b819c64d53a1b03",
      "max": 29,
      "min": 0,
      "orientation": "horizontal",
      "style": "IPY_MODEL_3aef72d451fa4f55955593707177cf8f",
      "value": 29
     }
    },
    "f93beb7c14c646ac95e6aee2b251a24e": {
     "model_module": "@jupyter-widgets/controls",
     "model_name": "HTMLModel",
     "state": {
      "_dom_classes": [],
      "_model_module": "@jupyter-widgets/controls",
      "_model_module_version": "1.5.0",
      "_model_name": "HTMLModel",
      "_view_count": null,
      "_view_module": "@jupyter-widgets/controls",
      "_view_module_version": "1.5.0",
      "_view_name": "HTMLView",
      "description": "",
      "description_tooltip": null,
      "layout": "IPY_MODEL_c4edc2faff8d42e495bdb2fa84b2abf3",
      "placeholder": "​",
      "style": "IPY_MODEL_7d9a038223f84c3d97b2b2aeecc10067",
      "value": " 1000/1000 [00:21&lt;00:00, 45.48it/s]"
     }
    },
    "fadffa47bea541f5aef2fccc1cb4b45f": {
     "model_module": "@jupyter-widgets/base",
     "model_name": "LayoutModel",
     "state": {
      "_model_module": "@jupyter-widgets/base",
      "_model_module_version": "1.2.0",
      "_model_name": "LayoutModel",
      "_view_count": null,
      "_view_module": "@jupyter-widgets/base",
      "_view_module_version": "1.2.0",
      "_view_name": "LayoutView",
      "align_content": null,
      "align_items": null,
      "align_self": null,
      "border": null,
      "bottom": null,
      "display": null,
      "flex": null,
      "flex_flow": null,
      "grid_area": null,
      "grid_auto_columns": null,
      "grid_auto_flow": null,
      "grid_auto_rows": null,
      "grid_column": null,
      "grid_gap": null,
      "grid_row": null,
      "grid_template_areas": null,
      "grid_template_columns": null,
      "grid_template_rows": null,
      "height": null,
      "justify_content": null,
      "justify_items": null,
      "left": null,
      "margin": null,
      "max_height": null,
      "max_width": null,
      "min_height": null,
      "min_width": null,
      "object_fit": null,
      "object_position": null,
      "order": null,
      "overflow": null,
      "overflow_x": null,
      "overflow_y": null,
      "padding": null,
      "right": null,
      "top": null,
      "visibility": null,
      "width": null
     }
    },
    "ffe8a87dda7049989210b55c6dc3ed58": {
     "model_module": "@jupyter-widgets/controls",
     "model_name": "HBoxModel",
     "state": {
      "_dom_classes": [],
      "_model_module": "@jupyter-widgets/controls",
      "_model_module_version": "1.5.0",
      "_model_name": "HBoxModel",
      "_view_count": null,
      "_view_module": "@jupyter-widgets/controls",
      "_view_module_version": "1.5.0",
      "_view_name": "HBoxView",
      "box_style": "",
      "children": [
       "IPY_MODEL_cc87f18e6547415fa3a874a98007e9aa",
       "IPY_MODEL_64718b59497146f3b5c984460cdda096"
      ],
      "layout": "IPY_MODEL_65371c9e9aef4ab1af02304311d88ed1"
     }
    }
   }
  }
 },
 "nbformat": 4,
 "nbformat_minor": 1
}
