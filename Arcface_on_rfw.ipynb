{
 "cells": [
  {
   "cell_type": "code",
   "execution_count": null,
   "metadata": {
    "colab": {
     "base_uri": "https://localhost:8080/"
    },
    "id": "IrgFMXFWJnRP",
    "outputId": "0c66c046-267d-4912-e3b9-12cde02cc206",
    "scrolled": true
   },
   "outputs": [
    {
     "name": "stdout",
     "output_type": "stream",
     "text": [
      "Collecting insightface\n",
      "  Downloading https://files.pythonhosted.org/packages/c6/8e/ccbd6b0a119ce29944d9afc3e3a5f2762900796877fd2a5eac0b102a3cec/insightface-0.1.5.tar.gz\n",
      "Requirement already satisfied: numpy in /usr/local/lib/python3.6/dist-packages (from insightface) (1.18.5)\n",
      "Requirement already satisfied: tqdm in /usr/local/lib/python3.6/dist-packages (from insightface) (4.41.1)\n",
      "Requirement already satisfied: requests in /usr/local/lib/python3.6/dist-packages (from insightface) (2.23.0)\n",
      "Requirement already satisfied: matplotlib in /usr/local/lib/python3.6/dist-packages (from insightface) (3.2.2)\n",
      "Requirement already satisfied: Pillow in /usr/local/lib/python3.6/dist-packages (from insightface) (7.0.0)\n",
      "Requirement already satisfied: scipy in /usr/local/lib/python3.6/dist-packages (from insightface) (1.4.1)\n",
      "Requirement already satisfied: opencv-python in /usr/local/lib/python3.6/dist-packages (from insightface) (4.1.2.30)\n",
      "Requirement already satisfied: scikit-learn in /usr/local/lib/python3.6/dist-packages (from insightface) (0.22.2.post1)\n",
      "Requirement already satisfied: scikit-image in /usr/local/lib/python3.6/dist-packages (from insightface) (0.16.2)\n",
      "Requirement already satisfied: easydict in /usr/local/lib/python3.6/dist-packages (from insightface) (1.9)\n",
      "Requirement already satisfied: urllib3!=1.25.0,!=1.25.1,<1.26,>=1.21.1 in /usr/local/lib/python3.6/dist-packages (from requests->insightface) (1.24.3)\n",
      "Requirement already satisfied: idna<3,>=2.5 in /usr/local/lib/python3.6/dist-packages (from requests->insightface) (2.10)\n",
      "Requirement already satisfied: certifi>=2017.4.17 in /usr/local/lib/python3.6/dist-packages (from requests->insightface) (2020.6.20)\n",
      "Requirement already satisfied: chardet<4,>=3.0.2 in /usr/local/lib/python3.6/dist-packages (from requests->insightface) (3.0.4)\n",
      "Requirement already satisfied: pyparsing!=2.0.4,!=2.1.2,!=2.1.6,>=2.0.1 in /usr/local/lib/python3.6/dist-packages (from matplotlib->insightface) (2.4.7)\n",
      "Requirement already satisfied: python-dateutil>=2.1 in /usr/local/lib/python3.6/dist-packages (from matplotlib->insightface) (2.8.1)\n",
      "Requirement already satisfied: kiwisolver>=1.0.1 in /usr/local/lib/python3.6/dist-packages (from matplotlib->insightface) (1.2.0)\n",
      "Requirement already satisfied: cycler>=0.10 in /usr/local/lib/python3.6/dist-packages (from matplotlib->insightface) (0.10.0)\n",
      "Requirement already satisfied: joblib>=0.11 in /usr/local/lib/python3.6/dist-packages (from scikit-learn->insightface) (0.17.0)\n",
      "Requirement already satisfied: imageio>=2.3.0 in /usr/local/lib/python3.6/dist-packages (from scikit-image->insightface) (2.4.1)\n",
      "Requirement already satisfied: PyWavelets>=0.4.0 in /usr/local/lib/python3.6/dist-packages (from scikit-image->insightface) (1.1.1)\n",
      "Requirement already satisfied: networkx>=2.0 in /usr/local/lib/python3.6/dist-packages (from scikit-image->insightface) (2.5)\n",
      "Requirement already satisfied: six>=1.5 in /usr/local/lib/python3.6/dist-packages (from python-dateutil>=2.1->matplotlib->insightface) (1.15.0)\n",
      "Requirement already satisfied: decorator>=4.3.0 in /usr/local/lib/python3.6/dist-packages (from networkx>=2.0->scikit-image->insightface) (4.4.2)\n",
      "Building wheels for collected packages: insightface\n",
      "  Building wheel for insightface (setup.py) ... \u001b[?25l\u001b[?25hdone\n",
      "  Created wheel for insightface: filename=insightface-0.1.5-cp36-none-any.whl size=16766 sha256=37c2c28faac0f1431ad09cea3925a7a86b005847a2a555bc369d139f4a796cb1\n",
      "  Stored in directory: /root/.cache/pip/wheels/11/b8/83/2bac12a833d66d58aa9705f5e7d94d2e9055f16f4698af0df7\n",
      "Successfully built insightface\n",
      "Installing collected packages: insightface\n",
      "Successfully installed insightface-0.1.5\n",
      "Collecting mxnet\n",
      "\u001b[?25l  Downloading https://files.pythonhosted.org/packages/29/bb/54cbabe428351c06d10903c658878d29ee7026efbe45133fd133598d6eb6/mxnet-1.7.0.post1-py2.py3-none-manylinux2014_x86_64.whl (55.0MB)\n",
      "\u001b[K     |████████████████████████████████| 55.0MB 81kB/s \n",
      "\u001b[?25hRequirement already satisfied, skipping upgrade: requests<3,>=2.20.0 in /usr/local/lib/python3.6/dist-packages (from mxnet) (2.23.0)\n",
      "Requirement already satisfied, skipping upgrade: numpy<2.0.0,>1.16.0 in /usr/local/lib/python3.6/dist-packages (from mxnet) (1.18.5)\n",
      "Collecting graphviz<0.9.0,>=0.8.1\n",
      "  Downloading https://files.pythonhosted.org/packages/53/39/4ab213673844e0c004bed8a0781a0721a3f6bb23eb8854ee75c236428892/graphviz-0.8.4-py2.py3-none-any.whl\n",
      "Requirement already satisfied, skipping upgrade: idna<3,>=2.5 in /usr/local/lib/python3.6/dist-packages (from requests<3,>=2.20.0->mxnet) (2.10)\n",
      "Requirement already satisfied, skipping upgrade: urllib3!=1.25.0,!=1.25.1,<1.26,>=1.21.1 in /usr/local/lib/python3.6/dist-packages (from requests<3,>=2.20.0->mxnet) (1.24.3)\n",
      "Requirement already satisfied, skipping upgrade: certifi>=2017.4.17 in /usr/local/lib/python3.6/dist-packages (from requests<3,>=2.20.0->mxnet) (2020.6.20)\n",
      "Requirement already satisfied, skipping upgrade: chardet<4,>=3.0.2 in /usr/local/lib/python3.6/dist-packages (from requests<3,>=2.20.0->mxnet) (3.0.4)\n",
      "Installing collected packages: graphviz, mxnet\n",
      "  Found existing installation: graphviz 0.10.1\n",
      "    Uninstalling graphviz-0.10.1:\n",
      "      Successfully uninstalled graphviz-0.10.1\n",
      "Successfully installed graphviz-0.8.4 mxnet-1.7.0.post1\n",
      "Collecting keras_applications\n",
      "\u001b[?25l  Downloading https://files.pythonhosted.org/packages/71/e3/19762fdfc62877ae9102edf6342d71b28fbfd9dea3d2f96a882ce099b03f/Keras_Applications-1.0.8-py3-none-any.whl (50kB)\n",
      "\u001b[K     |████████████████████████████████| 51kB 2.6MB/s \n",
      "\u001b[?25hRequirement already satisfied: h5py in /usr/local/lib/python3.6/dist-packages (from keras_applications) (2.10.0)\n",
      "Requirement already satisfied: numpy>=1.9.1 in /usr/local/lib/python3.6/dist-packages (from keras_applications) (1.18.5)\n",
      "Requirement already satisfied: six in /usr/local/lib/python3.6/dist-packages (from h5py->keras_applications) (1.15.0)\n",
      "Installing collected packages: keras-applications\n",
      "Successfully installed keras-applications-1.0.8\n"
     ]
    }
   ],
   "source": [
    "!pip install insightface\n",
    "!pip install -U mxnet\n",
    "!pip install keras_applications"
   ]
  },
  {
   "cell_type": "code",
   "execution_count": null,
   "metadata": {
    "id": "GigsScoY5c3n"
   },
   "outputs": [],
   "source": [
    "import insightface\n",
    "import urllib\n",
    "import urllib.request\n",
    "import cv2\n",
    "import mxnet as mx\n",
    "import numpy as np\n",
    "import glob\n",
    "import os\n",
    "import matplotlib.pyplot as plt\n",
    "import numpy as np\n",
    "import pickle\n",
    "import pandas as pd\n",
    "from tqdm import tqdm\n",
    "from sklearn.metrics.pairwise import cosine_similarity\n",
    "from sklearn.metrics import roc_auc_score\n",
    "from keras.preprocessing import image"
   ]
  },
  {
   "cell_type": "code",
   "execution_count": null,
   "metadata": {
    "colab": {
     "base_uri": "https://localhost:8080/"
    },
    "id": "qE0n34ay7d5k",
    "outputId": "90d387a5-c88e-400e-df84-fb397d726dbf"
   },
   "outputs": [
    {
     "name": "stdout",
     "output_type": "stream",
     "text": [
      "Model file is not found. Downloading.\n",
      "Downloading /root/.insightface/models/arcface_r100_v1.zip from http://insightface.ai/files/models/arcface_r100_v1.zip...\n"
     ]
    },
    {
     "name": "stderr",
     "output_type": "stream",
     "text": [
      "100%|██████████| 237710/237710 [00:20<00:00, 11851.09KB/s]\n"
     ]
    }
   ],
   "source": [
    "model = insightface.model_zoo.get_model('arcface_r100_v1', pretrained=True, include_top=False)"
   ]
  },
  {
   "cell_type": "code",
   "execution_count": null,
   "metadata": {
    "colab": {
     "base_uri": "https://localhost:8080/"
    },
    "id": "PA3Zd-j6_kSZ",
    "outputId": "62e533c1-d0e4-472c-f219-519fa587b236"
   },
   "outputs": [
    {
     "name": "stdout",
     "output_type": "stream",
     "text": [
      "Mounted at /content/drive\n"
     ]
    }
   ],
   "source": [
    "from google.colab import drive\n",
    "drive.mount('/content/drive')"
   ]
  },
  {
   "cell_type": "code",
   "execution_count": null,
   "metadata": {
    "id": "sdsR2Rq3j0Vp"
   },
   "outputs": [],
   "source": [
    "# !cp -r \"/content/drive/My Drive/test\" \"/contest/data\""
   ]
  },
  {
   "cell_type": "markdown",
   "metadata": {
    "id": "eMVnqOV8KhMs"
   },
   "source": [
    "# Caucasian pairs\n"
   ]
  },
  {
   "cell_type": "code",
   "execution_count": null,
   "metadata": {
    "colab": {
     "base_uri": "https://localhost:8080/",
     "height": 204
    },
    "id": "CCaCSAXAUvs5",
    "outputId": "14c62345-8bfa-4def-f0b8-c1ffbfd56aad"
   },
   "outputs": [
    {
     "data": {
      "text/html": [
       "<div>\n",
       "<style scoped>\n",
       "    .dataframe tbody tr th:only-of-type {\n",
       "        vertical-align: middle;\n",
       "    }\n",
       "\n",
       "    .dataframe tbody tr th {\n",
       "        vertical-align: top;\n",
       "    }\n",
       "\n",
       "    .dataframe thead th {\n",
       "        text-align: right;\n",
       "    }\n",
       "</style>\n",
       "<table border=\"1\" class=\"dataframe\">\n",
       "  <thead>\n",
       "    <tr style=\"text-align: right;\">\n",
       "      <th></th>\n",
       "      <th>person_l</th>\n",
       "      <th>person_r</th>\n",
       "      <th>number_l</th>\n",
       "      <th>number_r</th>\n",
       "      <th>same</th>\n",
       "    </tr>\n",
       "  </thead>\n",
       "  <tbody>\n",
       "    <tr>\n",
       "      <th>0</th>\n",
       "      <td>m.027n6t8</td>\n",
       "      <td>m.027n6t8</td>\n",
       "      <td>3</td>\n",
       "      <td>2</td>\n",
       "      <td>1</td>\n",
       "    </tr>\n",
       "    <tr>\n",
       "      <th>1</th>\n",
       "      <td>m.016lb3</td>\n",
       "      <td>m.016lb3</td>\n",
       "      <td>4</td>\n",
       "      <td>2</td>\n",
       "      <td>1</td>\n",
       "    </tr>\n",
       "    <tr>\n",
       "      <th>2</th>\n",
       "      <td>m.02_4qt</td>\n",
       "      <td>m.02_4qt</td>\n",
       "      <td>3</td>\n",
       "      <td>2</td>\n",
       "      <td>1</td>\n",
       "    </tr>\n",
       "    <tr>\n",
       "      <th>3</th>\n",
       "      <td>m.09g8fj</td>\n",
       "      <td>m.09g8fj</td>\n",
       "      <td>3</td>\n",
       "      <td>1</td>\n",
       "      <td>1</td>\n",
       "    </tr>\n",
       "    <tr>\n",
       "      <th>4</th>\n",
       "      <td>m.01q3xr</td>\n",
       "      <td>m.01q3xr</td>\n",
       "      <td>1</td>\n",
       "      <td>3</td>\n",
       "      <td>1</td>\n",
       "    </tr>\n",
       "  </tbody>\n",
       "</table>\n",
       "</div>"
      ],
      "text/plain": [
       "    person_l   person_r  number_l  number_r  same\n",
       "0  m.027n6t8  m.027n6t8         3         2     1\n",
       "1   m.016lb3   m.016lb3         4         2     1\n",
       "2   m.02_4qt   m.02_4qt         3         2     1\n",
       "3   m.09g8fj   m.09g8fj         3         1     1\n",
       "4   m.01q3xr   m.01q3xr         1         3     1"
      ]
     },
     "execution_count": 9,
     "metadata": {
      "tags": []
     },
     "output_type": "execute_result"
    }
   ],
   "source": [
    "# Считаем уже отобранные 6000 пар по cosin similarity\n",
    "Caucasian_pais = '/content/drive/My Drive/test/txts/Caucasian/Caucasian_pairs.txt'\n",
    "pairs = pd.read_csv(Caucasian_pais, header=None)\n",
    "pairs = pairs[0]\n",
    "rows = []\n",
    "for pair in pairs:\n",
    "  if len(pair.split('\\t'))>3:\n",
    "      row = pair.split('\\t')\n",
    "      rows.append([row[0],row[2],int(row[1]), int(row[3]), 0])\n",
    "  else:\n",
    "      row = pair.split('\\t')\n",
    "      rows.append([row[0],row[0], int(row[1]), int(row[2]), 1])    \n",
    "data_pair = pd.DataFrame(rows, columns=['person_l','person_r','number_l','number_r','same'])\n",
    "data_pair.head()"
   ]
  },
  {
   "cell_type": "code",
   "execution_count": null,
   "metadata": {
    "colab": {
     "base_uri": "https://localhost:8080/",
     "height": 221
    },
    "id": "TVO_Sw_EVxGs",
    "outputId": "c83df5af-fea8-473f-d148-9fef3096515f"
   },
   "outputs": [
    {
     "name": "stdout",
     "output_type": "stream",
     "text": [
      "10196\n"
     ]
    },
    {
     "data": {
      "text/html": [
       "<div>\n",
       "<style scoped>\n",
       "    .dataframe tbody tr th:only-of-type {\n",
       "        vertical-align: middle;\n",
       "    }\n",
       "\n",
       "    .dataframe tbody tr th {\n",
       "        vertical-align: top;\n",
       "    }\n",
       "\n",
       "    .dataframe thead th {\n",
       "        text-align: right;\n",
       "    }\n",
       "</style>\n",
       "<table border=\"1\" class=\"dataframe\">\n",
       "  <thead>\n",
       "    <tr style=\"text-align: right;\">\n",
       "      <th></th>\n",
       "      <th>person</th>\n",
       "      <th>path</th>\n",
       "      <th>number</th>\n",
       "    </tr>\n",
       "  </thead>\n",
       "  <tbody>\n",
       "    <tr>\n",
       "      <th>0</th>\n",
       "      <td>m.027d4p</td>\n",
       "      <td>/content/drive/My Drive/test/data/Caucasian/m....</td>\n",
       "      <td>3</td>\n",
       "    </tr>\n",
       "    <tr>\n",
       "      <th>1</th>\n",
       "      <td>m.027d4p</td>\n",
       "      <td>/content/drive/My Drive/test/data/Caucasian/m....</td>\n",
       "      <td>2</td>\n",
       "    </tr>\n",
       "    <tr>\n",
       "      <th>2</th>\n",
       "      <td>m.027d4p</td>\n",
       "      <td>/content/drive/My Drive/test/data/Caucasian/m....</td>\n",
       "      <td>1</td>\n",
       "    </tr>\n",
       "    <tr>\n",
       "      <th>3</th>\n",
       "      <td>m.09y58j</td>\n",
       "      <td>/content/drive/My Drive/test/data/Caucasian/m....</td>\n",
       "      <td>1</td>\n",
       "    </tr>\n",
       "    <tr>\n",
       "      <th>4</th>\n",
       "      <td>m.09y58j</td>\n",
       "      <td>/content/drive/My Drive/test/data/Caucasian/m....</td>\n",
       "      <td>3</td>\n",
       "    </tr>\n",
       "  </tbody>\n",
       "</table>\n",
       "</div>"
      ],
      "text/plain": [
       "     person                                               path  number\n",
       "0  m.027d4p  /content/drive/My Drive/test/data/Caucasian/m....       3\n",
       "1  m.027d4p  /content/drive/My Drive/test/data/Caucasian/m....       2\n",
       "2  m.027d4p  /content/drive/My Drive/test/data/Caucasian/m....       1\n",
       "3  m.09y58j  /content/drive/My Drive/test/data/Caucasian/m....       1\n",
       "4  m.09y58j  /content/drive/My Drive/test/data/Caucasian/m....       3"
      ]
     },
     "execution_count": 10,
     "metadata": {
      "tags": []
     },
     "output_type": "execute_result"
    }
   ],
   "source": [
    "ROOT_FOLDER = '/content/drive/My Drive/test/data/Caucasian/'\n",
    "dataset = []\n",
    "for path in glob.iglob(os.path.join(ROOT_FOLDER, \"**\", \"*.jpg\")):\n",
    "    person = path.split(\"/\")[-2]\n",
    "    dataset.append({\"person\":person, \"path\": path})\n",
    "print(len(dataset))\n",
    "dataset = pd.DataFrame(dataset)\n",
    "dataset['number'] = dataset.path.apply(lambda x: int(x.split('_')[-1].split('.')[0]))\n",
    "dataset.head()"
   ]
  },
  {
   "cell_type": "code",
   "execution_count": null,
   "metadata": {
    "id": "puD-QGzhWHzY"
   },
   "outputs": [],
   "source": [
    "data_pair = data_pair.merge(dataset[['person','number','path']], left_on=['person_l', 'number_l'], right_on=['person', 'number'], how='inner')\n",
    "data_pair = data_pair.rename({'path': 'path_l'}, axis='columns')\n",
    "data_pair.drop(['person','number'], axis=1, inplace=True)\n",
    "\n",
    "data_pair = data_pair.merge(dataset[['person','number','path']], left_on=['person_r', 'number_r'], right_on=['person', 'number'], how='inner')\n",
    "data_pair = data_pair.rename({'path': 'path_r'}, axis='columns')\n",
    "data_pair.drop(['person','number'], axis=1, inplace=True)"
   ]
  },
  {
   "cell_type": "code",
   "execution_count": null,
   "metadata": {
    "colab": {
     "base_uri": "https://localhost:8080/"
    },
    "id": "8OK9GcZgWMts",
    "outputId": "fa38e9b9-c3b7-4aa2-b42d-06b0045261f8"
   },
   "outputs": [
    {
     "name": "stdout",
     "output_type": "stream",
     "text": [
      "CPU times: user 2 µs, sys: 0 ns, total: 2 µs\n",
      "Wall time: 4.29 µs\n"
     ]
    },
    {
     "name": "stderr",
     "output_type": "stream",
     "text": [
      "100%|██████████| 6000/6000 [3:12:13<00:00,  1.92s/it]\n"
     ]
    }
   ],
   "source": [
    "%time\n",
    "sim = []\n",
    "model.prepare(ctx_id = -1)\n",
    "data_pair['sim'] = [0.0]*data_pair.shape[0]\n",
    "for idx in tqdm(range(data_pair.shape[0])):\n",
    "\n",
    "  img = image.load_img(data_pair.path_l[idx], target_size=(112, 112))\n",
    "  x = image.img_to_array(img)\n",
    "  preds_x = model.get_embedding(x)\n",
    "\n",
    "  img = image.load_img(data_pair.path_r[idx], target_size=(112, 112))\n",
    "  y = image.img_to_array(img)\n",
    "  preds_y = model.get_embedding(y)\n",
    "\n",
    "  data_pair.loc[idx, 'sim'] = cosine_similarity(preds_x, preds_y)[0][0]\n",
    "result = pd.DataFrame({'target':data_pair.same, 'score': data_pair.sim})"
   ]
  },
  {
   "cell_type": "code",
   "execution_count": null,
   "metadata": {
    "colab": {
     "base_uri": "https://localhost:8080/"
    },
    "id": "vaZ3EzwnI0Fq",
    "outputId": "159e908c-1ede-4fd2-a6ef-64d0c5032d19"
   },
   "outputs": [
    {
     "data": {
      "text/plain": [
       "0.9602392222222222"
      ]
     },
     "execution_count": 16,
     "metadata": {
      "tags": []
     },
     "output_type": "execute_result"
    }
   ],
   "source": [
    "result = result.sort_values('score', ascending=False)\n",
    "roc_auc_score(result.target, result.score)"
   ]
  },
  {
   "cell_type": "markdown",
   "metadata": {
    "id": "i_8CR5kMK4gQ"
   },
   "source": [
    "# African pairs"
   ]
  },
  {
   "cell_type": "code",
   "execution_count": null,
   "metadata": {
    "colab": {
     "base_uri": "https://localhost:8080/",
     "height": 204
    },
    "id": "6iJcc9WiI66s",
    "outputId": "2eca434e-8a36-4dff-f33a-1fd56c2cbfa3"
   },
   "outputs": [
    {
     "data": {
      "text/html": [
       "<div>\n",
       "<style scoped>\n",
       "    .dataframe tbody tr th:only-of-type {\n",
       "        vertical-align: middle;\n",
       "    }\n",
       "\n",
       "    .dataframe tbody tr th {\n",
       "        vertical-align: top;\n",
       "    }\n",
       "\n",
       "    .dataframe thead th {\n",
       "        text-align: right;\n",
       "    }\n",
       "</style>\n",
       "<table border=\"1\" class=\"dataframe\">\n",
       "  <thead>\n",
       "    <tr style=\"text-align: right;\">\n",
       "      <th></th>\n",
       "      <th>person_l</th>\n",
       "      <th>person_r</th>\n",
       "      <th>number_l</th>\n",
       "      <th>number_r</th>\n",
       "      <th>same</th>\n",
       "    </tr>\n",
       "  </thead>\n",
       "  <tbody>\n",
       "    <tr>\n",
       "      <th>0</th>\n",
       "      <td>m.0g5ty_</td>\n",
       "      <td>m.0g5ty_</td>\n",
       "      <td>1</td>\n",
       "      <td>2</td>\n",
       "      <td>1</td>\n",
       "    </tr>\n",
       "    <tr>\n",
       "      <th>1</th>\n",
       "      <td>m.05q5bqf</td>\n",
       "      <td>m.05q5bqf</td>\n",
       "      <td>2</td>\n",
       "      <td>3</td>\n",
       "      <td>1</td>\n",
       "    </tr>\n",
       "    <tr>\n",
       "      <th>2</th>\n",
       "      <td>m.03yfnz5</td>\n",
       "      <td>m.03yfnz5</td>\n",
       "      <td>2</td>\n",
       "      <td>1</td>\n",
       "      <td>1</td>\n",
       "    </tr>\n",
       "    <tr>\n",
       "      <th>3</th>\n",
       "      <td>m.03npynb</td>\n",
       "      <td>m.03npynb</td>\n",
       "      <td>2</td>\n",
       "      <td>3</td>\n",
       "      <td>1</td>\n",
       "    </tr>\n",
       "    <tr>\n",
       "      <th>4</th>\n",
       "      <td>m.0h1f_hh</td>\n",
       "      <td>m.0h1f_hh</td>\n",
       "      <td>1</td>\n",
       "      <td>3</td>\n",
       "      <td>1</td>\n",
       "    </tr>\n",
       "  </tbody>\n",
       "</table>\n",
       "</div>"
      ],
      "text/plain": [
       "    person_l   person_r  number_l  number_r  same\n",
       "0   m.0g5ty_   m.0g5ty_         1         2     1\n",
       "1  m.05q5bqf  m.05q5bqf         2         3     1\n",
       "2  m.03yfnz5  m.03yfnz5         2         1     1\n",
       "3  m.03npynb  m.03npynb         2         3     1\n",
       "4  m.0h1f_hh  m.0h1f_hh         1         3     1"
      ]
     },
     "execution_count": 6,
     "metadata": {
      "tags": []
     },
     "output_type": "execute_result"
    }
   ],
   "source": [
    "# Считаем уже отобранные 6000 пар по cosin similarity\n",
    "African_pais = '/content/drive/My Drive/test/txts/African/African_pairs.txt'\n",
    "pairs = pd.read_csv(African_pais, header=None)\n",
    "pairs = pairs[0]\n",
    "rows = []\n",
    "for pair in pairs:\n",
    "  if len(pair.split('\\t'))>3:\n",
    "      row = pair.split('\\t')\n",
    "      rows.append([row[0],row[2],int(row[1]), int(row[3]), 0])\n",
    "  else:\n",
    "      row = pair.split('\\t')\n",
    "      rows.append([row[0],row[0], int(row[1]), int(row[2]), 1])    \n",
    "data_pair = pd.DataFrame(rows, columns=['person_l','person_r','number_l','number_r','same'])\n",
    "data_pair.head()"
   ]
  },
  {
   "cell_type": "code",
   "execution_count": null,
   "metadata": {
    "colab": {
     "base_uri": "https://localhost:8080/",
     "height": 221
    },
    "id": "D5S8lV7JLhFs",
    "outputId": "440403f9-bd74-4fdd-e1ca-ee07f766f3db"
   },
   "outputs": [
    {
     "name": "stdout",
     "output_type": "stream",
     "text": [
      "10415\n"
     ]
    },
    {
     "data": {
      "text/html": [
       "<div>\n",
       "<style scoped>\n",
       "    .dataframe tbody tr th:only-of-type {\n",
       "        vertical-align: middle;\n",
       "    }\n",
       "\n",
       "    .dataframe tbody tr th {\n",
       "        vertical-align: top;\n",
       "    }\n",
       "\n",
       "    .dataframe thead th {\n",
       "        text-align: right;\n",
       "    }\n",
       "</style>\n",
       "<table border=\"1\" class=\"dataframe\">\n",
       "  <thead>\n",
       "    <tr style=\"text-align: right;\">\n",
       "      <th></th>\n",
       "      <th>person</th>\n",
       "      <th>path</th>\n",
       "      <th>number</th>\n",
       "      <th>key</th>\n",
       "    </tr>\n",
       "  </thead>\n",
       "  <tbody>\n",
       "    <tr>\n",
       "      <th>0</th>\n",
       "      <td>m.05jwk9</td>\n",
       "      <td>/content/drive/My Drive/test/data/African/m.05...</td>\n",
       "      <td>3</td>\n",
       "      <td>1</td>\n",
       "    </tr>\n",
       "    <tr>\n",
       "      <th>1</th>\n",
       "      <td>m.05jwk9</td>\n",
       "      <td>/content/drive/My Drive/test/data/African/m.05...</td>\n",
       "      <td>5</td>\n",
       "      <td>1</td>\n",
       "    </tr>\n",
       "    <tr>\n",
       "      <th>2</th>\n",
       "      <td>m.05jwk9</td>\n",
       "      <td>/content/drive/My Drive/test/data/African/m.05...</td>\n",
       "      <td>1</td>\n",
       "      <td>1</td>\n",
       "    </tr>\n",
       "    <tr>\n",
       "      <th>3</th>\n",
       "      <td>m.05jwk9</td>\n",
       "      <td>/content/drive/My Drive/test/data/African/m.05...</td>\n",
       "      <td>2</td>\n",
       "      <td>1</td>\n",
       "    </tr>\n",
       "    <tr>\n",
       "      <th>4</th>\n",
       "      <td>m.05jwk9</td>\n",
       "      <td>/content/drive/My Drive/test/data/African/m.05...</td>\n",
       "      <td>4</td>\n",
       "      <td>1</td>\n",
       "    </tr>\n",
       "  </tbody>\n",
       "</table>\n",
       "</div>"
      ],
      "text/plain": [
       "     person                                               path  number  key\n",
       "0  m.05jwk9  /content/drive/My Drive/test/data/African/m.05...       3    1\n",
       "1  m.05jwk9  /content/drive/My Drive/test/data/African/m.05...       5    1\n",
       "2  m.05jwk9  /content/drive/My Drive/test/data/African/m.05...       1    1\n",
       "3  m.05jwk9  /content/drive/My Drive/test/data/African/m.05...       2    1\n",
       "4  m.05jwk9  /content/drive/My Drive/test/data/African/m.05...       4    1"
      ]
     },
     "execution_count": 7,
     "metadata": {
      "tags": []
     },
     "output_type": "execute_result"
    }
   ],
   "source": [
    "ROOT_FOLDER = '/content/drive/My Drive/test/data/African/'\n",
    "dataset = []\n",
    "for path in glob.iglob(os.path.join(ROOT_FOLDER, \"**\", \"*.jpg\")):\n",
    "    person = path.split(\"/\")[-2]\n",
    "    dataset.append({\"person\":person, \"path\": path})\n",
    "print(len(dataset))\n",
    "dataset = pd.DataFrame(dataset)\n",
    "dataset['number'] = dataset.path.apply(lambda x: int(x.split('_')[-1].split('.')[0]))\n",
    "dataset['key'] =1\n",
    "dataset.head()"
   ]
  },
  {
   "cell_type": "code",
   "execution_count": null,
   "metadata": {
    "id": "fhbdE4r_L08d"
   },
   "outputs": [],
   "source": [
    "data_pair = data_pair.merge(dataset[['person','number','path']], left_on=['person_l', 'number_l'], right_on=['person', 'number'], how='inner')\n",
    "data_pair = data_pair.rename({'path': 'path_l'}, axis='columns')\n",
    "data_pair.drop(['person','number'], axis=1, inplace=True)\n",
    "\n",
    "data_pair = data_pair.merge(dataset[['person','number','path']], left_on=['person_r', 'number_r'], right_on=['person', 'number'], how='inner')\n",
    "data_pair = data_pair.rename({'path': 'path_r'}, axis='columns')\n",
    "data_pair.drop(['person','number'], axis=1, inplace=True)"
   ]
  },
  {
   "cell_type": "code",
   "execution_count": null,
   "metadata": {
    "colab": {
     "base_uri": "https://localhost:8080/"
    },
    "id": "hcof400XL4TF",
    "outputId": "e78b1bd0-50e5-4353-8bc6-dff5601f46a3"
   },
   "outputs": [
    {
     "name": "stdout",
     "output_type": "stream",
     "text": [
      "CPU times: user 2 µs, sys: 1 µs, total: 3 µs\n",
      "Wall time: 4.77 µs\n"
     ]
    },
    {
     "name": "stderr",
     "output_type": "stream",
     "text": [
      "100%|██████████| 6000/6000 [3:01:20<00:00,  1.81s/it]\n"
     ]
    }
   ],
   "source": [
    "%time\n",
    "sim = []\n",
    "model.prepare(ctx_id = -1)\n",
    "data_pair['sim'] = [0.0]*data_pair.shape[0]\n",
    "for idx in tqdm(range(data_pair.shape[0])):\n",
    "\n",
    "  img = image.load_img(data_pair.path_l[idx], target_size=(112, 112))\n",
    "  x = image.img_to_array(img)\n",
    "  preds_x = model.get_embedding(x)\n",
    "\n",
    "  img = image.load_img(data_pair.path_r[idx], target_size=(112, 112))\n",
    "  y = image.img_to_array(img)\n",
    "  preds_y = model.get_embedding(y)\n",
    "\n",
    "  data_pair.loc[idx, 'sim'] = cosine_similarity(preds_x, preds_y)[0][0]\n",
    "result = pd.DataFrame({'target':data_pair.same, 'score': data_pair.sim})"
   ]
  },
  {
   "cell_type": "code",
   "execution_count": null,
   "metadata": {
    "colab": {
     "base_uri": "https://localhost:8080/"
    },
    "id": "E2CQ3c8V4eo0",
    "outputId": "38299445-6a4b-4a59-dfb4-c5e35a3a2b65"
   },
   "outputs": [
    {
     "data": {
      "text/plain": [
       "0.9149914444444444"
      ]
     },
     "execution_count": 10,
     "metadata": {
      "tags": []
     },
     "output_type": "execute_result"
    }
   ],
   "source": [
    "result = result.sort_values('score', ascending=False)\n",
    "roc_auc_score(result.target, result.score)"
   ]
  },
  {
   "cell_type": "markdown",
   "metadata": {
    "id": "ik1P_XLC5key"
   },
   "source": [
    "# Indian Pairs"
   ]
  },
  {
   "cell_type": "code",
   "execution_count": 15,
   "metadata": {
    "colab": {
     "base_uri": "https://localhost:8080/",
     "height": 204
    },
    "id": "MrZVstLg5jow",
    "outputId": "a36a224b-2c17-4f05-90df-ab18c19105bc"
   },
   "outputs": [
    {
     "data": {
      "text/html": [
       "<div>\n",
       "<style scoped>\n",
       "    .dataframe tbody tr th:only-of-type {\n",
       "        vertical-align: middle;\n",
       "    }\n",
       "\n",
       "    .dataframe tbody tr th {\n",
       "        vertical-align: top;\n",
       "    }\n",
       "\n",
       "    .dataframe thead th {\n",
       "        text-align: right;\n",
       "    }\n",
       "</style>\n",
       "<table border=\"1\" class=\"dataframe\">\n",
       "  <thead>\n",
       "    <tr style=\"text-align: right;\">\n",
       "      <th></th>\n",
       "      <th>person_l</th>\n",
       "      <th>person_r</th>\n",
       "      <th>number_l</th>\n",
       "      <th>number_r</th>\n",
       "      <th>same</th>\n",
       "    </tr>\n",
       "  </thead>\n",
       "  <tbody>\n",
       "    <tr>\n",
       "      <th>0</th>\n",
       "      <td>m.04ld_9f</td>\n",
       "      <td>m.04ld_9f</td>\n",
       "      <td>1</td>\n",
       "      <td>3</td>\n",
       "      <td>1</td>\n",
       "    </tr>\n",
       "    <tr>\n",
       "      <th>1</th>\n",
       "      <td>m.02qv6d7</td>\n",
       "      <td>m.02qv6d7</td>\n",
       "      <td>2</td>\n",
       "      <td>1</td>\n",
       "      <td>1</td>\n",
       "    </tr>\n",
       "    <tr>\n",
       "      <th>2</th>\n",
       "      <td>m.0j9ncvv</td>\n",
       "      <td>m.0j9ncvv</td>\n",
       "      <td>3</td>\n",
       "      <td>1</td>\n",
       "      <td>1</td>\n",
       "    </tr>\n",
       "    <tr>\n",
       "      <th>3</th>\n",
       "      <td>m.034kdq</td>\n",
       "      <td>m.034kdq</td>\n",
       "      <td>1</td>\n",
       "      <td>2</td>\n",
       "      <td>1</td>\n",
       "    </tr>\n",
       "    <tr>\n",
       "      <th>4</th>\n",
       "      <td>m.04qp06</td>\n",
       "      <td>m.04qp06</td>\n",
       "      <td>1</td>\n",
       "      <td>4</td>\n",
       "      <td>1</td>\n",
       "    </tr>\n",
       "  </tbody>\n",
       "</table>\n",
       "</div>"
      ],
      "text/plain": [
       "    person_l   person_r  number_l  number_r  same\n",
       "0  m.04ld_9f  m.04ld_9f         1         3     1\n",
       "1  m.02qv6d7  m.02qv6d7         2         1     1\n",
       "2  m.0j9ncvv  m.0j9ncvv         3         1     1\n",
       "3   m.034kdq   m.034kdq         1         2     1\n",
       "4   m.04qp06   m.04qp06         1         4     1"
      ]
     },
     "execution_count": 15,
     "metadata": {
      "tags": []
     },
     "output_type": "execute_result"
    }
   ],
   "source": [
    "# Считаем уже отобранные 6000 пар по cosin similarity\n",
    "Indian_pais = '/content/drive/My Drive/test/txts/Indian/Indian_pairs.txt'\n",
    "pairs = pd.read_csv(Indian_pais, header=None)\n",
    "pairs = pairs[0]\n",
    "rows = []\n",
    "for pair in pairs:\n",
    "  if len(pair.split('\\t'))>3:\n",
    "      row = pair.split('\\t')\n",
    "      rows.append([row[0],row[2],int(row[1]), int(row[3]), 0])\n",
    "  else:\n",
    "      row = pair.split('\\t')\n",
    "      rows.append([row[0],row[0], int(row[1]), int(row[2]), 1])    \n",
    "data_pair = pd.DataFrame(rows, columns=['person_l','person_r','number_l','number_r','same'])\n",
    "data_pair.head()"
   ]
  },
  {
   "cell_type": "code",
   "execution_count": null,
   "metadata": {
    "colab": {
     "base_uri": "https://localhost:8080/",
     "height": 221
    },
    "id": "j1zJjS135tte",
    "outputId": "a6cbda13-e485-4631-dfec-a84327a90b68"
   },
   "outputs": [
    {
     "name": "stdout",
     "output_type": "stream",
     "text": [
      "10308\n"
     ]
    },
    {
     "data": {
      "text/html": [
       "<div>\n",
       "<style scoped>\n",
       "    .dataframe tbody tr th:only-of-type {\n",
       "        vertical-align: middle;\n",
       "    }\n",
       "\n",
       "    .dataframe tbody tr th {\n",
       "        vertical-align: top;\n",
       "    }\n",
       "\n",
       "    .dataframe thead th {\n",
       "        text-align: right;\n",
       "    }\n",
       "</style>\n",
       "<table border=\"1\" class=\"dataframe\">\n",
       "  <thead>\n",
       "    <tr style=\"text-align: right;\">\n",
       "      <th></th>\n",
       "      <th>person</th>\n",
       "      <th>path</th>\n",
       "      <th>number</th>\n",
       "      <th>key</th>\n",
       "    </tr>\n",
       "  </thead>\n",
       "  <tbody>\n",
       "    <tr>\n",
       "      <th>0</th>\n",
       "      <td>m.0g54n2</td>\n",
       "      <td>/content/drive/My Drive/test/data/Indian/m.0g5...</td>\n",
       "      <td>1</td>\n",
       "      <td>1</td>\n",
       "    </tr>\n",
       "    <tr>\n",
       "      <th>1</th>\n",
       "      <td>m.0g54n2</td>\n",
       "      <td>/content/drive/My Drive/test/data/Indian/m.0g5...</td>\n",
       "      <td>2</td>\n",
       "      <td>1</td>\n",
       "    </tr>\n",
       "    <tr>\n",
       "      <th>2</th>\n",
       "      <td>m.0g54n2</td>\n",
       "      <td>/content/drive/My Drive/test/data/Indian/m.0g5...</td>\n",
       "      <td>3</td>\n",
       "      <td>1</td>\n",
       "    </tr>\n",
       "    <tr>\n",
       "      <th>3</th>\n",
       "      <td>m.0g54n2</td>\n",
       "      <td>/content/drive/My Drive/test/data/Indian/m.0g5...</td>\n",
       "      <td>4</td>\n",
       "      <td>1</td>\n",
       "    </tr>\n",
       "    <tr>\n",
       "      <th>4</th>\n",
       "      <td>m.038j0b</td>\n",
       "      <td>/content/drive/My Drive/test/data/Indian/m.038...</td>\n",
       "      <td>3</td>\n",
       "      <td>1</td>\n",
       "    </tr>\n",
       "  </tbody>\n",
       "</table>\n",
       "</div>"
      ],
      "text/plain": [
       "     person                                               path  number  key\n",
       "0  m.0g54n2  /content/drive/My Drive/test/data/Indian/m.0g5...       1    1\n",
       "1  m.0g54n2  /content/drive/My Drive/test/data/Indian/m.0g5...       2    1\n",
       "2  m.0g54n2  /content/drive/My Drive/test/data/Indian/m.0g5...       3    1\n",
       "3  m.0g54n2  /content/drive/My Drive/test/data/Indian/m.0g5...       4    1\n",
       "4  m.038j0b  /content/drive/My Drive/test/data/Indian/m.038...       3    1"
      ]
     },
     "execution_count": 12,
     "metadata": {
      "tags": []
     },
     "output_type": "execute_result"
    }
   ],
   "source": [
    "ROOT_FOLDER = '/content/drive/My Drive/test/data/Indian/'\n",
    "dataset = []\n",
    "for path in glob.iglob(os.path.join(ROOT_FOLDER, \"**\", \"*.jpg\")):\n",
    "    person = path.split(\"/\")[-2]\n",
    "    dataset.append({\"person\":person, \"path\": path})\n",
    "print(len(dataset))\n",
    "dataset = pd.DataFrame(dataset)\n",
    "dataset['number'] = dataset.path.apply(lambda x: int(x.split('_')[-1].split('.')[0]))\n",
    "dataset['key'] =1\n",
    "dataset.head()"
   ]
  },
  {
   "cell_type": "code",
   "execution_count": null,
   "metadata": {
    "id": "J6jpq5QU6DLR"
   },
   "outputs": [],
   "source": [
    "data_pair = data_pair.merge(dataset[['person','number','path']], left_on=['person_l', 'number_l'], right_on=['person', 'number'], how='inner')\n",
    "data_pair = data_pair.rename({'path': 'path_l'}, axis='columns')\n",
    "data_pair.drop(['person','number'], axis=1, inplace=True)\n",
    "\n",
    "data_pair = data_pair.merge(dataset[['person','number','path']], left_on=['person_r', 'number_r'], right_on=['person', 'number'], how='inner')\n",
    "data_pair = data_pair.rename({'path': 'path_r'}, axis='columns')\n",
    "data_pair.drop(['person','number'], axis=1, inplace=True)"
   ]
  },
  {
   "cell_type": "code",
   "execution_count": 14,
   "metadata": {
    "colab": {
     "base_uri": "https://localhost:8080/"
    },
    "id": "g5rqhES06GiJ",
    "outputId": "9c2e9b43-d105-4f99-e162-d4e976102a98"
   },
   "outputs": [
    {
     "name": "stdout",
     "output_type": "stream",
     "text": [
      "CPU times: user 2 µs, sys: 0 ns, total: 2 µs\n",
      "Wall time: 5.25 µs\n"
     ]
    },
    {
     "name": "stderr",
     "output_type": "stream",
     "text": [
      "100%|██████████| 6000/6000 [3:01:02<00:00,  1.81s/it]\n"
     ]
    }
   ],
   "source": [
    "%time\n",
    "sim = []\n",
    "model.prepare(ctx_id = -1)\n",
    "data_pair['sim'] = [0.0]*data_pair.shape[0]\n",
    "for idx in tqdm(range(data_pair.shape[0])):\n",
    "\n",
    "  img = image.load_img(data_pair.path_l[idx], target_size=(112, 112))\n",
    "  x = image.img_to_array(img)\n",
    "  preds_x = model.get_embedding(x)\n",
    "\n",
    "  img = image.load_img(data_pair.path_r[idx], target_size=(112, 112))\n",
    "  y = image.img_to_array(img)\n",
    "  preds_y = model.get_embedding(y)\n",
    "\n",
    "  data_pair.loc[idx, 'sim'] = cosine_similarity(preds_x, preds_y)[0][0]\n",
    "result = pd.DataFrame({'target':data_pair.same, 'score': data_pair.sim})"
   ]
  },
  {
   "cell_type": "code",
   "execution_count": 16,
   "metadata": {
    "colab": {
     "base_uri": "https://localhost:8080/"
    },
    "id": "FS2oLljIiZB8",
    "outputId": "21c2b829-1c40-49e0-9680-25f9251bc718"
   },
   "outputs": [
    {
     "data": {
      "text/plain": [
       "0.9360234444444444"
      ]
     },
     "execution_count": 16,
     "metadata": {
      "tags": []
     },
     "output_type": "execute_result"
    }
   ],
   "source": [
    "result = result.sort_values('score', ascending=False)\n",
    "roc_auc_score(result.target, result.score)"
   ]
  },
  {
   "cell_type": "markdown",
   "metadata": {
    "id": "sonZBXqLi0rB"
   },
   "source": [
    "# Asian pairs"
   ]
  },
  {
   "cell_type": "code",
   "execution_count": null,
   "metadata": {
    "id": "iSN540DAi3zg"
   },
   "outputs": [],
   "source": [
    "# Считаем уже отобранные 6000 пар по cosin similarity\n",
    "Asian_pais = '/content/drive/My Drive/test/txts/Asian/Asian_pairs.txt'\n",
    "pairs = pd.read_csv(Asian_pais, header=None)\n",
    "pairs = pairs[0]\n",
    "rows = []\n",
    "for pair in pairs:\n",
    "  if len(pair.split('\\t'))>3:\n",
    "      row = pair.split('\\t')\n",
    "      rows.append([row[0],row[2],int(row[1]), int(row[3]), 0])\n",
    "  else:\n",
    "      row = pair.split('\\t')\n",
    "      rows.append([row[0],row[0], int(row[1]), int(row[2]), 1])    \n",
    "data_pair = pd.DataFrame(rows, columns=['person_l','person_r','number_l','number_r','same'])\n",
    "data_pair.head()"
   ]
  },
  {
   "cell_type": "code",
   "execution_count": 18,
   "metadata": {
    "colab": {
     "base_uri": "https://localhost:8080/",
     "height": 221
    },
    "id": "1AiqRZVjjFwp",
    "outputId": "3d32767e-59bd-4ee8-c442-493b2bf23623"
   },
   "outputs": [
    {
     "name": "stdout",
     "output_type": "stream",
     "text": [
      "9688\n"
     ]
    },
    {
     "data": {
      "text/html": [
       "<div>\n",
       "<style scoped>\n",
       "    .dataframe tbody tr th:only-of-type {\n",
       "        vertical-align: middle;\n",
       "    }\n",
       "\n",
       "    .dataframe tbody tr th {\n",
       "        vertical-align: top;\n",
       "    }\n",
       "\n",
       "    .dataframe thead th {\n",
       "        text-align: right;\n",
       "    }\n",
       "</style>\n",
       "<table border=\"1\" class=\"dataframe\">\n",
       "  <thead>\n",
       "    <tr style=\"text-align: right;\">\n",
       "      <th></th>\n",
       "      <th>person</th>\n",
       "      <th>path</th>\n",
       "      <th>number</th>\n",
       "      <th>key</th>\n",
       "    </tr>\n",
       "  </thead>\n",
       "  <tbody>\n",
       "    <tr>\n",
       "      <th>0</th>\n",
       "      <td>m.04xvn3</td>\n",
       "      <td>/content/drive/My Drive/test/data/Asian/m.04xv...</td>\n",
       "      <td>5</td>\n",
       "      <td>1</td>\n",
       "    </tr>\n",
       "    <tr>\n",
       "      <th>1</th>\n",
       "      <td>m.04xvn3</td>\n",
       "      <td>/content/drive/My Drive/test/data/Asian/m.04xv...</td>\n",
       "      <td>2</td>\n",
       "      <td>1</td>\n",
       "    </tr>\n",
       "    <tr>\n",
       "      <th>2</th>\n",
       "      <td>m.04xvn3</td>\n",
       "      <td>/content/drive/My Drive/test/data/Asian/m.04xv...</td>\n",
       "      <td>6</td>\n",
       "      <td>1</td>\n",
       "    </tr>\n",
       "    <tr>\n",
       "      <th>3</th>\n",
       "      <td>m.04xvn3</td>\n",
       "      <td>/content/drive/My Drive/test/data/Asian/m.04xv...</td>\n",
       "      <td>3</td>\n",
       "      <td>1</td>\n",
       "    </tr>\n",
       "    <tr>\n",
       "      <th>4</th>\n",
       "      <td>m.04xvn3</td>\n",
       "      <td>/content/drive/My Drive/test/data/Asian/m.04xv...</td>\n",
       "      <td>1</td>\n",
       "      <td>1</td>\n",
       "    </tr>\n",
       "  </tbody>\n",
       "</table>\n",
       "</div>"
      ],
      "text/plain": [
       "     person                                               path  number  key\n",
       "0  m.04xvn3  /content/drive/My Drive/test/data/Asian/m.04xv...       5    1\n",
       "1  m.04xvn3  /content/drive/My Drive/test/data/Asian/m.04xv...       2    1\n",
       "2  m.04xvn3  /content/drive/My Drive/test/data/Asian/m.04xv...       6    1\n",
       "3  m.04xvn3  /content/drive/My Drive/test/data/Asian/m.04xv...       3    1\n",
       "4  m.04xvn3  /content/drive/My Drive/test/data/Asian/m.04xv...       1    1"
      ]
     },
     "execution_count": 18,
     "metadata": {
      "tags": []
     },
     "output_type": "execute_result"
    }
   ],
   "source": [
    "ROOT_FOLDER = '/content/drive/My Drive/test/data/Asian/'\n",
    "dataset = []\n",
    "for path in glob.iglob(os.path.join(ROOT_FOLDER, \"**\", \"*.jpg\")):\n",
    "    person = path.split(\"/\")[-2]\n",
    "    dataset.append({\"person\":person, \"path\": path})\n",
    "print(len(dataset))\n",
    "dataset = pd.DataFrame(dataset)\n",
    "dataset['number'] = dataset.path.apply(lambda x: int(x.split('_')[-1].split('.')[0]))\n",
    "dataset['key'] =1\n",
    "dataset.head()"
   ]
  },
  {
   "cell_type": "code",
   "execution_count": 19,
   "metadata": {
    "id": "GrbmK6-yjKKG"
   },
   "outputs": [],
   "source": [
    "data_pair = data_pair.merge(dataset[['person','number','path']], left_on=['person_l', 'number_l'], right_on=['person', 'number'], how='inner')\n",
    "data_pair = data_pair.rename({'path': 'path_l'}, axis='columns')\n",
    "data_pair.drop(['person','number'], axis=1, inplace=True)\n",
    "\n",
    "data_pair = data_pair.merge(dataset[['person','number','path']], left_on=['person_r', 'number_r'], right_on=['person', 'number'], how='inner')\n",
    "data_pair = data_pair.rename({'path': 'path_r'}, axis='columns')\n",
    "data_pair.drop(['person','number'], axis=1, inplace=True)"
   ]
  },
  {
   "cell_type": "code",
   "execution_count": 20,
   "metadata": {
    "colab": {
     "base_uri": "https://localhost:8080/"
    },
    "id": "CmrDdqY6jL9g",
    "outputId": "4b05c5b9-3bbb-47d2-a534-ace1fad0d409"
   },
   "outputs": [
    {
     "name": "stderr",
     "output_type": "stream",
     "text": [
      "\r",
      "  0%|          | 0/6000 [00:00<?, ?it/s]"
     ]
    },
    {
     "name": "stdout",
     "output_type": "stream",
     "text": [
      "CPU times: user 2 µs, sys: 0 ns, total: 2 µs\n",
      "Wall time: 5.01 µs\n"
     ]
    },
    {
     "name": "stderr",
     "output_type": "stream",
     "text": [
      "100%|██████████| 6000/6000 [3:03:21<00:00,  1.83s/it]\n"
     ]
    }
   ],
   "source": [
    "%time\n",
    "sim = []\n",
    "data_pair['sim'] = [0.0]*data_pair.shape[0]\n",
    "for idx in tqdm(range(data_pair.shape[0])):\n",
    "\n",
    "  img = image.load_img(data_pair.path_l[idx], target_size=(112, 112))\n",
    "  x = image.img_to_array(img)\n",
    "  preds_x = model.get_embedding(x)\n",
    "\n",
    "  img = image.load_img(data_pair.path_r[idx], target_size=(112, 112))\n",
    "  y = image.img_to_array(img)\n",
    "  preds_y = model.get_embedding(y)\n",
    "\n",
    "  data_pair.loc[idx, 'sim'] = cosine_similarity(preds_x, preds_y)[0][0]\n",
    "result = pd.DataFrame({'target': data_pair.same, 'score': data_pair.sim})"
   ]
  },
  {
   "cell_type": "code",
   "execution_count": 21,
   "metadata": {
    "colab": {
     "base_uri": "https://localhost:8080/"
    },
    "id": "JdTRTF5-jOLf",
    "outputId": "13e29df3-15ed-4f00-ae03-d17fa27f6d8d"
   },
   "outputs": [
    {
     "data": {
      "text/plain": [
       "0.9179011666666665"
      ]
     },
     "execution_count": 21,
     "metadata": {
      "tags": []
     },
     "output_type": "execute_result"
    }
   ],
   "source": [
    "result = result.sort_values('score', ascending=False)\n",
    "roc_auc_score(result.target, result.score)"
   ]
  }
 ],
 "metadata": {
  "colab": {
   "collapsed_sections": [
    "eMVnqOV8KhMs",
    "i_8CR5kMK4gQ",
    "ik1P_XLC5key",
    "sonZBXqLi0rB"
   ],
   "name": "Arcface_on_rfw.ipynb",
   "provenance": [],
   "toc_visible": true
  },
  "kernelspec": {
   "display_name": "Python 3",
   "language": "python",
   "name": "python3"
  },
  "language_info": {
   "codemirror_mode": {
    "name": "ipython",
    "version": 3
   },
   "file_extension": ".py",
   "mimetype": "text/x-python",
   "name": "python",
   "nbconvert_exporter": "python",
   "pygments_lexer": "ipython3",
   "version": "3.8.5"
  }
 },
 "nbformat": 4,
 "nbformat_minor": 1
}
