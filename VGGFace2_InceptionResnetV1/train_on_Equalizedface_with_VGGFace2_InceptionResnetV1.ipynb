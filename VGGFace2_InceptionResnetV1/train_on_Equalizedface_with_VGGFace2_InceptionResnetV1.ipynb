{
  "nbformat": 4,
  "nbformat_minor": 0,
  "metadata": {
    "colab": {
      "name": "train_on_Equalizedface_with_VGGFace2_InceptionResnetV1.ipynb",
      "provenance": [],
      "collapsed_sections": [],
      "toc_visible": true,
      "machine_shape": "hm"
    },
    "kernelspec": {
      "display_name": "Python 3",
      "language": "python",
      "name": "python3"
    },
    "language_info": {
      "codemirror_mode": {
        "name": "ipython",
        "version": 3
      },
      "file_extension": ".py",
      "mimetype": "text/x-python",
      "name": "python",
      "nbconvert_exporter": "python",
      "pygments_lexer": "ipython3",
      "version": "3.6.5"
    },
    "pycharm": {
      "stem_cell": {
        "cell_type": "raw",
        "metadata": {
          "collapsed": false
        },
        "source": []
      }
    },
    "accelerator": "GPU",
    "widgets": {
      "application/vnd.jupyter.widget-state+json": {
        "81dccb165da24dd5986aacc26a569370": {
          "model_module": "@jupyter-widgets/controls",
          "model_name": "HBoxModel",
          "state": {
            "_view_name": "HBoxView",
            "_dom_classes": [],
            "_model_name": "HBoxModel",
            "_view_module": "@jupyter-widgets/controls",
            "_model_module_version": "1.5.0",
            "_view_count": null,
            "_view_module_version": "1.5.0",
            "box_style": "",
            "layout": "IPY_MODEL_c5d4eacafaf442f8a0b7406e4ce2d58b",
            "_model_module": "@jupyter-widgets/controls",
            "children": [
              "IPY_MODEL_68baedf76195457a86f7beeeae7b6721",
              "IPY_MODEL_9722d90b259d4615958cde5b32daf760"
            ]
          }
        },
        "c5d4eacafaf442f8a0b7406e4ce2d58b": {
          "model_module": "@jupyter-widgets/base",
          "model_name": "LayoutModel",
          "state": {
            "_view_name": "LayoutView",
            "grid_template_rows": null,
            "right": null,
            "justify_content": null,
            "_view_module": "@jupyter-widgets/base",
            "overflow": null,
            "_model_module_version": "1.2.0",
            "_view_count": null,
            "flex_flow": null,
            "width": null,
            "min_width": null,
            "border": null,
            "align_items": null,
            "bottom": null,
            "_model_module": "@jupyter-widgets/base",
            "top": null,
            "grid_column": null,
            "overflow_y": null,
            "overflow_x": null,
            "grid_auto_flow": null,
            "grid_area": null,
            "grid_template_columns": null,
            "flex": null,
            "_model_name": "LayoutModel",
            "justify_items": null,
            "grid_row": null,
            "max_height": null,
            "align_content": null,
            "visibility": null,
            "align_self": null,
            "height": null,
            "min_height": null,
            "padding": null,
            "grid_auto_rows": null,
            "grid_gap": null,
            "max_width": null,
            "order": null,
            "_view_module_version": "1.2.0",
            "grid_template_areas": null,
            "object_position": null,
            "object_fit": null,
            "grid_auto_columns": null,
            "margin": null,
            "display": null,
            "left": null
          }
        },
        "68baedf76195457a86f7beeeae7b6721": {
          "model_module": "@jupyter-widgets/controls",
          "model_name": "FloatProgressModel",
          "state": {
            "_view_name": "ProgressView",
            "style": "IPY_MODEL_ab4cf7998c664b8da1f55abaf34f4025",
            "_dom_classes": [],
            "description": "100%",
            "_model_name": "FloatProgressModel",
            "bar_style": "success",
            "max": 111898327,
            "_view_module": "@jupyter-widgets/controls",
            "_model_module_version": "1.5.0",
            "value": 111898327,
            "_view_count": null,
            "_view_module_version": "1.5.0",
            "orientation": "horizontal",
            "min": 0,
            "description_tooltip": null,
            "_model_module": "@jupyter-widgets/controls",
            "layout": "IPY_MODEL_9c6bc2fcfdd44e0f8372f91104fc00fb"
          }
        },
        "9722d90b259d4615958cde5b32daf760": {
          "model_module": "@jupyter-widgets/controls",
          "model_name": "HTMLModel",
          "state": {
            "_view_name": "HTMLView",
            "style": "IPY_MODEL_930d7bbdbb9941578e51479d8cd11e28",
            "_dom_classes": [],
            "description": "",
            "_model_name": "HTMLModel",
            "placeholder": "​",
            "_view_module": "@jupyter-widgets/controls",
            "_model_module_version": "1.5.0",
            "value": " 107M/107M [00:01&lt;00:00, 102MB/s]",
            "_view_count": null,
            "_view_module_version": "1.5.0",
            "description_tooltip": null,
            "_model_module": "@jupyter-widgets/controls",
            "layout": "IPY_MODEL_e7b5eb4ac2fc4099946ad3bde386c3cb"
          }
        },
        "ab4cf7998c664b8da1f55abaf34f4025": {
          "model_module": "@jupyter-widgets/controls",
          "model_name": "ProgressStyleModel",
          "state": {
            "_view_name": "StyleView",
            "_model_name": "ProgressStyleModel",
            "description_width": "initial",
            "_view_module": "@jupyter-widgets/base",
            "_model_module_version": "1.5.0",
            "_view_count": null,
            "_view_module_version": "1.2.0",
            "bar_color": null,
            "_model_module": "@jupyter-widgets/controls"
          }
        },
        "9c6bc2fcfdd44e0f8372f91104fc00fb": {
          "model_module": "@jupyter-widgets/base",
          "model_name": "LayoutModel",
          "state": {
            "_view_name": "LayoutView",
            "grid_template_rows": null,
            "right": null,
            "justify_content": null,
            "_view_module": "@jupyter-widgets/base",
            "overflow": null,
            "_model_module_version": "1.2.0",
            "_view_count": null,
            "flex_flow": null,
            "width": null,
            "min_width": null,
            "border": null,
            "align_items": null,
            "bottom": null,
            "_model_module": "@jupyter-widgets/base",
            "top": null,
            "grid_column": null,
            "overflow_y": null,
            "overflow_x": null,
            "grid_auto_flow": null,
            "grid_area": null,
            "grid_template_columns": null,
            "flex": null,
            "_model_name": "LayoutModel",
            "justify_items": null,
            "grid_row": null,
            "max_height": null,
            "align_content": null,
            "visibility": null,
            "align_self": null,
            "height": null,
            "min_height": null,
            "padding": null,
            "grid_auto_rows": null,
            "grid_gap": null,
            "max_width": null,
            "order": null,
            "_view_module_version": "1.2.0",
            "grid_template_areas": null,
            "object_position": null,
            "object_fit": null,
            "grid_auto_columns": null,
            "margin": null,
            "display": null,
            "left": null
          }
        },
        "930d7bbdbb9941578e51479d8cd11e28": {
          "model_module": "@jupyter-widgets/controls",
          "model_name": "DescriptionStyleModel",
          "state": {
            "_view_name": "StyleView",
            "_model_name": "DescriptionStyleModel",
            "description_width": "",
            "_view_module": "@jupyter-widgets/base",
            "_model_module_version": "1.5.0",
            "_view_count": null,
            "_view_module_version": "1.2.0",
            "_model_module": "@jupyter-widgets/controls"
          }
        },
        "e7b5eb4ac2fc4099946ad3bde386c3cb": {
          "model_module": "@jupyter-widgets/base",
          "model_name": "LayoutModel",
          "state": {
            "_view_name": "LayoutView",
            "grid_template_rows": null,
            "right": null,
            "justify_content": null,
            "_view_module": "@jupyter-widgets/base",
            "overflow": null,
            "_model_module_version": "1.2.0",
            "_view_count": null,
            "flex_flow": null,
            "width": null,
            "min_width": null,
            "border": null,
            "align_items": null,
            "bottom": null,
            "_model_module": "@jupyter-widgets/base",
            "top": null,
            "grid_column": null,
            "overflow_y": null,
            "overflow_x": null,
            "grid_auto_flow": null,
            "grid_area": null,
            "grid_template_columns": null,
            "flex": null,
            "_model_name": "LayoutModel",
            "justify_items": null,
            "grid_row": null,
            "max_height": null,
            "align_content": null,
            "visibility": null,
            "align_self": null,
            "height": null,
            "min_height": null,
            "padding": null,
            "grid_auto_rows": null,
            "grid_gap": null,
            "max_width": null,
            "order": null,
            "_view_module_version": "1.2.0",
            "grid_template_areas": null,
            "object_position": null,
            "object_fit": null,
            "grid_auto_columns": null,
            "margin": null,
            "display": null,
            "left": null
          }
        }
      }
    }
  },
  "cells": [
    {
      "cell_type": "code",
      "metadata": {
        "colab": {
          "base_uri": "https://localhost:8080/"
        },
        "id": "Plw1YiDfDXsG",
        "outputId": "6157da7d-ce00-4e73-912c-46bd921836a8"
      },
      "source": [
        "gpu_info = !nvidia-smi\n",
        "gpu_info = '\\n'.join(gpu_info)\n",
        "if gpu_info.find('failed') >= 0:\n",
        "  print('Select the Runtime > \"Change runtime type\" menu to enable a GPU accelerator, ')\n",
        "  print('and then re-execute this cell.')\n",
        "else:\n",
        "  print(gpu_info)"
      ],
      "execution_count": 1,
      "outputs": [
        {
          "output_type": "stream",
          "text": [
            "Sat Nov 28 20:26:43 2020       \n",
            "+-----------------------------------------------------------------------------+\n",
            "| NVIDIA-SMI 455.38       Driver Version: 418.67       CUDA Version: 10.1     |\n",
            "|-------------------------------+----------------------+----------------------+\n",
            "| GPU  Name        Persistence-M| Bus-Id        Disp.A | Volatile Uncorr. ECC |\n",
            "| Fan  Temp  Perf  Pwr:Usage/Cap|         Memory-Usage | GPU-Util  Compute M. |\n",
            "|                               |                      |               MIG M. |\n",
            "|===============================+======================+======================|\n",
            "|   0  Tesla P100-PCIE...  Off  | 00000000:00:04.0 Off |                    0 |\n",
            "| N/A   39C    P0    28W / 250W |      0MiB / 16280MiB |      0%      Default |\n",
            "|                               |                      |                 ERR! |\n",
            "+-------------------------------+----------------------+----------------------+\n",
            "                                                                               \n",
            "+-----------------------------------------------------------------------------+\n",
            "| Processes:                                                                  |\n",
            "|  GPU   GI   CI        PID   Type   Process name                  GPU Memory |\n",
            "|        ID   ID                                                   Usage      |\n",
            "|=============================================================================|\n",
            "|  No running processes found                                                 |\n",
            "+-----------------------------------------------------------------------------+\n"
          ],
          "name": "stdout"
        }
      ]
    },
    {
      "cell_type": "code",
      "metadata": {
        "id": "sE8q1uYQZx0K"
      },
      "source": [
        "%load_ext autoreload"
      ],
      "execution_count": 2,
      "outputs": []
    },
    {
      "cell_type": "code",
      "metadata": {
        "colab": {
          "base_uri": "https://localhost:8080/"
        },
        "id": "c8OR9PtaThf3",
        "outputId": "62249a7f-47bd-457e-b392-260099e0a4cc"
      },
      "source": [
        "# !git clone https://github.com/TropComplique/mtcnn-pytorch.git "
      ],
      "execution_count": null,
      "outputs": [
        {
          "output_type": "stream",
          "text": [
            "Cloning into 'mtcnn-pytorch'...\n",
            "remote: Enumerating objects: 76, done.\u001b[K\n",
            "remote: Total 76 (delta 0), reused 0 (delta 0), pack-reused 76\u001b[K\n",
            "Unpacking objects: 100% (76/76), done.\n"
          ],
          "name": "stdout"
        }
      ]
    },
    {
      "cell_type": "code",
      "metadata": {
        "colab": {
          "base_uri": "https://localhost:8080/"
        },
        "id": "Wj1bJq5VT3QJ",
        "outputId": "40228e50-8bb1-4737-a126-a0cdbcce872d"
      },
      "source": [
        "# !git clone https://github.com/TreB1eN/InsightFace_Pytorch.git"
      ],
      "execution_count": null,
      "outputs": [
        {
          "output_type": "stream",
          "text": [
            "Cloning into 'InsightFace_Pytorch'...\n",
            "remote: Enumerating objects: 236, done.\u001b[K\n",
            "remote: Total 236 (delta 0), reused 0 (delta 0), pack-reused 236\u001b[K\n",
            "Receiving objects: 100% (236/236), 14.35 MiB | 29.45 MiB/s, done.\n",
            "Resolving deltas: 100% (118/118), done.\n"
          ],
          "name": "stdout"
        }
      ]
    },
    {
      "cell_type": "code",
      "metadata": {
        "colab": {
          "base_uri": "https://localhost:8080/"
        },
        "id": "64Dr37a-UnAE",
        "outputId": "5529a6f9-4fdc-4a9a-86e0-b704eb300160"
      },
      "source": [
        "# !pip install bcolz\n",
        "# !pip install mxnet"
      ],
      "execution_count": null,
      "outputs": [
        {
          "output_type": "stream",
          "text": [
            "Collecting bcolz\n",
            "\u001b[?25l  Downloading https://files.pythonhosted.org/packages/5c/4e/23942de9d5c0fb16f10335fa83e52b431bcb8c0d4a8419c9ac206268c279/bcolz-1.2.1.tar.gz (1.5MB)\n",
            "\r\u001b[K     |▎                               | 10kB 18.3MB/s eta 0:00:01\r\u001b[K     |▌                               | 20kB 19.3MB/s eta 0:00:01\r\u001b[K     |▊                               | 30kB 11.6MB/s eta 0:00:01\r\u001b[K     |█                               | 40kB 9.5MB/s eta 0:00:01\r\u001b[K     |█▏                              | 51kB 5.4MB/s eta 0:00:01\r\u001b[K     |█▍                              | 61kB 5.9MB/s eta 0:00:01\r\u001b[K     |█▋                              | 71kB 5.9MB/s eta 0:00:01\r\u001b[K     |█▉                              | 81kB 6.6MB/s eta 0:00:01\r\u001b[K     |██                              | 92kB 6.5MB/s eta 0:00:01\r\u001b[K     |██▎                             | 102kB 7.1MB/s eta 0:00:01\r\u001b[K     |██▌                             | 112kB 7.1MB/s eta 0:00:01\r\u001b[K     |██▊                             | 122kB 7.1MB/s eta 0:00:01\r\u001b[K     |███                             | 133kB 7.1MB/s eta 0:00:01\r\u001b[K     |███▏                            | 143kB 7.1MB/s eta 0:00:01\r\u001b[K     |███▍                            | 153kB 7.1MB/s eta 0:00:01\r\u001b[K     |███▋                            | 163kB 7.1MB/s eta 0:00:01\r\u001b[K     |███▉                            | 174kB 7.1MB/s eta 0:00:01\r\u001b[K     |████                            | 184kB 7.1MB/s eta 0:00:01\r\u001b[K     |████▎                           | 194kB 7.1MB/s eta 0:00:01\r\u001b[K     |████▌                           | 204kB 7.1MB/s eta 0:00:01\r\u001b[K     |████▊                           | 215kB 7.1MB/s eta 0:00:01\r\u001b[K     |█████                           | 225kB 7.1MB/s eta 0:00:01\r\u001b[K     |█████▏                          | 235kB 7.1MB/s eta 0:00:01\r\u001b[K     |█████▍                          | 245kB 7.1MB/s eta 0:00:01\r\u001b[K     |█████▋                          | 256kB 7.1MB/s eta 0:00:01\r\u001b[K     |█████▉                          | 266kB 7.1MB/s eta 0:00:01\r\u001b[K     |██████                          | 276kB 7.1MB/s eta 0:00:01\r\u001b[K     |██████▎                         | 286kB 7.1MB/s eta 0:00:01\r\u001b[K     |██████▌                         | 296kB 7.1MB/s eta 0:00:01\r\u001b[K     |██████▊                         | 307kB 7.1MB/s eta 0:00:01\r\u001b[K     |███████                         | 317kB 7.1MB/s eta 0:00:01\r\u001b[K     |███████▏                        | 327kB 7.1MB/s eta 0:00:01\r\u001b[K     |███████▍                        | 337kB 7.1MB/s eta 0:00:01\r\u001b[K     |███████▋                        | 348kB 7.1MB/s eta 0:00:01\r\u001b[K     |███████▉                        | 358kB 7.1MB/s eta 0:00:01\r\u001b[K     |████████                        | 368kB 7.1MB/s eta 0:00:01\r\u001b[K     |████████▎                       | 378kB 7.1MB/s eta 0:00:01\r\u001b[K     |████████▌                       | 389kB 7.1MB/s eta 0:00:01\r\u001b[K     |████████▊                       | 399kB 7.1MB/s eta 0:00:01\r\u001b[K     |█████████                       | 409kB 7.1MB/s eta 0:00:01\r\u001b[K     |█████████▏                      | 419kB 7.1MB/s eta 0:00:01\r\u001b[K     |█████████▍                      | 430kB 7.1MB/s eta 0:00:01\r\u001b[K     |█████████▋                      | 440kB 7.1MB/s eta 0:00:01\r\u001b[K     |█████████▉                      | 450kB 7.1MB/s eta 0:00:01\r\u001b[K     |██████████                      | 460kB 7.1MB/s eta 0:00:01\r\u001b[K     |██████████▎                     | 471kB 7.1MB/s eta 0:00:01\r\u001b[K     |██████████▋                     | 481kB 7.1MB/s eta 0:00:01\r\u001b[K     |██████████▉                     | 491kB 7.1MB/s eta 0:00:01\r\u001b[K     |███████████                     | 501kB 7.1MB/s eta 0:00:01\r\u001b[K     |███████████▎                    | 512kB 7.1MB/s eta 0:00:01\r\u001b[K     |███████████▌                    | 522kB 7.1MB/s eta 0:00:01\r\u001b[K     |███████████▊                    | 532kB 7.1MB/s eta 0:00:01\r\u001b[K     |████████████                    | 542kB 7.1MB/s eta 0:00:01\r\u001b[K     |████████████▏                   | 552kB 7.1MB/s eta 0:00:01\r\u001b[K     |████████████▍                   | 563kB 7.1MB/s eta 0:00:01\r\u001b[K     |████████████▋                   | 573kB 7.1MB/s eta 0:00:01\r\u001b[K     |████████████▉                   | 583kB 7.1MB/s eta 0:00:01\r\u001b[K     |█████████████                   | 593kB 7.1MB/s eta 0:00:01\r\u001b[K     |█████████████▎                  | 604kB 7.1MB/s eta 0:00:01\r\u001b[K     |█████████████▌                  | 614kB 7.1MB/s eta 0:00:01\r\u001b[K     |█████████████▊                  | 624kB 7.1MB/s eta 0:00:01\r\u001b[K     |██████████████                  | 634kB 7.1MB/s eta 0:00:01\r\u001b[K     |██████████████▏                 | 645kB 7.1MB/s eta 0:00:01\r\u001b[K     |██████████████▍                 | 655kB 7.1MB/s eta 0:00:01\r\u001b[K     |██████████████▋                 | 665kB 7.1MB/s eta 0:00:01\r\u001b[K     |██████████████▉                 | 675kB 7.1MB/s eta 0:00:01\r\u001b[K     |███████████████                 | 686kB 7.1MB/s eta 0:00:01\r\u001b[K     |███████████████▎                | 696kB 7.1MB/s eta 0:00:01\r\u001b[K     |███████████████▌                | 706kB 7.1MB/s eta 0:00:01\r\u001b[K     |███████████████▊                | 716kB 7.1MB/s eta 0:00:01\r\u001b[K     |████████████████                | 727kB 7.1MB/s eta 0:00:01\r\u001b[K     |████████████████▏               | 737kB 7.1MB/s eta 0:00:01\r\u001b[K     |████████████████▍               | 747kB 7.1MB/s eta 0:00:01\r\u001b[K     |████████████████▋               | 757kB 7.1MB/s eta 0:00:01\r\u001b[K     |████████████████▉               | 768kB 7.1MB/s eta 0:00:01\r\u001b[K     |█████████████████               | 778kB 7.1MB/s eta 0:00:01\r\u001b[K     |█████████████████▎              | 788kB 7.1MB/s eta 0:00:01\r\u001b[K     |█████████████████▌              | 798kB 7.1MB/s eta 0:00:01\r\u001b[K     |█████████████████▊              | 808kB 7.1MB/s eta 0:00:01\r\u001b[K     |██████████████████              | 819kB 7.1MB/s eta 0:00:01\r\u001b[K     |██████████████████▏             | 829kB 7.1MB/s eta 0:00:01\r\u001b[K     |██████████████████▍             | 839kB 7.1MB/s eta 0:00:01\r\u001b[K     |██████████████████▋             | 849kB 7.1MB/s eta 0:00:01\r\u001b[K     |██████████████████▉             | 860kB 7.1MB/s eta 0:00:01\r\u001b[K     |███████████████████             | 870kB 7.1MB/s eta 0:00:01\r\u001b[K     |███████████████████▎            | 880kB 7.1MB/s eta 0:00:01\r\u001b[K     |███████████████████▌            | 890kB 7.1MB/s eta 0:00:01\r\u001b[K     |███████████████████▊            | 901kB 7.1MB/s eta 0:00:01\r\u001b[K     |████████████████████            | 911kB 7.1MB/s eta 0:00:01\r\u001b[K     |████████████████████▏           | 921kB 7.1MB/s eta 0:00:01\r\u001b[K     |████████████████████▍           | 931kB 7.1MB/s eta 0:00:01\r\u001b[K     |████████████████████▋           | 942kB 7.1MB/s eta 0:00:01\r\u001b[K     |████████████████████▉           | 952kB 7.1MB/s eta 0:00:01\r\u001b[K     |█████████████████████▏          | 962kB 7.1MB/s eta 0:00:01\r\u001b[K     |█████████████████████▍          | 972kB 7.1MB/s eta 0:00:01\r\u001b[K     |█████████████████████▋          | 983kB 7.1MB/s eta 0:00:01\r\u001b[K     |█████████████████████▉          | 993kB 7.1MB/s eta 0:00:01\r\u001b[K     |██████████████████████          | 1.0MB 7.1MB/s eta 0:00:01\r\u001b[K     |██████████████████████▎         | 1.0MB 7.1MB/s eta 0:00:01\r\u001b[K     |██████████████████████▌         | 1.0MB 7.1MB/s eta 0:00:01\r\u001b[K     |██████████████████████▊         | 1.0MB 7.1MB/s eta 0:00:01\r\u001b[K     |███████████████████████         | 1.0MB 7.1MB/s eta 0:00:01\r\u001b[K     |███████████████████████▏        | 1.1MB 7.1MB/s eta 0:00:01\r\u001b[K     |███████████████████████▍        | 1.1MB 7.1MB/s eta 0:00:01\r\u001b[K     |███████████████████████▋        | 1.1MB 7.1MB/s eta 0:00:01\r\u001b[K     |███████████████████████▉        | 1.1MB 7.1MB/s eta 0:00:01\r\u001b[K     |████████████████████████        | 1.1MB 7.1MB/s eta 0:00:01\r\u001b[K     |████████████████████████▎       | 1.1MB 7.1MB/s eta 0:00:01\r\u001b[K     |████████████████████████▌       | 1.1MB 7.1MB/s eta 0:00:01\r\u001b[K     |████████████████████████▊       | 1.1MB 7.1MB/s eta 0:00:01\r\u001b[K     |█████████████████████████       | 1.1MB 7.1MB/s eta 0:00:01\r\u001b[K     |█████████████████████████▏      | 1.1MB 7.1MB/s eta 0:00:01\r\u001b[K     |█████████████████████████▍      | 1.2MB 7.1MB/s eta 0:00:01\r\u001b[K     |█████████████████████████▋      | 1.2MB 7.1MB/s eta 0:00:01\r\u001b[K     |█████████████████████████▉      | 1.2MB 7.1MB/s eta 0:00:01\r\u001b[K     |██████████████████████████      | 1.2MB 7.1MB/s eta 0:00:01\r\u001b[K     |██████████████████████████▎     | 1.2MB 7.1MB/s eta 0:00:01\r\u001b[K     |██████████████████████████▌     | 1.2MB 7.1MB/s eta 0:00:01\r\u001b[K     |██████████████████████████▊     | 1.2MB 7.1MB/s eta 0:00:01\r\u001b[K     |███████████████████████████     | 1.2MB 7.1MB/s eta 0:00:01\r\u001b[K     |███████████████████████████▏    | 1.2MB 7.1MB/s eta 0:00:01\r\u001b[K     |███████████████████████████▍    | 1.2MB 7.1MB/s eta 0:00:01\r\u001b[K     |███████████████████████████▋    | 1.3MB 7.1MB/s eta 0:00:01\r\u001b[K     |███████████████████████████▉    | 1.3MB 7.1MB/s eta 0:00:01\r\u001b[K     |████████████████████████████    | 1.3MB 7.1MB/s eta 0:00:01\r\u001b[K     |████████████████████████████▎   | 1.3MB 7.1MB/s eta 0:00:01\r\u001b[K     |████████████████████████████▌   | 1.3MB 7.1MB/s eta 0:00:01\r\u001b[K     |████████████████████████████▊   | 1.3MB 7.1MB/s eta 0:00:01\r\u001b[K     |█████████████████████████████   | 1.3MB 7.1MB/s eta 0:00:01\r\u001b[K     |█████████████████████████████▏  | 1.3MB 7.1MB/s eta 0:00:01\r\u001b[K     |█████████████████████████████▍  | 1.3MB 7.1MB/s eta 0:00:01\r\u001b[K     |█████████████████████████████▋  | 1.4MB 7.1MB/s eta 0:00:01\r\u001b[K     |█████████████████████████████▉  | 1.4MB 7.1MB/s eta 0:00:01\r\u001b[K     |██████████████████████████████  | 1.4MB 7.1MB/s eta 0:00:01\r\u001b[K     |██████████████████████████████▎ | 1.4MB 7.1MB/s eta 0:00:01\r\u001b[K     |██████████████████████████████▌ | 1.4MB 7.1MB/s eta 0:00:01\r\u001b[K     |██████████████████████████████▊ | 1.4MB 7.1MB/s eta 0:00:01\r\u001b[K     |███████████████████████████████ | 1.4MB 7.1MB/s eta 0:00:01\r\u001b[K     |███████████████████████████████▏| 1.4MB 7.1MB/s eta 0:00:01\r\u001b[K     |███████████████████████████████▍| 1.4MB 7.1MB/s eta 0:00:01\r\u001b[K     |███████████████████████████████▊| 1.4MB 7.1MB/s eta 0:00:01\r\u001b[K     |████████████████████████████████| 1.5MB 7.1MB/s eta 0:00:01\r\u001b[K     |████████████████████████████████| 1.5MB 7.1MB/s \n",
            "\u001b[?25hRequirement already satisfied: numpy>=1.7 in /usr/local/lib/python3.6/dist-packages (from bcolz) (1.18.5)\n",
            "Building wheels for collected packages: bcolz\n",
            "  Building wheel for bcolz (setup.py) ... \u001b[?25l\u001b[?25hdone\n",
            "  Created wheel for bcolz: filename=bcolz-1.2.1-cp36-cp36m-linux_x86_64.whl size=2661313 sha256=c2128cbdf5cae7e438433265278094ef404d2b78b492b56552f4da471d2356bb\n",
            "  Stored in directory: /root/.cache/pip/wheels/9f/78/26/fb8c0acb91a100dc8914bf236c4eaa4b207cb876893c40b745\n",
            "Successfully built bcolz\n",
            "Installing collected packages: bcolz\n",
            "Successfully installed bcolz-1.2.1\n",
            "Collecting mxnet\n",
            "\u001b[?25l  Downloading https://files.pythonhosted.org/packages/29/bb/54cbabe428351c06d10903c658878d29ee7026efbe45133fd133598d6eb6/mxnet-1.7.0.post1-py2.py3-none-manylinux2014_x86_64.whl (55.0MB)\n",
            "\u001b[K     |████████████████████████████████| 55.0MB 104kB/s \n",
            "\u001b[?25hRequirement already satisfied: requests<3,>=2.20.0 in /usr/local/lib/python3.6/dist-packages (from mxnet) (2.23.0)\n",
            "Requirement already satisfied: numpy<2.0.0,>1.16.0 in /usr/local/lib/python3.6/dist-packages (from mxnet) (1.18.5)\n",
            "Collecting graphviz<0.9.0,>=0.8.1\n",
            "  Downloading https://files.pythonhosted.org/packages/53/39/4ab213673844e0c004bed8a0781a0721a3f6bb23eb8854ee75c236428892/graphviz-0.8.4-py2.py3-none-any.whl\n",
            "Requirement already satisfied: idna<3,>=2.5 in /usr/local/lib/python3.6/dist-packages (from requests<3,>=2.20.0->mxnet) (2.10)\n",
            "Requirement already satisfied: certifi>=2017.4.17 in /usr/local/lib/python3.6/dist-packages (from requests<3,>=2.20.0->mxnet) (2020.11.8)\n",
            "Requirement already satisfied: chardet<4,>=3.0.2 in /usr/local/lib/python3.6/dist-packages (from requests<3,>=2.20.0->mxnet) (3.0.4)\n",
            "Requirement already satisfied: urllib3!=1.25.0,!=1.25.1,<1.26,>=1.21.1 in /usr/local/lib/python3.6/dist-packages (from requests<3,>=2.20.0->mxnet) (1.24.3)\n",
            "Installing collected packages: graphviz, mxnet\n",
            "  Found existing installation: graphviz 0.10.1\n",
            "    Uninstalling graphviz-0.10.1:\n",
            "      Successfully uninstalled graphviz-0.10.1\n",
            "Successfully installed graphviz-0.8.4 mxnet-1.7.0.post1\n"
          ],
          "name": "stdout"
        }
      ]
    },
    {
      "cell_type": "code",
      "metadata": {
        "id": "LVDoapuHU50p",
        "colab": {
          "base_uri": "https://localhost:8080/"
        },
        "outputId": "c5f678aa-80e9-42fc-df28-ea61a0b597bc"
      },
      "source": [
        "from google.colab import drive\n",
        "drive.mount('/content/drive')"
      ],
      "execution_count": 3,
      "outputs": [
        {
          "output_type": "stream",
          "text": [
            "Drive already mounted at /content/drive; to attempt to forcibly remount, call drive.mount(\"/content/drive\", force_remount=True).\n"
          ],
          "name": "stdout"
        }
      ]
    },
    {
      "cell_type": "code",
      "metadata": {
        "colab": {
          "base_uri": "https://localhost:8080/"
        },
        "id": "I7PaewrGW4ik",
        "outputId": "0d5c36a1-cbc8-4299-8e1d-fb464e420805"
      },
      "source": [
        "# !sudo tar -xvf '/content/drive/My Drive/Colab Notebooks/project/Equalizedface.tar.gz'"
      ],
      "execution_count": null,
      "outputs": [
        {
          "output_type": "stream",
          "text": [
            "Equalizedface/\n",
            "Equalizedface/property\n",
            "Equalizedface/train.idx\n",
            "Equalizedface/train.rec\n"
          ],
          "name": "stdout"
        }
      ]
    },
    {
      "cell_type": "code",
      "metadata": {
        "id": "9KryzxuLSvjA"
      },
      "source": [
        "%autoreload 2\n",
        "import glob\n",
        "import os\n",
        "import numpy as np\n",
        "import pandas as pd\n",
        "import pickle\n",
        "import cv2\n",
        "from tqdm import tqdm\n",
        "from sklearn.metrics.pairwise import cosine_similarity\n",
        "from sklearn.metrics import accuracy_score, roc_auc_score\n",
        "import random\n",
        "from pathlib import Path\n",
        "import argparse\n",
        "from PIL import Image\n",
        "import matplotlib.pyplot as plt\n",
        "import torch\n",
        "from torch.nn import functional as fnn\n",
        "from torch.utils import data\n",
        "from torch.nn import functional as F\n",
        "from torch.utils.data import DataLoader\n",
        "from torchvision import datasets, transforms\n"
      ],
      "execution_count": 4,
      "outputs": []
    },
    {
      "cell_type": "code",
      "metadata": {
        "colab": {
          "base_uri": "https://localhost:8080/"
        },
        "id": "_PBCavhWa0YU",
        "outputId": "dfeb5c7e-e57e-4c52-e4a1-471016c9b144"
      },
      "source": [
        "# Получим из .rec папку с изображениями\n",
        "# test_transform = transforms.Compose([\n",
        "#                 transforms.ToTensor()\n",
        "#                 #transforms.Normalize([0.5, 0.5, 0.5], [0.5, 0.5, 0.5])\n",
        "#           ])\n",
        "# data_path = Path('')\n",
        "# rec_path = 'Equalizedface'\n",
        "# rec_path = data_path/rec_path\n",
        "# load_mx_rec(rec_path)"
      ],
      "execution_count": null,
      "outputs": [
        {
          "output_type": "stream",
          "text": [
            "100%|██████████| 1251416/1251416 [22:46<00:00, 915.71it/s]\n"
          ],
          "name": "stderr"
        }
      ]
    },
    {
      "cell_type": "code",
      "metadata": {
        "id": "CyHaa7I38mJT"
      },
      "source": [
        ""
      ],
      "execution_count": null,
      "outputs": []
    },
    {
      "cell_type": "code",
      "metadata": {
        "colab": {
          "base_uri": "https://localhost:8080/"
        },
        "id": "GVYNm2Pdi0Ic",
        "outputId": "16481378-b809-4f98-85c8-62282f6e7f5a"
      },
      "source": [
        "\n",
        "# len(os.listdir('Equalizedface/imgs'))"
      ],
      "execution_count": null,
      "outputs": [
        {
          "output_type": "execute_result",
          "data": {
            "text/plain": [
              "27999"
            ]
          },
          "metadata": {
            "tags": []
          },
          "execution_count": 10
        }
      ]
    },
    {
      "cell_type": "code",
      "metadata": {
        "id": "0owolfgTbo9W"
      },
      "source": [
        "os.environ['CUDA_LAUNCH_BLOCKING'] = \"1\""
      ],
      "execution_count": 6,
      "outputs": []
    },
    {
      "cell_type": "code",
      "metadata": {
        "id": "d5xt3QRZfrbE"
      },
      "source": [
        ""
      ],
      "execution_count": null,
      "outputs": []
    },
    {
      "cell_type": "code",
      "metadata": {
        "colab": {
          "base_uri": "https://localhost:8080/"
        },
        "id": "MAjKxKk9KXpl",
        "outputId": "7185cb24-2053-4074-fa5a-4952d76630dd"
      },
      "source": [
        "! pip install facenet_pytorch"
      ],
      "execution_count": 5,
      "outputs": [
        {
          "output_type": "stream",
          "text": [
            "Requirement already satisfied: facenet_pytorch in /usr/local/lib/python3.6/dist-packages (2.5.1)\n",
            "Requirement already satisfied: requests in /usr/local/lib/python3.6/dist-packages (from facenet_pytorch) (2.23.0)\n",
            "Requirement already satisfied: torchvision in /usr/local/lib/python3.6/dist-packages (from facenet_pytorch) (0.8.1+cu101)\n",
            "Requirement already satisfied: numpy in /usr/local/lib/python3.6/dist-packages (from facenet_pytorch) (1.18.5)\n",
            "Requirement already satisfied: pillow in /usr/local/lib/python3.6/dist-packages (from facenet_pytorch) (7.0.0)\n",
            "Requirement already satisfied: idna<3,>=2.5 in /usr/local/lib/python3.6/dist-packages (from requests->facenet_pytorch) (2.10)\n",
            "Requirement already satisfied: chardet<4,>=3.0.2 in /usr/local/lib/python3.6/dist-packages (from requests->facenet_pytorch) (3.0.4)\n",
            "Requirement already satisfied: urllib3!=1.25.0,!=1.25.1,<1.26,>=1.21.1 in /usr/local/lib/python3.6/dist-packages (from requests->facenet_pytorch) (1.24.3)\n",
            "Requirement already satisfied: certifi>=2017.4.17 in /usr/local/lib/python3.6/dist-packages (from requests->facenet_pytorch) (2020.11.8)\n",
            "Requirement already satisfied: torch==1.7.0 in /usr/local/lib/python3.6/dist-packages (from torchvision->facenet_pytorch) (1.7.0+cu101)\n",
            "Requirement already satisfied: future in /usr/local/lib/python3.6/dist-packages (from torch==1.7.0->torchvision->facenet_pytorch) (0.16.0)\n",
            "Requirement already satisfied: dataclasses in /usr/local/lib/python3.6/dist-packages (from torch==1.7.0->torchvision->facenet_pytorch) (0.8)\n",
            "Requirement already satisfied: typing-extensions in /usr/local/lib/python3.6/dist-packages (from torch==1.7.0->torchvision->facenet_pytorch) (3.7.4.3)\n"
          ],
          "name": "stdout"
        }
      ]
    },
    {
      "cell_type": "code",
      "metadata": {
        "id": "ud50a6B88VMD"
      },
      "source": [
        "from facenet_pytorch import MTCNN, InceptionResnetV1, fixed_image_standardization, training\n",
        "from torch.utils.data import DataLoader, SubsetRandomSampler\n",
        "from torch import optim\n",
        "from torch.optim.lr_scheduler import MultiStepLR\n",
        "from torch.utils.tensorboard import SummaryWriter"
      ],
      "execution_count": 6,
      "outputs": []
    },
    {
      "cell_type": "code",
      "metadata": {
        "colab": {
          "base_uri": "https://localhost:8080/"
        },
        "id": "B0ZUFmmwcAzt",
        "outputId": "ff6c36b1-0ec1-417b-a3bc-141a83231ff7"
      },
      "source": [
        "\n",
        "\n",
        "workers = 0 if os.name == 'nt' else 4\n",
        "\n",
        "device = torch.device('cuda:0' if torch.cuda.is_available() else 'cpu')\n",
        "print('Running on device: {}'.format(device))"
      ],
      "execution_count": 7,
      "outputs": [
        {
          "output_type": "stream",
          "text": [
            "Running on device: cuda:0\n"
          ],
          "name": "stdout"
        }
      ]
    },
    {
      "cell_type": "code",
      "metadata": {
        "id": "vw8K88Z9MiYY"
      },
      "source": [
        ""
      ],
      "execution_count": null,
      "outputs": []
    },
    {
      "cell_type": "code",
      "metadata": {
        "id": "JpZanUXjDB7f"
      },
      "source": [
        "#На обучающем датасете, который был в формате .rec лица уже во всё изображение, поэтому не будем делать дополнительный crop\n",
        "trans = transforms.Compose([\n",
        "    np.float32,\n",
        "    transforms.ToTensor(),\n",
        "    fixed_image_standardization,\n",
        "    transforms.Resize((160,160))\n",
        "])\n",
        "dataset = datasets.ImageFolder('Equalizedface/imgs', transform=trans)\n",
        "img_inds = np.arange(len(dataset))\n",
        "np.random.shuffle(img_inds)\n",
        "train_inds = img_inds[:int(0.8 * len(img_inds))]\n",
        "val_inds = img_inds[int(0.8 * len(img_inds)):]\n"
      ],
      "execution_count": null,
      "outputs": []
    },
    {
      "cell_type": "code",
      "metadata": {
        "colab": {
          "base_uri": "https://localhost:8080/"
        },
        "id": "r8WkXjyhtK3V",
        "outputId": "84026740-82a6-4118-b683-ef2333b25dee"
      },
      "source": [
        "len(img_inds), len(dataset.classes)"
      ],
      "execution_count": null,
      "outputs": [
        {
          "output_type": "execute_result",
          "data": {
            "text/plain": [
              "(1251416, 27999)"
            ]
          },
          "metadata": {
            "tags": []
          },
          "execution_count": 25
        }
      ]
    },
    {
      "cell_type": "code",
      "metadata": {
        "id": "NU0I_XbSU3I3"
      },
      "source": [
        "batch_size = 64\n",
        "train_loader = DataLoader(\n",
        "    dataset,\n",
        "    num_workers=workers,\n",
        "    batch_size=batch_size,\n",
        "    sampler=SubsetRandomSampler(train_inds)\n",
        ")\n",
        "val_loader = DataLoader(\n",
        "    dataset,\n",
        "    num_workers=workers,\n",
        "    batch_size=batch_size,\n",
        "    sampler=SubsetRandomSampler(val_inds)\n",
        ")"
      ],
      "execution_count": null,
      "outputs": []
    },
    {
      "cell_type": "code",
      "metadata": {
        "colab": {
          "base_uri": "https://localhost:8080/"
        },
        "id": "ZdflTNBtNHVo",
        "outputId": "627136ca-c451-4c23-cf08-b96da91ab19a"
      },
      "source": [
        "len(dataset.class_to_idx)"
      ],
      "execution_count": null,
      "outputs": [
        {
          "output_type": "execute_result",
          "data": {
            "text/plain": [
              "27999"
            ]
          },
          "metadata": {
            "tags": []
          },
          "execution_count": 30
        }
      ]
    },
    {
      "cell_type": "code",
      "metadata": {
        "id": "R9zWgjwFWR4c"
      },
      "source": [
        "resnet = InceptionResnetV1(pretrained='vggface2',classify=True)\n",
        "resnet.logits = torch.nn.Linear(512, len(dataset.class_to_idx))\n",
        "resnet = resnet.to(device)\n"
      ],
      "execution_count": null,
      "outputs": []
    },
    {
      "cell_type": "code",
      "metadata": {
        "id": "CKQlT3cofdRB"
      },
      "source": [
        "# Заморозили всё, кроме последнего слоя, чтобы обучить последний слой\n",
        "for name, param in resnet.named_parameters():\n",
        "    if not 'logits' in name:\n",
        "        param.requires_grad = False"
      ],
      "execution_count": null,
      "outputs": []
    },
    {
      "cell_type": "code",
      "metadata": {
        "colab": {
          "base_uri": "https://localhost:8080/"
        },
        "id": "QMl0dewafFcF",
        "outputId": "512c1050-08a5-493e-fc13-2797bf36adb5"
      },
      "source": [
        "for name, param in resnet.named_parameters():\n",
        "    print(name, param.requires_grad)"
      ],
      "execution_count": null,
      "outputs": [
        {
          "output_type": "stream",
          "text": [
            "conv2d_1a.conv.weight False\n",
            "conv2d_1a.bn.weight False\n",
            "conv2d_1a.bn.bias False\n",
            "conv2d_2a.conv.weight False\n",
            "conv2d_2a.bn.weight False\n",
            "conv2d_2a.bn.bias False\n",
            "conv2d_2b.conv.weight False\n",
            "conv2d_2b.bn.weight False\n",
            "conv2d_2b.bn.bias False\n",
            "conv2d_3b.conv.weight False\n",
            "conv2d_3b.bn.weight False\n",
            "conv2d_3b.bn.bias False\n",
            "conv2d_4a.conv.weight False\n",
            "conv2d_4a.bn.weight False\n",
            "conv2d_4a.bn.bias False\n",
            "conv2d_4b.conv.weight False\n",
            "conv2d_4b.bn.weight False\n",
            "conv2d_4b.bn.bias False\n",
            "repeat_1.0.branch0.conv.weight False\n",
            "repeat_1.0.branch0.bn.weight False\n",
            "repeat_1.0.branch0.bn.bias False\n",
            "repeat_1.0.branch1.0.conv.weight False\n",
            "repeat_1.0.branch1.0.bn.weight False\n",
            "repeat_1.0.branch1.0.bn.bias False\n",
            "repeat_1.0.branch1.1.conv.weight False\n",
            "repeat_1.0.branch1.1.bn.weight False\n",
            "repeat_1.0.branch1.1.bn.bias False\n",
            "repeat_1.0.branch2.0.conv.weight False\n",
            "repeat_1.0.branch2.0.bn.weight False\n",
            "repeat_1.0.branch2.0.bn.bias False\n",
            "repeat_1.0.branch2.1.conv.weight False\n",
            "repeat_1.0.branch2.1.bn.weight False\n",
            "repeat_1.0.branch2.1.bn.bias False\n",
            "repeat_1.0.branch2.2.conv.weight False\n",
            "repeat_1.0.branch2.2.bn.weight False\n",
            "repeat_1.0.branch2.2.bn.bias False\n",
            "repeat_1.0.conv2d.weight False\n",
            "repeat_1.0.conv2d.bias False\n",
            "repeat_1.1.branch0.conv.weight False\n",
            "repeat_1.1.branch0.bn.weight False\n",
            "repeat_1.1.branch0.bn.bias False\n",
            "repeat_1.1.branch1.0.conv.weight False\n",
            "repeat_1.1.branch1.0.bn.weight False\n",
            "repeat_1.1.branch1.0.bn.bias False\n",
            "repeat_1.1.branch1.1.conv.weight False\n",
            "repeat_1.1.branch1.1.bn.weight False\n",
            "repeat_1.1.branch1.1.bn.bias False\n",
            "repeat_1.1.branch2.0.conv.weight False\n",
            "repeat_1.1.branch2.0.bn.weight False\n",
            "repeat_1.1.branch2.0.bn.bias False\n",
            "repeat_1.1.branch2.1.conv.weight False\n",
            "repeat_1.1.branch2.1.bn.weight False\n",
            "repeat_1.1.branch2.1.bn.bias False\n",
            "repeat_1.1.branch2.2.conv.weight False\n",
            "repeat_1.1.branch2.2.bn.weight False\n",
            "repeat_1.1.branch2.2.bn.bias False\n",
            "repeat_1.1.conv2d.weight False\n",
            "repeat_1.1.conv2d.bias False\n",
            "repeat_1.2.branch0.conv.weight False\n",
            "repeat_1.2.branch0.bn.weight False\n",
            "repeat_1.2.branch0.bn.bias False\n",
            "repeat_1.2.branch1.0.conv.weight False\n",
            "repeat_1.2.branch1.0.bn.weight False\n",
            "repeat_1.2.branch1.0.bn.bias False\n",
            "repeat_1.2.branch1.1.conv.weight False\n",
            "repeat_1.2.branch1.1.bn.weight False\n",
            "repeat_1.2.branch1.1.bn.bias False\n",
            "repeat_1.2.branch2.0.conv.weight False\n",
            "repeat_1.2.branch2.0.bn.weight False\n",
            "repeat_1.2.branch2.0.bn.bias False\n",
            "repeat_1.2.branch2.1.conv.weight False\n",
            "repeat_1.2.branch2.1.bn.weight False\n",
            "repeat_1.2.branch2.1.bn.bias False\n",
            "repeat_1.2.branch2.2.conv.weight False\n",
            "repeat_1.2.branch2.2.bn.weight False\n",
            "repeat_1.2.branch2.2.bn.bias False\n",
            "repeat_1.2.conv2d.weight False\n",
            "repeat_1.2.conv2d.bias False\n",
            "repeat_1.3.branch0.conv.weight False\n",
            "repeat_1.3.branch0.bn.weight False\n",
            "repeat_1.3.branch0.bn.bias False\n",
            "repeat_1.3.branch1.0.conv.weight False\n",
            "repeat_1.3.branch1.0.bn.weight False\n",
            "repeat_1.3.branch1.0.bn.bias False\n",
            "repeat_1.3.branch1.1.conv.weight False\n",
            "repeat_1.3.branch1.1.bn.weight False\n",
            "repeat_1.3.branch1.1.bn.bias False\n",
            "repeat_1.3.branch2.0.conv.weight False\n",
            "repeat_1.3.branch2.0.bn.weight False\n",
            "repeat_1.3.branch2.0.bn.bias False\n",
            "repeat_1.3.branch2.1.conv.weight False\n",
            "repeat_1.3.branch2.1.bn.weight False\n",
            "repeat_1.3.branch2.1.bn.bias False\n",
            "repeat_1.3.branch2.2.conv.weight False\n",
            "repeat_1.3.branch2.2.bn.weight False\n",
            "repeat_1.3.branch2.2.bn.bias False\n",
            "repeat_1.3.conv2d.weight False\n",
            "repeat_1.3.conv2d.bias False\n",
            "repeat_1.4.branch0.conv.weight False\n",
            "repeat_1.4.branch0.bn.weight False\n",
            "repeat_1.4.branch0.bn.bias False\n",
            "repeat_1.4.branch1.0.conv.weight False\n",
            "repeat_1.4.branch1.0.bn.weight False\n",
            "repeat_1.4.branch1.0.bn.bias False\n",
            "repeat_1.4.branch1.1.conv.weight False\n",
            "repeat_1.4.branch1.1.bn.weight False\n",
            "repeat_1.4.branch1.1.bn.bias False\n",
            "repeat_1.4.branch2.0.conv.weight False\n",
            "repeat_1.4.branch2.0.bn.weight False\n",
            "repeat_1.4.branch2.0.bn.bias False\n",
            "repeat_1.4.branch2.1.conv.weight False\n",
            "repeat_1.4.branch2.1.bn.weight False\n",
            "repeat_1.4.branch2.1.bn.bias False\n",
            "repeat_1.4.branch2.2.conv.weight False\n",
            "repeat_1.4.branch2.2.bn.weight False\n",
            "repeat_1.4.branch2.2.bn.bias False\n",
            "repeat_1.4.conv2d.weight False\n",
            "repeat_1.4.conv2d.bias False\n",
            "mixed_6a.branch0.conv.weight False\n",
            "mixed_6a.branch0.bn.weight False\n",
            "mixed_6a.branch0.bn.bias False\n",
            "mixed_6a.branch1.0.conv.weight False\n",
            "mixed_6a.branch1.0.bn.weight False\n",
            "mixed_6a.branch1.0.bn.bias False\n",
            "mixed_6a.branch1.1.conv.weight False\n",
            "mixed_6a.branch1.1.bn.weight False\n",
            "mixed_6a.branch1.1.bn.bias False\n",
            "mixed_6a.branch1.2.conv.weight False\n",
            "mixed_6a.branch1.2.bn.weight False\n",
            "mixed_6a.branch1.2.bn.bias False\n",
            "repeat_2.0.branch0.conv.weight False\n",
            "repeat_2.0.branch0.bn.weight False\n",
            "repeat_2.0.branch0.bn.bias False\n",
            "repeat_2.0.branch1.0.conv.weight False\n",
            "repeat_2.0.branch1.0.bn.weight False\n",
            "repeat_2.0.branch1.0.bn.bias False\n",
            "repeat_2.0.branch1.1.conv.weight False\n",
            "repeat_2.0.branch1.1.bn.weight False\n",
            "repeat_2.0.branch1.1.bn.bias False\n",
            "repeat_2.0.branch1.2.conv.weight False\n",
            "repeat_2.0.branch1.2.bn.weight False\n",
            "repeat_2.0.branch1.2.bn.bias False\n",
            "repeat_2.0.conv2d.weight False\n",
            "repeat_2.0.conv2d.bias False\n",
            "repeat_2.1.branch0.conv.weight False\n",
            "repeat_2.1.branch0.bn.weight False\n",
            "repeat_2.1.branch0.bn.bias False\n",
            "repeat_2.1.branch1.0.conv.weight False\n",
            "repeat_2.1.branch1.0.bn.weight False\n",
            "repeat_2.1.branch1.0.bn.bias False\n",
            "repeat_2.1.branch1.1.conv.weight False\n",
            "repeat_2.1.branch1.1.bn.weight False\n",
            "repeat_2.1.branch1.1.bn.bias False\n",
            "repeat_2.1.branch1.2.conv.weight False\n",
            "repeat_2.1.branch1.2.bn.weight False\n",
            "repeat_2.1.branch1.2.bn.bias False\n",
            "repeat_2.1.conv2d.weight False\n",
            "repeat_2.1.conv2d.bias False\n",
            "repeat_2.2.branch0.conv.weight False\n",
            "repeat_2.2.branch0.bn.weight False\n",
            "repeat_2.2.branch0.bn.bias False\n",
            "repeat_2.2.branch1.0.conv.weight False\n",
            "repeat_2.2.branch1.0.bn.weight False\n",
            "repeat_2.2.branch1.0.bn.bias False\n",
            "repeat_2.2.branch1.1.conv.weight False\n",
            "repeat_2.2.branch1.1.bn.weight False\n",
            "repeat_2.2.branch1.1.bn.bias False\n",
            "repeat_2.2.branch1.2.conv.weight False\n",
            "repeat_2.2.branch1.2.bn.weight False\n",
            "repeat_2.2.branch1.2.bn.bias False\n",
            "repeat_2.2.conv2d.weight False\n",
            "repeat_2.2.conv2d.bias False\n",
            "repeat_2.3.branch0.conv.weight False\n",
            "repeat_2.3.branch0.bn.weight False\n",
            "repeat_2.3.branch0.bn.bias False\n",
            "repeat_2.3.branch1.0.conv.weight False\n",
            "repeat_2.3.branch1.0.bn.weight False\n",
            "repeat_2.3.branch1.0.bn.bias False\n",
            "repeat_2.3.branch1.1.conv.weight False\n",
            "repeat_2.3.branch1.1.bn.weight False\n",
            "repeat_2.3.branch1.1.bn.bias False\n",
            "repeat_2.3.branch1.2.conv.weight False\n",
            "repeat_2.3.branch1.2.bn.weight False\n",
            "repeat_2.3.branch1.2.bn.bias False\n",
            "repeat_2.3.conv2d.weight False\n",
            "repeat_2.3.conv2d.bias False\n",
            "repeat_2.4.branch0.conv.weight False\n",
            "repeat_2.4.branch0.bn.weight False\n",
            "repeat_2.4.branch0.bn.bias False\n",
            "repeat_2.4.branch1.0.conv.weight False\n",
            "repeat_2.4.branch1.0.bn.weight False\n",
            "repeat_2.4.branch1.0.bn.bias False\n",
            "repeat_2.4.branch1.1.conv.weight False\n",
            "repeat_2.4.branch1.1.bn.weight False\n",
            "repeat_2.4.branch1.1.bn.bias False\n",
            "repeat_2.4.branch1.2.conv.weight False\n",
            "repeat_2.4.branch1.2.bn.weight False\n",
            "repeat_2.4.branch1.2.bn.bias False\n",
            "repeat_2.4.conv2d.weight False\n",
            "repeat_2.4.conv2d.bias False\n",
            "repeat_2.5.branch0.conv.weight False\n",
            "repeat_2.5.branch0.bn.weight False\n",
            "repeat_2.5.branch0.bn.bias False\n",
            "repeat_2.5.branch1.0.conv.weight False\n",
            "repeat_2.5.branch1.0.bn.weight False\n",
            "repeat_2.5.branch1.0.bn.bias False\n",
            "repeat_2.5.branch1.1.conv.weight False\n",
            "repeat_2.5.branch1.1.bn.weight False\n",
            "repeat_2.5.branch1.1.bn.bias False\n",
            "repeat_2.5.branch1.2.conv.weight False\n",
            "repeat_2.5.branch1.2.bn.weight False\n",
            "repeat_2.5.branch1.2.bn.bias False\n",
            "repeat_2.5.conv2d.weight False\n",
            "repeat_2.5.conv2d.bias False\n",
            "repeat_2.6.branch0.conv.weight False\n",
            "repeat_2.6.branch0.bn.weight False\n",
            "repeat_2.6.branch0.bn.bias False\n",
            "repeat_2.6.branch1.0.conv.weight False\n",
            "repeat_2.6.branch1.0.bn.weight False\n",
            "repeat_2.6.branch1.0.bn.bias False\n",
            "repeat_2.6.branch1.1.conv.weight False\n",
            "repeat_2.6.branch1.1.bn.weight False\n",
            "repeat_2.6.branch1.1.bn.bias False\n",
            "repeat_2.6.branch1.2.conv.weight False\n",
            "repeat_2.6.branch1.2.bn.weight False\n",
            "repeat_2.6.branch1.2.bn.bias False\n",
            "repeat_2.6.conv2d.weight False\n",
            "repeat_2.6.conv2d.bias False\n",
            "repeat_2.7.branch0.conv.weight False\n",
            "repeat_2.7.branch0.bn.weight False\n",
            "repeat_2.7.branch0.bn.bias False\n",
            "repeat_2.7.branch1.0.conv.weight False\n",
            "repeat_2.7.branch1.0.bn.weight False\n",
            "repeat_2.7.branch1.0.bn.bias False\n",
            "repeat_2.7.branch1.1.conv.weight False\n",
            "repeat_2.7.branch1.1.bn.weight False\n",
            "repeat_2.7.branch1.1.bn.bias False\n",
            "repeat_2.7.branch1.2.conv.weight False\n",
            "repeat_2.7.branch1.2.bn.weight False\n",
            "repeat_2.7.branch1.2.bn.bias False\n",
            "repeat_2.7.conv2d.weight False\n",
            "repeat_2.7.conv2d.bias False\n",
            "repeat_2.8.branch0.conv.weight False\n",
            "repeat_2.8.branch0.bn.weight False\n",
            "repeat_2.8.branch0.bn.bias False\n",
            "repeat_2.8.branch1.0.conv.weight False\n",
            "repeat_2.8.branch1.0.bn.weight False\n",
            "repeat_2.8.branch1.0.bn.bias False\n",
            "repeat_2.8.branch1.1.conv.weight False\n",
            "repeat_2.8.branch1.1.bn.weight False\n",
            "repeat_2.8.branch1.1.bn.bias False\n",
            "repeat_2.8.branch1.2.conv.weight False\n",
            "repeat_2.8.branch1.2.bn.weight False\n",
            "repeat_2.8.branch1.2.bn.bias False\n",
            "repeat_2.8.conv2d.weight False\n",
            "repeat_2.8.conv2d.bias False\n",
            "repeat_2.9.branch0.conv.weight False\n",
            "repeat_2.9.branch0.bn.weight False\n",
            "repeat_2.9.branch0.bn.bias False\n",
            "repeat_2.9.branch1.0.conv.weight False\n",
            "repeat_2.9.branch1.0.bn.weight False\n",
            "repeat_2.9.branch1.0.bn.bias False\n",
            "repeat_2.9.branch1.1.conv.weight False\n",
            "repeat_2.9.branch1.1.bn.weight False\n",
            "repeat_2.9.branch1.1.bn.bias False\n",
            "repeat_2.9.branch1.2.conv.weight False\n",
            "repeat_2.9.branch1.2.bn.weight False\n",
            "repeat_2.9.branch1.2.bn.bias False\n",
            "repeat_2.9.conv2d.weight False\n",
            "repeat_2.9.conv2d.bias False\n",
            "mixed_7a.branch0.0.conv.weight False\n",
            "mixed_7a.branch0.0.bn.weight False\n",
            "mixed_7a.branch0.0.bn.bias False\n",
            "mixed_7a.branch0.1.conv.weight False\n",
            "mixed_7a.branch0.1.bn.weight False\n",
            "mixed_7a.branch0.1.bn.bias False\n",
            "mixed_7a.branch1.0.conv.weight False\n",
            "mixed_7a.branch1.0.bn.weight False\n",
            "mixed_7a.branch1.0.bn.bias False\n",
            "mixed_7a.branch1.1.conv.weight False\n",
            "mixed_7a.branch1.1.bn.weight False\n",
            "mixed_7a.branch1.1.bn.bias False\n",
            "mixed_7a.branch2.0.conv.weight False\n",
            "mixed_7a.branch2.0.bn.weight False\n",
            "mixed_7a.branch2.0.bn.bias False\n",
            "mixed_7a.branch2.1.conv.weight False\n",
            "mixed_7a.branch2.1.bn.weight False\n",
            "mixed_7a.branch2.1.bn.bias False\n",
            "mixed_7a.branch2.2.conv.weight False\n",
            "mixed_7a.branch2.2.bn.weight False\n",
            "mixed_7a.branch2.2.bn.bias False\n",
            "repeat_3.0.branch0.conv.weight False\n",
            "repeat_3.0.branch0.bn.weight False\n",
            "repeat_3.0.branch0.bn.bias False\n",
            "repeat_3.0.branch1.0.conv.weight False\n",
            "repeat_3.0.branch1.0.bn.weight False\n",
            "repeat_3.0.branch1.0.bn.bias False\n",
            "repeat_3.0.branch1.1.conv.weight False\n",
            "repeat_3.0.branch1.1.bn.weight False\n",
            "repeat_3.0.branch1.1.bn.bias False\n",
            "repeat_3.0.branch1.2.conv.weight False\n",
            "repeat_3.0.branch1.2.bn.weight False\n",
            "repeat_3.0.branch1.2.bn.bias False\n",
            "repeat_3.0.conv2d.weight False\n",
            "repeat_3.0.conv2d.bias False\n",
            "repeat_3.1.branch0.conv.weight False\n",
            "repeat_3.1.branch0.bn.weight False\n",
            "repeat_3.1.branch0.bn.bias False\n",
            "repeat_3.1.branch1.0.conv.weight False\n",
            "repeat_3.1.branch1.0.bn.weight False\n",
            "repeat_3.1.branch1.0.bn.bias False\n",
            "repeat_3.1.branch1.1.conv.weight False\n",
            "repeat_3.1.branch1.1.bn.weight False\n",
            "repeat_3.1.branch1.1.bn.bias False\n",
            "repeat_3.1.branch1.2.conv.weight False\n",
            "repeat_3.1.branch1.2.bn.weight False\n",
            "repeat_3.1.branch1.2.bn.bias False\n",
            "repeat_3.1.conv2d.weight False\n",
            "repeat_3.1.conv2d.bias False\n",
            "repeat_3.2.branch0.conv.weight False\n",
            "repeat_3.2.branch0.bn.weight False\n",
            "repeat_3.2.branch0.bn.bias False\n",
            "repeat_3.2.branch1.0.conv.weight False\n",
            "repeat_3.2.branch1.0.bn.weight False\n",
            "repeat_3.2.branch1.0.bn.bias False\n",
            "repeat_3.2.branch1.1.conv.weight False\n",
            "repeat_3.2.branch1.1.bn.weight False\n",
            "repeat_3.2.branch1.1.bn.bias False\n",
            "repeat_3.2.branch1.2.conv.weight False\n",
            "repeat_3.2.branch1.2.bn.weight False\n",
            "repeat_3.2.branch1.2.bn.bias False\n",
            "repeat_3.2.conv2d.weight False\n",
            "repeat_3.2.conv2d.bias False\n",
            "repeat_3.3.branch0.conv.weight False\n",
            "repeat_3.3.branch0.bn.weight False\n",
            "repeat_3.3.branch0.bn.bias False\n",
            "repeat_3.3.branch1.0.conv.weight False\n",
            "repeat_3.3.branch1.0.bn.weight False\n",
            "repeat_3.3.branch1.0.bn.bias False\n",
            "repeat_3.3.branch1.1.conv.weight False\n",
            "repeat_3.3.branch1.1.bn.weight False\n",
            "repeat_3.3.branch1.1.bn.bias False\n",
            "repeat_3.3.branch1.2.conv.weight False\n",
            "repeat_3.3.branch1.2.bn.weight False\n",
            "repeat_3.3.branch1.2.bn.bias False\n",
            "repeat_3.3.conv2d.weight False\n",
            "repeat_3.3.conv2d.bias False\n",
            "repeat_3.4.branch0.conv.weight False\n",
            "repeat_3.4.branch0.bn.weight False\n",
            "repeat_3.4.branch0.bn.bias False\n",
            "repeat_3.4.branch1.0.conv.weight False\n",
            "repeat_3.4.branch1.0.bn.weight False\n",
            "repeat_3.4.branch1.0.bn.bias False\n",
            "repeat_3.4.branch1.1.conv.weight False\n",
            "repeat_3.4.branch1.1.bn.weight False\n",
            "repeat_3.4.branch1.1.bn.bias False\n",
            "repeat_3.4.branch1.2.conv.weight False\n",
            "repeat_3.4.branch1.2.bn.weight False\n",
            "repeat_3.4.branch1.2.bn.bias False\n",
            "repeat_3.4.conv2d.weight False\n",
            "repeat_3.4.conv2d.bias False\n",
            "block8.branch0.conv.weight False\n",
            "block8.branch0.bn.weight False\n",
            "block8.branch0.bn.bias False\n",
            "block8.branch1.0.conv.weight False\n",
            "block8.branch1.0.bn.weight False\n",
            "block8.branch1.0.bn.bias False\n",
            "block8.branch1.1.conv.weight False\n",
            "block8.branch1.1.bn.weight False\n",
            "block8.branch1.1.bn.bias False\n",
            "block8.branch1.2.conv.weight False\n",
            "block8.branch1.2.bn.weight False\n",
            "block8.branch1.2.bn.bias False\n",
            "block8.conv2d.weight False\n",
            "block8.conv2d.bias False\n",
            "last_linear.weight False\n",
            "last_bn.weight False\n",
            "last_bn.bias False\n",
            "logits.weight True\n",
            "logits.bias True\n"
          ],
          "name": "stdout"
        }
      ]
    },
    {
      "cell_type": "code",
      "metadata": {
        "id": "vGZXIcFWVZaM"
      },
      "source": [
        "optimizer = optim.Adam(resnet.parameters(), lr=0.001)\n",
        "scheduler = MultiStepLR(optimizer, [4])\n",
        "loss_fn = torch.nn.CrossEntropyLoss()\n",
        "metrics = {\n",
        "    'fps': training.BatchTimer(),\n",
        "    'acc': training.accuracy\n",
        "}\n",
        "epochs = 4"
      ],
      "execution_count": null,
      "outputs": []
    },
    {
      "cell_type": "code",
      "metadata": {
        "id": "Q7AeZ0VFq6Gi"
      },
      "source": [
        "from PIL import ImageFile\n",
        "ImageFile.LOAD_TRUNCATED_IMAGES = True"
      ],
      "execution_count": null,
      "outputs": []
    },
    {
      "cell_type": "code",
      "metadata": {
        "id": "jn_BZN9tuoTm",
        "colab": {
          "base_uri": "https://localhost:8080/"
        },
        "outputId": "0cb4f1b0-c771-49e6-acab-814269b3dd0a"
      },
      "source": [
        "# Обучаю только последний слой\n",
        "writer = SummaryWriter()\n",
        "writer.iteration, writer.interval = 0, 10\n",
        "\n",
        "print('\\n\\nInitial')\n",
        "print('-' * 10)\n",
        "resnet.eval()\n",
        "training.pass_epoch(\n",
        "    resnet, loss_fn, val_loader,\n",
        "    batch_metrics=metrics, show_running=True, device=device,\n",
        "    writer=writer\n",
        ")\n",
        "\n",
        "for epoch in range(epochs):\n",
        "    print('\\nEpoch {}/{}'.format(epoch + 1, epochs))\n",
        "    print('-' * 10)\n",
        "\n",
        "    resnet.train()\n",
        "    training.pass_epoch(\n",
        "        resnet, loss_fn, train_loader, optimizer, scheduler,\n",
        "        batch_metrics=metrics, show_running=True, device=device,\n",
        "        writer=writer\n",
        "    )\n",
        "\n",
        "    resnet.eval()\n",
        "    training.pass_epoch(\n",
        "        resnet, loss_fn, val_loader,\n",
        "        batch_metrics=metrics, show_running=True, device=device,\n",
        "        writer=writer\n",
        "    )\n",
        "\n",
        "writer.close()"
      ],
      "execution_count": null,
      "outputs": [
        {
          "output_type": "stream",
          "text": [
            "\n",
            "\n",
            "Initial\n",
            "----------\n",
            "Valid |  3911/3911 | loss:   10.3968 | fps:  963.6921 | acc:    0.0000   \n",
            "\n",
            "Epoch 1/3\n",
            "----------\n",
            "Train | 15643/15643| loss:    2.1215 | fps:  909.2809 | acc:    0.6537   \n",
            "Valid |  3911/3911 | loss:    0.9669 | fps:  964.0842 | acc:    0.7991   \n",
            "\n",
            "Epoch 2/3\n",
            "----------\n",
            "Train | 15643/15643| loss:    1.0356 | fps:  914.1127 | acc:    0.7882   \n",
            "Valid |  3911/3911 | loss:    0.9024 | fps:  963.4849 | acc:    0.8204   \n",
            "\n",
            "Epoch 3/3\n",
            "----------\n",
            "Train | 15643/15643| loss:    0.9524 | fps:  921.4893 | acc:    0.8073   \n",
            "Valid |  3911/3911 | loss:    0.8906 | fps:  968.7215 | acc:    0.8302   \n"
          ],
          "name": "stdout"
        }
      ]
    },
    {
      "cell_type": "code",
      "metadata": {
        "id": "qigrppKQjuTr"
      },
      "source": [
        "# Specify a path\n",
        "PATH = \"resnet_equalizedface_freeze.pth\"\n",
        "\n",
        "# Save\n",
        "torch.save(resnet.PATH)"
      ],
      "execution_count": null,
      "outputs": []
    },
    {
      "cell_type": "code",
      "metadata": {
        "id": "reLQEaVVfVmN"
      },
      "source": [
        "# Разморозили\n",
        "for name, param in resnet.named_parameters():\n",
        "#    if not 'logits' in name:\n",
        "  param.requires_grad = True"
      ],
      "execution_count": null,
      "outputs": []
    },
    {
      "cell_type": "code",
      "metadata": {
        "id": "gpbt95t7kR8Q"
      },
      "source": [
        "optimizer = optim.Adam(resnet.parameters(), lr=0.001)\n",
        "scheduler = MultiStepLR(optimizer, [5])\n",
        "loss_fn = torch.nn.CrossEntropyLoss()\n",
        "metrics = {\n",
        "    'fps': training.BatchTimer(),\n",
        "    'acc': training.accuracy\n",
        "}\n",
        "epochs = 3"
      ],
      "execution_count": null,
      "outputs": []
    },
    {
      "cell_type": "code",
      "metadata": {
        "colab": {
          "base_uri": "https://localhost:8080/"
        },
        "id": "xC08WNqVoplv",
        "outputId": "6827d75e-c68b-4650-a6ef-6061dbc4b016"
      },
      "source": [
        "# Разморозили\n",
        "writer = SummaryWriter()\n",
        "writer.iteration, writer.interval = 0, 10\n",
        "\n",
        "print('\\n\\nInitial')\n",
        "print('-' * 10)\n",
        "resnet.eval()\n",
        "training.pass_epoch(\n",
        "    resnet, loss_fn, val_loader,\n",
        "    batch_metrics=metrics, show_running=True, device=device,\n",
        "    writer=writer\n",
        ")\n",
        "\n",
        "for epoch in range(epochs):\n",
        "    print('\\nEpoch {}/{}'.format(epoch + 1, epochs))\n",
        "    print('-' * 10)\n",
        "\n",
        "    resnet.train()\n",
        "    training.pass_epoch(\n",
        "        resnet, loss_fn, train_loader, optimizer, scheduler,\n",
        "        batch_metrics=metrics, show_running=True, device=device,\n",
        "        writer=writer\n",
        "    )\n",
        "\n",
        "    resnet.eval()\n",
        "    training.pass_epoch(\n",
        "        resnet, loss_fn, val_loader,\n",
        "        batch_metrics=metrics, show_running=True, device=device,\n",
        "        writer=writer\n",
        "    )\n",
        "\n",
        "writer.close()"
      ],
      "execution_count": null,
      "outputs": [
        {
          "output_type": "stream",
          "text": [
            "\n",
            "\n",
            "Initial\n",
            "----------\n",
            "Valid |  3911/3911 | loss:    0.8906 | fps:  996.7119 | acc:    0.8302   \n",
            "\n",
            "Epoch 1/3\n",
            "----------\n",
            "Train | 15643/15643| loss:    1.6771 | fps:  320.2097 | acc:    0.6738   \n",
            "Valid |  3911/3911 | loss:    0.9260 | fps: 1006.8447 | acc:    0.7984   \n",
            "\n",
            "Epoch 2/3\n",
            "----------\n",
            "Train | 15643/15643| loss:    0.8400 | fps:  321.0092 | acc:    0.8102   \n",
            "Valid |  3911/3911 | loss:    0.6703 | fps:  986.4522 | acc:    0.8499   \n",
            "\n",
            "Epoch 3/3\n",
            "----------\n",
            "Train | 15643/15643| loss:    0.6056 | fps:  320.9830 | acc:    0.8574   \n",
            "Valid |  3911/3911 | loss:    0.5823 | fps:  975.4481 | acc:    0.8692   \n"
          ],
          "name": "stdout"
        }
      ]
    },
    {
      "cell_type": "code",
      "metadata": {
        "id": "rdWonpaL1Qe1"
      },
      "source": [
        "# Specify a path\n",
        "PATH = \"resnet_equalizedface_not_freeze.pth\"\n",
        "\n",
        "# Save\n",
        "torch.save(resnet, PATH)"
      ],
      "execution_count": null,
      "outputs": []
    },
    {
      "cell_type": "code",
      "metadata": {
        "colab": {
          "base_uri": "https://localhost:8080/"
        },
        "id": "wcwPhRUsrwY7",
        "outputId": "b4ba6474-01c7-47ad-cb73-14262d4daae0"
      },
      "source": [
        "# Дообучим ещё ( С этим дообучением получилось качество получше)\n",
        "\n",
        "optimizer = optim.Adam(resnet.parameters(), lr=0.0003)\n",
        "scheduler = MultiStepLR(optimizer, [3])\n",
        "loss_fn = torch.nn.CrossEntropyLoss()\n",
        "metrics = {\n",
        "    'fps': training.BatchTimer(),\n",
        "    'acc': training.accuracy\n",
        "}\n",
        "epochs = 2\n",
        "\n",
        "writer = SummaryWriter()\n",
        "writer.iteration, writer.interval = 0, 10\n",
        "\n",
        "print('\\n\\nInitial')\n",
        "print('-' * 10)\n",
        "resnet.eval()\n",
        "training.pass_epoch(\n",
        "    resnet, loss_fn, val_loader,\n",
        "    batch_metrics=metrics, show_running=True, device=device,\n",
        "    writer=writer\n",
        ")\n",
        "\n",
        "for epoch in range(epochs):\n",
        "    print('\\nEpoch {}/{}'.format(epoch + 1, epochs))\n",
        "    print('-' * 10)\n",
        "\n",
        "    resnet.train()\n",
        "    training.pass_epoch(\n",
        "        resnet, loss_fn, train_loader, optimizer, scheduler,\n",
        "        batch_metrics=metrics, show_running=True, device=device,\n",
        "        writer=writer\n",
        "    )\n",
        "\n",
        "    resnet.eval()\n",
        "    training.pass_epoch(\n",
        "        resnet, loss_fn, val_loader,\n",
        "        batch_metrics=metrics, show_running=True, device=device,\n",
        "        writer=writer\n",
        "    )\n",
        "\n",
        "writer.close()"
      ],
      "execution_count": null,
      "outputs": [
        {
          "output_type": "stream",
          "text": [
            "\n",
            "\n",
            "Initial\n",
            "----------\n",
            "Valid |  3911/3911 | loss:    0.5822 | fps:  980.8099 | acc:    0.8692   \n",
            "\n",
            "Epoch 1/3\n",
            "----------\n",
            "Train | 15643/15643| loss:    0.2042 | fps:  320.7318 | acc:    0.9516   \n",
            "Valid |  3911/3911 | loss:    0.2857 | fps:  979.4978 | acc:    0.9367   \n",
            "\n",
            "Epoch 2/3\n",
            "----------\n",
            "Train | 15643/15643| loss:    0.1049 | fps:  319.9578 | acc:    0.9739   \n",
            "Valid |  3911/3911 | loss:    0.2902 | fps:  977.6923 | acc:    0.9367   \n",
            "\n",
            "Epoch 3/3\n",
            "----------\n",
            "Train | 15643/15643| loss:    0.0865 | fps:  320.8113 | acc:    0.9776   \n",
            "Valid |  3911/3911 | loss:    0.2972 | fps:  982.8597 | acc:    0.9364   \n"
          ],
          "name": "stdout"
        }
      ]
    },
    {
      "cell_type": "code",
      "metadata": {
        "id": "3aRrM9Losl_F"
      },
      "source": [
        "PATH = \"resnet_equalizedface_all.pth\"\n",
        "torch.save(resnet, PATH)"
      ],
      "execution_count": null,
      "outputs": []
    },
    {
      "cell_type": "code",
      "metadata": {
        "id": "xjkXyPZ-hToF"
      },
      "source": [
        "import copy\n",
        "old_model = copy.deepcopy(resnet)"
      ],
      "execution_count": null,
      "outputs": []
    },
    {
      "cell_type": "markdown",
      "metadata": {
        "id": "r2ZK-gYLCNCB"
      },
      "source": [
        "##**Загружаем датасет RFW**"
      ]
    },
    {
      "cell_type": "code",
      "metadata": {
        "colab": {
          "resources": {
            "http://localhost:8080/nbextensions/google.colab/files.js": {
              "data": "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",
              "ok": true,
              "headers": [
                [
                  "content-type",
                  "application/javascript"
                ]
              ],
              "status": 200,
              "status_text": ""
            }
          },
          "base_uri": "https://localhost:8080/",
          "height": 91
        },
        "id": "VO_Zn6QM-TU8",
        "outputId": "73e79c22-1acd-4ae7-a1aa-c437abdab0a9"
      },
      "source": [
        "from google.colab import files\n",
        "files.upload()"
      ],
      "execution_count": 8,
      "outputs": [
        {
          "output_type": "display_data",
          "data": {
            "text/html": [
              "\n",
              "     <input type=\"file\" id=\"files-b4a11072-e919-41ba-94c5-561b18f7f043\" name=\"files[]\" multiple disabled\n",
              "        style=\"border:none\" />\n",
              "     <output id=\"result-b4a11072-e919-41ba-94c5-561b18f7f043\">\n",
              "      Upload widget is only available when the cell has been executed in the\n",
              "      current browser session. Please rerun this cell to enable.\n",
              "      </output>\n",
              "      <script src=\"/nbextensions/google.colab/files.js\"></script> "
            ],
            "text/plain": [
              "<IPython.core.display.HTML object>"
            ]
          },
          "metadata": {
            "tags": []
          }
        },
        {
          "output_type": "stream",
          "text": [
            "Saving kaggle.json to kaggle.json\n"
          ],
          "name": "stdout"
        },
        {
          "output_type": "execute_result",
          "data": {
            "text/plain": [
              "{'kaggle.json': b'{\"username\":\"mila601\",\"key\":\"d7296722c70eeeb1367e467aad3d6cc7\"}'}"
            ]
          },
          "metadata": {
            "tags": []
          },
          "execution_count": 8
        }
      ]
    },
    {
      "cell_type": "code",
      "metadata": {
        "colab": {
          "base_uri": "https://localhost:8080/"
        },
        "id": "6KMTJPSQFKat",
        "outputId": "5b3e007b-4674-493d-a7ae-9204ba1669cf"
      },
      "source": [
        "!ls -lha kaggle.json"
      ],
      "execution_count": 9,
      "outputs": [
        {
          "output_type": "stream",
          "text": [
            "-rw-r--r-- 1 root root 63 Nov 28 20:08 kaggle.json\n"
          ],
          "name": "stdout"
        }
      ]
    },
    {
      "cell_type": "code",
      "metadata": {
        "id": "VVNa87DbFMNn"
      },
      "source": [
        "!pip install -q kaggle\n",
        "\n",
        "# The Kaggle API client expects this file to be in ~/.kaggle,\n",
        "# so move it there.\n",
        "!mkdir -p ~/.kaggle\n",
        "!cp kaggle.json ~/.kaggle/\n",
        "\n",
        "# This permissions change avoids a warning on Kaggle tool startup.\n",
        "!chmod 600 ~/.kaggle/kaggle.json"
      ],
      "execution_count": 10,
      "outputs": []
    },
    {
      "cell_type": "code",
      "metadata": {
        "colab": {
          "base_uri": "https://localhost:8080/"
        },
        "id": "WBI0Dj1AFSMq",
        "outputId": "db8dfbd0-b3c4-4bc0-8099-4b5831b7cbf4"
      },
      "source": [
        "!kaggle datasets list --mine"
      ],
      "execution_count": 11,
      "outputs": [
        {
          "output_type": "stream",
          "text": [
            "Warning: Looks like you're using an outdated API Version, please consider updating (server 1.5.9 / client 1.5.4)\n",
            "ref                              title                     size  lastUpdated          downloadCount  \n",
            "-------------------------------  -----------------------  -----  -------------------  -------------  \n",
            "mila601/rfw-image                RFW_image                  1GB  2020-10-24 15:41:08             32  \n",
            "mila601/nlp-made-hw5             nlp_made_hw5             844MB  2020-07-03 19:59:45              9  \n",
            "mila601/made-cv-hw1-test-points  made_cv_hw1_test_points    8MB  2020-05-05 21:02:40             15  \n",
            "mila601/train-caucasian          train_caucasian           15GB  2020-11-27 23:33:49              3  \n",
            "mila601/target-african           target_african             2GB  2020-11-28 08:06:26              2  \n"
          ],
          "name": "stdout"
        }
      ]
    },
    {
      "cell_type": "code",
      "metadata": {
        "colab": {
          "base_uri": "https://localhost:8080/"
        },
        "id": "Sd8jmKRcFYBL",
        "outputId": "048aacff-f3ee-43f4-9ebc-a45b4ce77530"
      },
      "source": [
        "!kaggle datasets download -d mila601/rfw-image"
      ],
      "execution_count": 12,
      "outputs": [
        {
          "output_type": "stream",
          "text": [
            "Downloading rfw-image.zip to /content\n",
            " 99% 1.27G/1.28G [00:09<00:00, 175MB/s]\n",
            "100% 1.28G/1.28G [00:09<00:00, 149MB/s]\n"
          ],
          "name": "stdout"
        }
      ]
    },
    {
      "cell_type": "code",
      "metadata": {
        "id": "ftp6qFLrFkL1"
      },
      "source": [
        "!unzip \\*.zip"
      ],
      "execution_count": null,
      "outputs": []
    },
    {
      "cell_type": "code",
      "metadata": {
        "id": "VVKXbAHH114L"
      },
      "source": [
        "!rm rfw-image.zip"
      ],
      "execution_count": 14,
      "outputs": []
    },
    {
      "cell_type": "code",
      "metadata": {
        "id": "KAej9nAFixLX",
        "colab": {
          "base_uri": "https://localhost:8080/",
          "height": 67,
          "referenced_widgets": [
            "81dccb165da24dd5986aacc26a569370",
            "c5d4eacafaf442f8a0b7406e4ce2d58b",
            "68baedf76195457a86f7beeeae7b6721",
            "9722d90b259d4615958cde5b32daf760",
            "ab4cf7998c664b8da1f55abaf34f4025",
            "9c6bc2fcfdd44e0f8372f91104fc00fb",
            "930d7bbdbb9941578e51479d8cd11e28",
            "e7b5eb4ac2fc4099946ad3bde386c3cb"
          ]
        },
        "outputId": "7b2116f3-e36e-4348-c630-76a918e6e4a9"
      },
      "source": [
        "# Взять модель предобученную с гитхаба, чтобы на выходе были эмбединги\n",
        "model = InceptionResnetV1(pretrained='vggface2',classify=False).eval().to(device)"
      ],
      "execution_count": 36,
      "outputs": [
        {
          "output_type": "display_data",
          "data": {
            "application/vnd.jupyter.widget-view+json": {
              "model_id": "81dccb165da24dd5986aacc26a569370",
              "version_minor": 0,
              "version_major": 2
            },
            "text/plain": [
              "HBox(children=(FloatProgress(value=0.0, max=111898327.0), HTML(value='')))"
            ]
          },
          "metadata": {
            "tags": []
          }
        },
        {
          "output_type": "stream",
          "text": [
            "\n"
          ],
          "name": "stdout"
        }
      ]
    },
    {
      "cell_type": "markdown",
      "metadata": {
        "id": "cQ0zgndoB67p"
      },
      "source": [
        "#**Проверим качество модели на RFW**"
      ]
    },
    {
      "cell_type": "code",
      "metadata": {
        "id": "GI59kjB0wZZB"
      },
      "source": [
        "# загрузим модель, которую мы дообучили на сжатых изображениях\n",
        "# PATH = \"/content/drive/My Drive/Colab Notebooks/resnet_equalizedface_all.pth\"\n",
        "# resnet = torch.load(PATH)"
      ],
      "execution_count": null,
      "outputs": []
    },
    {
      "cell_type": "code",
      "metadata": {
        "id": "uuKjV237bgyE"
      },
      "source": [
        "# загрузим модель, которую мы дообучили на полных изображениях\n",
        "PATH = \"/content/drive/My Drive/Colab Notebooks/project_facenet/resnet_equalizedface_all.pth\"\n",
        "resnet = torch.load(PATH).eval().to(device)"
      ],
      "execution_count": 8,
      "outputs": []
    },
    {
      "cell_type": "code",
      "metadata": {
        "id": "wOQzw86uixO6"
      },
      "source": [
        "\n",
        "class Identity(torch.nn.Module):\n",
        "    def __init__(self):\n",
        "        super(Identity, self).__init__()\n",
        "        \n",
        "    def forward(self, x):\n",
        "        return x\n",
        "resnet.logits = Identity()\n",
        "resnet = resnet.eval().to(device)"
      ],
      "execution_count": 10,
      "outputs": []
    },
    {
      "cell_type": "code",
      "metadata": {
        "id": "S1fmMyMZGSTX"
      },
      "source": [
        "trans = transforms.Compose([\n",
        "    np.float32,\n",
        "    transforms.ToTensor(),\n",
        "    fixed_image_standardization,\n",
        "    transforms.Resize((220,220)),\n",
        "    transforms.CenterCrop((160,160))\n",
        "])\n",
        "\n",
        "def preprocess_image(filename, transform):\n",
        "  img = Image.open(filename)\n",
        "  imgs = [img]\n",
        "  imgs = np.stack([np.uint8(img) for img in imgs])\n",
        "  imgs = torch.as_tensor(imgs.copy())\n",
        "  processed_tensor = imgs[0]#.permute(0,3,1,2)[0]\n",
        "  processed_tensor = transform(processed_tensor.cpu())\n",
        "  return processed_tensor"
      ],
      "execution_count": 109,
      "outputs": []
    },
    {
      "cell_type": "code",
      "metadata": {
        "id": "UGLCo9r8HrVB"
      },
      "source": [
        "def read_pairs(path):\n",
        "  pairs = pd.read_csv(path, header=None)\n",
        "  pairs = pairs[0]\n",
        "  rows = []\n",
        "  for pair in pairs:\n",
        "    if len(pair.split('\\t'))>3:\n",
        "        row = pair.split('\\t')\n",
        "        rows.append([row[0],row[2],int(row[1]), int(row[3]), 0])\n",
        "    else:\n",
        "        row = pair.split('\\t')\n",
        "        rows.append([row[0],row[0], int(row[1]), int(row[2]), 1])    \n",
        "  data_pair = pd.DataFrame(rows, columns=['person_l','person_r','number_l','number_r','same'])\n",
        "  return data_pair\n",
        "  \n",
        "def make_df_with_paths(path_root):\n",
        "  dataset = []\n",
        "  for path in glob.iglob(os.path.join(path_root, \"**\", \"*.jpg\")):\n",
        "      person = path.split(\"/\")[-2]\n",
        "      dataset.append({\"person\":person, \"path\": path})\n",
        "  print(len(dataset))\n",
        "  dataset = pd.DataFrame(dataset)\n",
        "  dataset['number'] = dataset.path.apply(lambda x: int(x.split('_')[-1].split('.')[0])) \n",
        "  return dataset\n",
        "def metrics(result):\n",
        "  print(f'roc_auc_score = {roc_auc_score(result.target, result.score)}')\n",
        "  res = {}\n",
        "  for trashold in np.linspace(0.3,0.9,200):\n",
        "    result['predict'] = result['score'].apply(lambda x: 1 if x>trashold else 0)\n",
        "    res[trashold]= accuracy_score(result.target, result.predict)\n",
        "  print(f'(trashold, accuracy) =  {[(key, value) for (key, value) in res.items() if value==max(res.values())][0]}')"
      ],
      "execution_count": 110,
      "outputs": []
    },
    {
      "cell_type": "markdown",
      "metadata": {
        "id": "TjfID6YqbaOg"
      },
      "source": [
        "# RFW Caucasian"
      ]
    },
    {
      "cell_type": "code",
      "metadata": {
        "colab": {
          "base_uri": "https://localhost:8080/",
          "height": 197
        },
        "id": "3mFSnzBPUBVN",
        "outputId": "6bb21771-9134-49fe-fcea-4d4f337907a7"
      },
      "source": [
        "# Считаем уже отобранные 6000 пар по cosin similarity\n",
        "caucasian_pais = 'races/RFW_test/txts/Caucasian/Caucasian_pairs.txt'\n",
        "data_pair = read_pairs(caucasian_pais)\n",
        "data_pair.head()"
      ],
      "execution_count": 111,
      "outputs": [
        {
          "output_type": "execute_result",
          "data": {
            "text/html": [
              "<div>\n",
              "<style scoped>\n",
              "    .dataframe tbody tr th:only-of-type {\n",
              "        vertical-align: middle;\n",
              "    }\n",
              "\n",
              "    .dataframe tbody tr th {\n",
              "        vertical-align: top;\n",
              "    }\n",
              "\n",
              "    .dataframe thead th {\n",
              "        text-align: right;\n",
              "    }\n",
              "</style>\n",
              "<table border=\"1\" class=\"dataframe\">\n",
              "  <thead>\n",
              "    <tr style=\"text-align: right;\">\n",
              "      <th></th>\n",
              "      <th>person_l</th>\n",
              "      <th>person_r</th>\n",
              "      <th>number_l</th>\n",
              "      <th>number_r</th>\n",
              "      <th>same</th>\n",
              "    </tr>\n",
              "  </thead>\n",
              "  <tbody>\n",
              "    <tr>\n",
              "      <th>0</th>\n",
              "      <td>m.027n6t8</td>\n",
              "      <td>m.027n6t8</td>\n",
              "      <td>3</td>\n",
              "      <td>2</td>\n",
              "      <td>1</td>\n",
              "    </tr>\n",
              "    <tr>\n",
              "      <th>1</th>\n",
              "      <td>m.016lb3</td>\n",
              "      <td>m.016lb3</td>\n",
              "      <td>4</td>\n",
              "      <td>2</td>\n",
              "      <td>1</td>\n",
              "    </tr>\n",
              "    <tr>\n",
              "      <th>2</th>\n",
              "      <td>m.02_4qt</td>\n",
              "      <td>m.02_4qt</td>\n",
              "      <td>3</td>\n",
              "      <td>2</td>\n",
              "      <td>1</td>\n",
              "    </tr>\n",
              "    <tr>\n",
              "      <th>3</th>\n",
              "      <td>m.09g8fj</td>\n",
              "      <td>m.09g8fj</td>\n",
              "      <td>3</td>\n",
              "      <td>1</td>\n",
              "      <td>1</td>\n",
              "    </tr>\n",
              "    <tr>\n",
              "      <th>4</th>\n",
              "      <td>m.01q3xr</td>\n",
              "      <td>m.01q3xr</td>\n",
              "      <td>1</td>\n",
              "      <td>3</td>\n",
              "      <td>1</td>\n",
              "    </tr>\n",
              "  </tbody>\n",
              "</table>\n",
              "</div>"
            ],
            "text/plain": [
              "    person_l   person_r  number_l  number_r  same\n",
              "0  m.027n6t8  m.027n6t8         3         2     1\n",
              "1   m.016lb3   m.016lb3         4         2     1\n",
              "2   m.02_4qt   m.02_4qt         3         2     1\n",
              "3   m.09g8fj   m.09g8fj         3         1     1\n",
              "4   m.01q3xr   m.01q3xr         1         3     1"
            ]
          },
          "metadata": {
            "tags": []
          },
          "execution_count": 111
        }
      ]
    },
    {
      "cell_type": "code",
      "metadata": {
        "colab": {
          "base_uri": "https://localhost:8080/",
          "height": 216
        },
        "id": "sMingQxMULg8",
        "outputId": "07707672-b5ef-43d3-8022-77a91fd390c8"
      },
      "source": [
        "# Загрузим пути для всех изображений\n",
        "path_caucasian = 'races/RFW_test/data/Caucasian/'\n",
        "dataset = make_df_with_paths(path_caucasian)\n",
        "dataset.head()"
      ],
      "execution_count": 112,
      "outputs": [
        {
          "output_type": "stream",
          "text": [
            "10196\n"
          ],
          "name": "stdout"
        },
        {
          "output_type": "execute_result",
          "data": {
            "text/html": [
              "<div>\n",
              "<style scoped>\n",
              "    .dataframe tbody tr th:only-of-type {\n",
              "        vertical-align: middle;\n",
              "    }\n",
              "\n",
              "    .dataframe tbody tr th {\n",
              "        vertical-align: top;\n",
              "    }\n",
              "\n",
              "    .dataframe thead th {\n",
              "        text-align: right;\n",
              "    }\n",
              "</style>\n",
              "<table border=\"1\" class=\"dataframe\">\n",
              "  <thead>\n",
              "    <tr style=\"text-align: right;\">\n",
              "      <th></th>\n",
              "      <th>person</th>\n",
              "      <th>path</th>\n",
              "      <th>number</th>\n",
              "    </tr>\n",
              "  </thead>\n",
              "  <tbody>\n",
              "    <tr>\n",
              "      <th>0</th>\n",
              "      <td>m.01r0fmm</td>\n",
              "      <td>races/RFW_test/data/Caucasian/m.01r0fmm/m.01r0...</td>\n",
              "      <td>3</td>\n",
              "    </tr>\n",
              "    <tr>\n",
              "      <th>1</th>\n",
              "      <td>m.01r0fmm</td>\n",
              "      <td>races/RFW_test/data/Caucasian/m.01r0fmm/m.01r0...</td>\n",
              "      <td>1</td>\n",
              "    </tr>\n",
              "    <tr>\n",
              "      <th>2</th>\n",
              "      <td>m.01r0fmm</td>\n",
              "      <td>races/RFW_test/data/Caucasian/m.01r0fmm/m.01r0...</td>\n",
              "      <td>4</td>\n",
              "    </tr>\n",
              "    <tr>\n",
              "      <th>3</th>\n",
              "      <td>m.01r0fmm</td>\n",
              "      <td>races/RFW_test/data/Caucasian/m.01r0fmm/m.01r0...</td>\n",
              "      <td>2</td>\n",
              "    </tr>\n",
              "    <tr>\n",
              "      <th>4</th>\n",
              "      <td>m.0n_h8</td>\n",
              "      <td>races/RFW_test/data/Caucasian/m.0n_h8/m.0n_h8_...</td>\n",
              "      <td>1</td>\n",
              "    </tr>\n",
              "  </tbody>\n",
              "</table>\n",
              "</div>"
            ],
            "text/plain": [
              "      person                                               path  number\n",
              "0  m.01r0fmm  races/RFW_test/data/Caucasian/m.01r0fmm/m.01r0...       3\n",
              "1  m.01r0fmm  races/RFW_test/data/Caucasian/m.01r0fmm/m.01r0...       1\n",
              "2  m.01r0fmm  races/RFW_test/data/Caucasian/m.01r0fmm/m.01r0...       4\n",
              "3  m.01r0fmm  races/RFW_test/data/Caucasian/m.01r0fmm/m.01r0...       2\n",
              "4    m.0n_h8  races/RFW_test/data/Caucasian/m.0n_h8/m.0n_h8_...       1"
            ]
          },
          "metadata": {
            "tags": []
          },
          "execution_count": 112
        }
      ]
    },
    {
      "cell_type": "code",
      "metadata": {
        "id": "TFuhSYJBW7tY"
      },
      "source": [
        "data_pair = data_pair.merge(dataset[['person','number','path']], left_on=['person_l', 'number_l'], right_on=['person', 'number'], how='inner')\n",
        "data_pair = data_pair.rename({'path': 'path_l'}, axis='columns')\n",
        "data_pair.drop(['person','number'], axis=1, inplace=True)\n",
        "\n",
        "data_pair = data_pair.merge(dataset[['person','number','path']], left_on=['person_r', 'number_r'], right_on=['person', 'number'], how='inner')\n",
        "data_pair = data_pair.rename({'path': 'path_r'}, axis='columns')\n",
        "data_pair.drop(['person','number'], axis=1, inplace=True)"
      ],
      "execution_count": 113,
      "outputs": []
    },
    {
      "cell_type": "code",
      "metadata": {
        "colab": {
          "base_uri": "https://localhost:8080/",
          "height": 197
        },
        "id": "NZgZGCwnOMBC",
        "outputId": "f2d1a4a6-5093-4d71-c31a-292dee8e66f0"
      },
      "source": [
        "data_pair.head()"
      ],
      "execution_count": 18,
      "outputs": [
        {
          "output_type": "execute_result",
          "data": {
            "text/html": [
              "<div>\n",
              "<style scoped>\n",
              "    .dataframe tbody tr th:only-of-type {\n",
              "        vertical-align: middle;\n",
              "    }\n",
              "\n",
              "    .dataframe tbody tr th {\n",
              "        vertical-align: top;\n",
              "    }\n",
              "\n",
              "    .dataframe thead th {\n",
              "        text-align: right;\n",
              "    }\n",
              "</style>\n",
              "<table border=\"1\" class=\"dataframe\">\n",
              "  <thead>\n",
              "    <tr style=\"text-align: right;\">\n",
              "      <th></th>\n",
              "      <th>person_l</th>\n",
              "      <th>person_r</th>\n",
              "      <th>number_l</th>\n",
              "      <th>number_r</th>\n",
              "      <th>same</th>\n",
              "      <th>path_l</th>\n",
              "      <th>path_r</th>\n",
              "    </tr>\n",
              "  </thead>\n",
              "  <tbody>\n",
              "    <tr>\n",
              "      <th>0</th>\n",
              "      <td>m.027n6t8</td>\n",
              "      <td>m.027n6t8</td>\n",
              "      <td>3</td>\n",
              "      <td>2</td>\n",
              "      <td>1</td>\n",
              "      <td>races/RFW_test/data/Caucasian/m.027n6t8/m.027n...</td>\n",
              "      <td>races/RFW_test/data/Caucasian/m.027n6t8/m.027n...</td>\n",
              "    </tr>\n",
              "    <tr>\n",
              "      <th>1</th>\n",
              "      <td>m.016lb3</td>\n",
              "      <td>m.016lb3</td>\n",
              "      <td>4</td>\n",
              "      <td>2</td>\n",
              "      <td>1</td>\n",
              "      <td>races/RFW_test/data/Caucasian/m.016lb3/m.016lb...</td>\n",
              "      <td>races/RFW_test/data/Caucasian/m.016lb3/m.016lb...</td>\n",
              "    </tr>\n",
              "    <tr>\n",
              "      <th>2</th>\n",
              "      <td>m.02_4qt</td>\n",
              "      <td>m.02_4qt</td>\n",
              "      <td>3</td>\n",
              "      <td>2</td>\n",
              "      <td>1</td>\n",
              "      <td>races/RFW_test/data/Caucasian/m.02_4qt/m.02_4q...</td>\n",
              "      <td>races/RFW_test/data/Caucasian/m.02_4qt/m.02_4q...</td>\n",
              "    </tr>\n",
              "    <tr>\n",
              "      <th>3</th>\n",
              "      <td>m.02_4qt</td>\n",
              "      <td>m.060x66</td>\n",
              "      <td>3</td>\n",
              "      <td>2</td>\n",
              "      <td>0</td>\n",
              "      <td>races/RFW_test/data/Caucasian/m.02_4qt/m.02_4q...</td>\n",
              "      <td>races/RFW_test/data/Caucasian/m.060x66/m.060x6...</td>\n",
              "    </tr>\n",
              "    <tr>\n",
              "      <th>4</th>\n",
              "      <td>m.09g8fj</td>\n",
              "      <td>m.09g8fj</td>\n",
              "      <td>3</td>\n",
              "      <td>1</td>\n",
              "      <td>1</td>\n",
              "      <td>races/RFW_test/data/Caucasian/m.09g8fj/m.09g8f...</td>\n",
              "      <td>races/RFW_test/data/Caucasian/m.09g8fj/m.09g8f...</td>\n",
              "    </tr>\n",
              "  </tbody>\n",
              "</table>\n",
              "</div>"
            ],
            "text/plain": [
              "    person_l  ...                                             path_r\n",
              "0  m.027n6t8  ...  races/RFW_test/data/Caucasian/m.027n6t8/m.027n...\n",
              "1   m.016lb3  ...  races/RFW_test/data/Caucasian/m.016lb3/m.016lb...\n",
              "2   m.02_4qt  ...  races/RFW_test/data/Caucasian/m.02_4qt/m.02_4q...\n",
              "3   m.02_4qt  ...  races/RFW_test/data/Caucasian/m.060x66/m.060x6...\n",
              "4   m.09g8fj  ...  races/RFW_test/data/Caucasian/m.09g8fj/m.09g8f...\n",
              "\n",
              "[5 rows x 7 columns]"
            ]
          },
          "metadata": {
            "tags": []
          },
          "execution_count": 18
        }
      ]
    },
    {
      "cell_type": "code",
      "metadata": {
        "colab": {
          "base_uri": "https://localhost:8080/"
        },
        "id": "6Pg3ZbbJTLHv",
        "outputId": "b761908f-7e64-49f8-f2ae-22211312d576"
      },
      "source": [
        "# Собираем в датафрейм эмбединги по всем картинка\n",
        "features = []\n",
        "for idx in tqdm(range(dataset.shape[0])):\n",
        "  filename = dataset.path[idx] \n",
        "  processed_image = preprocess_image(filename, trans).unsqueeze(0).to(device)\n",
        "  preds = resnet(processed_image).detach().cpu()\n",
        "  features.append([dataset.path[idx]] + list(preds[0]))\n",
        "\n",
        "columns = ['path'] + ['feature_'+str(i+1) for i in range(512)]\n",
        "df_features = pd.DataFrame(features, columns = columns)\n",
        "columns = columns[1:]"
      ],
      "execution_count": 69,
      "outputs": [
        {
          "output_type": "stream",
          "text": [
            "100%|██████████| 10415/10415 [05:22<00:00, 32.30it/s]\n"
          ],
          "name": "stderr"
        }
      ]
    },
    {
      "cell_type": "code",
      "metadata": {
        "colab": {
          "base_uri": "https://localhost:8080/"
        },
        "id": "bbtSZEv3_aTj",
        "outputId": "9f275af2-d553-41cb-f39c-fccc5fed3aeb"
      },
      "source": [
        "# Собираем в датафрейм эмбединги по всем картинка\n",
        "features = []\n",
        "for idx in tqdm(range(dataset.shape[0])):\n",
        "  filename = dataset.path[idx] \n",
        "  processed_image = preprocess_image(filename, trans).unsqueeze(0).to(device)\n",
        "  preds = model(processed_image).detach().cpu()\n",
        "  features.append([dataset.path[idx]] + list(preds[0]))\n",
        "\n",
        "columns = ['path'] + ['feature_'+str(i+1) for i in range(512)]\n",
        "df_features = pd.DataFrame(features, columns = columns)\n",
        "columns = columns[1:]"
      ],
      "execution_count": 114,
      "outputs": [
        {
          "output_type": "stream",
          "text": [
            "100%|██████████| 10196/10196 [04:58<00:00, 34.21it/s]\n"
          ],
          "name": "stderr"
        }
      ]
    },
    {
      "cell_type": "code",
      "metadata": {
        "colab": {
          "base_uri": "https://localhost:8080/"
        },
        "id": "NLvtGdZPYPlO",
        "outputId": "bec93c28-9803-4d82-c018-90838c990688"
      },
      "source": [
        "%time\n",
        "# Посчитаем косинусное растояние между парами изображений\n",
        "sim = []\n",
        "data_pair['sim'] = [0.0]*data_pair.shape[0]\n",
        "for idx in tqdm(range(data_pair.shape[0])):\n",
        "  path_l = data_pair.loc[idx, 'path_l']\n",
        "  path_r = data_pair.loc[idx, 'path_r'] \n",
        "  data_pair.loc[idx, 'sim'] = cosine_similarity(np.array(df_features.loc[df_features.path == path_l,columns]).reshape(1,-1), np.array(df_features.loc[df_features.path == path_r,columns]).reshape(1,-1))[0][0]\n",
        "result = pd.DataFrame({'target':data_pair.same, 'score': data_pair.sim})"
      ],
      "execution_count": 115,
      "outputs": [
        {
          "output_type": "stream",
          "text": [
            "  0%|          | 20/6000 [00:00<00:30, 198.44it/s]"
          ],
          "name": "stderr"
        },
        {
          "output_type": "stream",
          "text": [
            "CPU times: user 2 µs, sys: 1e+03 ns, total: 3 µs\n",
            "Wall time: 5.25 µs\n"
          ],
          "name": "stdout"
        },
        {
          "output_type": "stream",
          "text": [
            "100%|██████████| 6000/6000 [00:31<00:00, 191.86it/s]\n"
          ],
          "name": "stderr"
        }
      ]
    },
    {
      "cell_type": "markdown",
      "metadata": {
        "id": "9X8_ktt6K45V"
      },
      "source": [
        "На самом деле здесь accuracy не совсем честно считается, так как нужно заранее определить trashold, но я хотела увидеть, какое максимальное accuracy можно получить"
      ]
    },
    {
      "cell_type": "code",
      "metadata": {
        "colab": {
          "base_uri": "https://localhost:8080/"
        },
        "id": "GsotvIbai6Wl",
        "outputId": "b2b93ee4-58ef-4444-ef38-58e9c04cb90f"
      },
      "source": [
        "# Если использовать предобученную модель с github и не дообучать её\n",
        "metrics(result)"
      ],
      "execution_count": null,
      "outputs": [
        {
          "output_type": "stream",
          "text": [
            "roc_auc_score = 0.9607660000000001\n",
            "(trashold, accuracy) =  (0.4477386934673367, 0.895)\n"
          ],
          "name": "stdout"
        }
      ]
    },
    {
      "cell_type": "code",
      "metadata": {
        "colab": {
          "base_uri": "https://localhost:8080/"
        },
        "id": "sNV57vT52Oiz",
        "outputId": "d759d5d6-07e3-4bd2-d19c-fd13cb64c1c4"
      },
      "source": [
        "# Если использовать дообученную модель на Equalizedface на сжатых изображениях\n",
        "metrics(result)"
      ],
      "execution_count": null,
      "outputs": [
        {
          "output_type": "stream",
          "text": [
            "roc_auc_score = 0.9459227777777779\n",
            "(trashold, accuracy) =  (0.43567839195979896, 0.8706666666666667)\n"
          ],
          "name": "stdout"
        }
      ]
    },
    {
      "cell_type": "code",
      "metadata": {
        "colab": {
          "base_uri": "https://localhost:8080/"
        },
        "id": "fdSq7VVf9101",
        "outputId": "62c33fbf-13c8-4d24-d271-3998a53eb5d7"
      },
      "source": [
        "# Если использовать дообученную модель на Equalizedface на полных изображениях\n",
        "metrics(result)"
      ],
      "execution_count": 21,
      "outputs": [
        {
          "output_type": "stream",
          "text": [
            "roc_auc_score = 0.950764\n",
            "(trashold, accuracy) =  (0.4537688442211055, 0.8775)\n"
          ],
          "name": "stdout"
        }
      ]
    },
    {
      "cell_type": "markdown",
      "metadata": {
        "id": "7oDADtJztVd4"
      },
      "source": [
        "# RFW African"
      ]
    },
    {
      "cell_type": "code",
      "metadata": {
        "colab": {
          "base_uri": "https://localhost:8080/"
        },
        "id": "n3POof1ttZdW",
        "outputId": "200095f8-e0b4-42aa-febd-d34f15476b4b"
      },
      "source": [
        "# Считаем уже отобранные 6000 пар по cosin similarity\n",
        "African_pais = 'races/RFW_test/txts/African/African_pairs.txt'\n",
        "data_pair = read_pairs(African_pais)\n",
        "\n",
        "# Загрузим пути для всех изображений\n",
        "path_african = 'races/RFW_test/data/African/'\n",
        "dataset = make_df_with_paths(path_african)"
      ],
      "execution_count": 72,
      "outputs": [
        {
          "output_type": "stream",
          "text": [
            "10415\n"
          ],
          "name": "stdout"
        }
      ]
    },
    {
      "cell_type": "code",
      "metadata": {
        "id": "nXvDZR3vts0B"
      },
      "source": [
        "data_pair = data_pair.merge(dataset[['person','number','path']], left_on=['person_l', 'number_l'], right_on=['person', 'number'], how='inner')\n",
        "data_pair = data_pair.rename({'path': 'path_l'}, axis='columns')\n",
        "data_pair.drop(['person','number'], axis=1, inplace=True)\n",
        "\n",
        "data_pair = data_pair.merge(dataset[['person','number','path']], left_on=['person_r', 'number_r'], right_on=['person', 'number'], how='inner')\n",
        "data_pair = data_pair.rename({'path': 'path_r'}, axis='columns')\n",
        "data_pair.drop(['person','number'], axis=1, inplace=True)"
      ],
      "execution_count": 73,
      "outputs": []
    },
    {
      "cell_type": "code",
      "metadata": {
        "colab": {
          "base_uri": "https://localhost:8080/"
        },
        "id": "vxkAltaOt2F-",
        "outputId": "6e6ae9c9-f085-45a1-88ee-282ad62398a4"
      },
      "source": [
        "# Собираем в датафрейм эмбединги по всем изображениям\n",
        "features = []\n",
        "for idx in tqdm(range(dataset.shape[0])):\n",
        "  filename = dataset.path[idx] \n",
        "  processed_image = preprocess_image(filename, trans).unsqueeze(0).to(device)\n",
        "  preds = resnet(processed_image).detach().cpu()\n",
        "  features.append([dataset.path[idx]] + list(preds[0]))\n",
        "\n",
        "columns = ['path'] + ['feature_'+str(i+1) for i in range(512)]\n",
        "df_features = pd.DataFrame(features, columns = columns)\n",
        "columns = columns[1:]"
      ],
      "execution_count": 75,
      "outputs": [
        {
          "output_type": "stream",
          "text": [
            "100%|██████████| 10415/10415 [05:11<00:00, 33.38it/s]\n"
          ],
          "name": "stderr"
        }
      ]
    },
    {
      "cell_type": "code",
      "metadata": {
        "colab": {
          "base_uri": "https://localhost:8080/"
        },
        "id": "IeFGc6m0ZZAL",
        "outputId": "fe118143-ad63-46c2-ccd7-52467e21b831"
      },
      "source": [
        "%time\n",
        "# Посчитаем косинусное растояние между парами изображений\n",
        "sim = []\n",
        "data_pair['sim'] = [0.0]*data_pair.shape[0]\n",
        "for idx in tqdm(range(data_pair.shape[0])):\n",
        "  path_l = data_pair.loc[idx, 'path_l']\n",
        "  path_r = data_pair.loc[idx, 'path_r'] \n",
        "  data_pair.loc[idx, 'sim'] = cosine_similarity(np.array(df_features.loc[df_features.path == path_l,columns]).reshape(1,-1), np.array(df_features.loc[df_features.path == path_r,columns]).reshape(1,-1))[0][0]\n",
        "result = pd.DataFrame({'target':data_pair.same, 'score': data_pair.sim})"
      ],
      "execution_count": 76,
      "outputs": [
        {
          "output_type": "stream",
          "text": [
            "  0%|          | 19/6000 [00:00<00:31, 186.99it/s]"
          ],
          "name": "stderr"
        },
        {
          "output_type": "stream",
          "text": [
            "CPU times: user 2 µs, sys: 0 ns, total: 2 µs\n",
            "Wall time: 5.01 µs\n"
          ],
          "name": "stdout"
        },
        {
          "output_type": "stream",
          "text": [
            "100%|██████████| 6000/6000 [00:32<00:00, 186.14it/s]\n"
          ],
          "name": "stderr"
        }
      ]
    },
    {
      "cell_type": "code",
      "metadata": {
        "colab": {
          "base_uri": "https://localhost:8080/"
        },
        "id": "WoRzqAOQnjHT",
        "outputId": "177ebd1d-057c-4c90-90ca-de75a2cf022b"
      },
      "source": [
        "# Если использовать предобученную модель с github и не дообучать её \n",
        "metrics(result)"
      ],
      "execution_count": null,
      "outputs": [
        {
          "output_type": "stream",
          "text": [
            "roc_auc_score = 0.9026611111111111\n",
            "(trashold, accuracy) =  (0.5653266331658291, 0.8246666666666667)\n"
          ],
          "name": "stdout"
        }
      ]
    },
    {
      "cell_type": "code",
      "metadata": {
        "colab": {
          "base_uri": "https://localhost:8080/"
        },
        "id": "51Jgo3vhxINV",
        "outputId": "dbac82ca-e2e8-4fd6-c45f-c429dc51a1b5"
      },
      "source": [
        "# Если использовать дообученную модель на Equalizedface на сжатых данных\n",
        "metrics(result)"
      ],
      "execution_count": null,
      "outputs": [
        {
          "output_type": "stream",
          "text": [
            "roc_auc_score = 0.8935357777777777\n",
            "(trashold, accuracy) =  (0.5020100502512563, 0.8086666666666666)\n"
          ],
          "name": "stdout"
        }
      ]
    },
    {
      "cell_type": "code",
      "metadata": {
        "colab": {
          "base_uri": "https://localhost:8080/"
        },
        "id": "v0XgZ6QukSYS",
        "outputId": "ccb4eccf-b6b9-4136-a573-bf6699fc1398"
      },
      "source": [
        "# Если использовать дообученную модель на Equalizedface на полных изображениях\n",
        "metrics(result)"
      ],
      "execution_count": 27,
      "outputs": [
        {
          "output_type": "stream",
          "text": [
            "roc_auc_score = 0.8930853333333332\n",
            "(trashold, accuracy) =  (0.514070351758794, 0.8171666666666667)\n"
          ],
          "name": "stdout"
        }
      ]
    },
    {
      "cell_type": "markdown",
      "metadata": {
        "id": "T6tonSLsxGBP"
      },
      "source": [
        "# RFW Indian"
      ]
    },
    {
      "cell_type": "code",
      "metadata": {
        "colab": {
          "base_uri": "https://localhost:8080/"
        },
        "id": "qXJYcmq6U7in",
        "outputId": "e5d3d9ce-b8fd-423b-90d3-9adb73555c96"
      },
      "source": [
        "# Считаем уже отобранные 6000 пар по cosin similarity\n",
        "indian_pais = 'races/RFW_test/txts/Indian/Indian_pairs.txt'\n",
        "data_pair = read_pairs(indian_pais)\n",
        "\n",
        "# Загрузим пути для всех изображений\n",
        "path_indian = 'races/RFW_test/data/Indian/'\n",
        "dataset = make_df_with_paths(path_indian)"
      ],
      "execution_count": 88,
      "outputs": [
        {
          "output_type": "stream",
          "text": [
            "10308\n"
          ],
          "name": "stdout"
        }
      ]
    },
    {
      "cell_type": "code",
      "metadata": {
        "id": "5yVCw0r9SGhN"
      },
      "source": [
        "data_pair = data_pair.merge(dataset[['person','number','path']], left_on=['person_l', 'number_l'], right_on=['person', 'number'], how='inner')\n",
        "data_pair = data_pair.rename({'path': 'path_l'}, axis='columns')\n",
        "data_pair.drop(['person','number'], axis=1, inplace=True)\n",
        "\n",
        "data_pair = data_pair.merge(dataset[['person','number','path']], left_on=['person_r', 'number_r'], right_on=['person', 'number'], how='inner')\n",
        "data_pair = data_pair.rename({'path': 'path_r'}, axis='columns')\n",
        "data_pair.drop(['person','number'], axis=1, inplace=True)"
      ],
      "execution_count": 89,
      "outputs": []
    },
    {
      "cell_type": "code",
      "metadata": {
        "colab": {
          "base_uri": "https://localhost:8080/"
        },
        "id": "IyndEEitVv-a",
        "outputId": "e4fc24d4-01a2-443f-c7a0-21b0a3bf8176"
      },
      "source": [
        "# Собираем в датафрейм эмбединги по всем изображениям\n",
        "features = []\n",
        "for idx in tqdm(range(dataset.shape[0])):\n",
        "  filename = dataset.path[idx] \n",
        "  processed_image = preprocess_image(filename, trans).unsqueeze(0).to(device)\n",
        "  preds = model(processed_image).detach().cpu()\n",
        "  features.append([dataset.path[idx]] + list(preds[0]))\n",
        "\n",
        "columns = ['path'] + ['feature_'+str(i+1) for i in range(512)]\n",
        "df_features = pd.DataFrame(features, columns = columns)\n",
        "columns = columns[1:]"
      ],
      "execution_count": 90,
      "outputs": [
        {
          "output_type": "stream",
          "text": [
            "100%|██████████| 10308/10308 [05:21<00:00, 32.06it/s]\n"
          ],
          "name": "stderr"
        }
      ]
    },
    {
      "cell_type": "code",
      "metadata": {
        "id": "uLLdIj4voQhT"
      },
      "source": [
        "# Собираем в датафрейм эмбединги по всем изображениям\n",
        "features = []\n",
        "for idx in tqdm(range(dataset.shape[0])):\n",
        "  filename = dataset.path[idx] \n",
        "  processed_image = preprocess_image(filename, trans).unsqueeze(0).to(device)\n",
        "  preds = resnet(processed_image).detach().cpu()\n",
        "  features.append([dataset.path[idx]] + list(preds[0]))\n",
        "\n",
        "columns = ['path'] + ['feature_'+str(i+1) for i in range(512)]\n",
        "df_features = pd.DataFrame(features, columns = columns)\n",
        "columns = columns[1:]"
      ],
      "execution_count": null,
      "outputs": []
    },
    {
      "cell_type": "code",
      "metadata": {
        "colab": {
          "base_uri": "https://localhost:8080/"
        },
        "id": "k0u-qZ9zVzax",
        "outputId": "b18bc2d4-531f-4e4f-f236-242ef69bd95e"
      },
      "source": [
        "%time\n",
        "# Посчитаем косинусное растояние между парами изображений\n",
        "sim = []\n",
        "data_pair['sim'] = [0.0]*data_pair.shape[0]\n",
        "for idx in tqdm(range(data_pair.shape[0])):\n",
        "  path_l = data_pair.loc[idx, 'path_l']\n",
        "  path_r = data_pair.loc[idx, 'path_r'] \n",
        "  data_pair.loc[idx, 'sim'] = cosine_similarity(np.array(df_features.loc[df_features.path == path_l,columns]).reshape(1,-1), np.array(df_features.loc[df_features.path == path_r,columns]).reshape(1,-1))[0][0]\n",
        "result = pd.DataFrame({'target':data_pair.same, 'score': data_pair.sim})"
      ],
      "execution_count": 91,
      "outputs": [
        {
          "output_type": "stream",
          "text": [
            "  0%|          | 18/6000 [00:00<00:34, 174.26it/s]"
          ],
          "name": "stderr"
        },
        {
          "output_type": "stream",
          "text": [
            "CPU times: user 2 µs, sys: 1 µs, total: 3 µs\n",
            "Wall time: 4.77 µs\n"
          ],
          "name": "stdout"
        },
        {
          "output_type": "stream",
          "text": [
            "100%|██████████| 6000/6000 [00:32<00:00, 184.62it/s]\n"
          ],
          "name": "stderr"
        }
      ]
    },
    {
      "cell_type": "code",
      "metadata": {
        "colab": {
          "base_uri": "https://localhost:8080/"
        },
        "id": "l9sUWuMg_mZM",
        "outputId": "36cd0592-d1c6-4437-bfd5-3a8e7cc9f9c3"
      },
      "source": [
        "# Если использовать предобученную модель с github и не дообучать её \n",
        "metrics(result)"
      ],
      "execution_count": 92,
      "outputs": [
        {
          "output_type": "stream",
          "text": [
            "roc_auc_score = 0.9096670000000001\n",
            "(trashold, accuracy) =  (0.5592964824120603, 0.8351666666666666)\n"
          ],
          "name": "stdout"
        }
      ]
    },
    {
      "cell_type": "code",
      "metadata": {
        "colab": {
          "base_uri": "https://localhost:8080/"
        },
        "id": "ACg4VIpV2ZuR",
        "outputId": "54fcf948-3773-457f-f2a2-eb3eb1cdccef"
      },
      "source": [
        "# Если использовать дообученную модель на Equalizedface на сжатых изображениях\n",
        "metrics(result)"
      ],
      "execution_count": null,
      "outputs": [
        {
          "output_type": "stream",
          "text": [
            "roc_auc_score = 0.9203381111111112\n",
            "(trashold, accuracy) =  (0.48693467336683416, 0.8463333333333334)\n"
          ],
          "name": "stdout"
        }
      ]
    },
    {
      "cell_type": "code",
      "metadata": {
        "colab": {
          "base_uri": "https://localhost:8080/"
        },
        "id": "SKvnpV8Tl4Od",
        "outputId": "2e2ded5d-a6bb-4d70-a923-aca4fc0c8106"
      },
      "source": [
        "# Если использовать дообученную модель на Equalizedface на полных изображениях\n",
        "metrics(result)"
      ],
      "execution_count": 34,
      "outputs": [
        {
          "output_type": "stream",
          "text": [
            "roc_auc_score = 0.9351347777777779\n",
            "(trashold, accuracy) =  (0.4809045226130653, 0.8596666666666667)\n"
          ],
          "name": "stdout"
        }
      ]
    },
    {
      "cell_type": "markdown",
      "metadata": {
        "id": "sXx8Z9kS1jXt"
      },
      "source": [
        "# RFW Asian"
      ]
    },
    {
      "cell_type": "code",
      "metadata": {
        "colab": {
          "base_uri": "https://localhost:8080/"
        },
        "id": "kWIgJxh2V9Nr",
        "outputId": "082a6ff7-0b61-46e0-f64d-0b3c18a11d9e"
      },
      "source": [
        "# Считаем уже отобранные 6000 пар по cosin similarity\n",
        "asian_pais = 'races/RFW_test/txts/Asian/Asian_pairs.txt'\n",
        "data_pair = read_pairs(asian_pais)\n",
        "\n",
        "# Загрузим пути для всех изображений\n",
        "path_asian = 'races/RFW_test/data/Asian/'\n",
        "dataset = make_df_with_paths(path_asian)"
      ],
      "execution_count": 57,
      "outputs": [
        {
          "output_type": "stream",
          "text": [
            "9688\n"
          ],
          "name": "stdout"
        }
      ]
    },
    {
      "cell_type": "code",
      "metadata": {
        "id": "2j8h1ZtVWKyq"
      },
      "source": [
        "data_pair = data_pair.merge(dataset[['person','number','path']], left_on=['person_l', 'number_l'], right_on=['person', 'number'], how='inner')\n",
        "data_pair = data_pair.rename({'path': 'path_l'}, axis='columns')\n",
        "data_pair.drop(['person','number'], axis=1, inplace=True)\n",
        "\n",
        "data_pair = data_pair.merge(dataset[['person','number','path']], left_on=['person_r', 'number_r'], right_on=['person', 'number'], how='inner')\n",
        "data_pair = data_pair.rename({'path': 'path_r'}, axis='columns')\n",
        "data_pair.drop(['person','number'], axis=1, inplace=True)"
      ],
      "execution_count": 58,
      "outputs": []
    },
    {
      "cell_type": "code",
      "metadata": {
        "colab": {
          "base_uri": "https://localhost:8080/"
        },
        "id": "kdPUczkPWNxr",
        "outputId": "afe3c159-732d-496a-b9a5-74091d9f012e"
      },
      "source": [
        "# Собираем в датафрейм эмбединги по всем изображениям\n",
        "features = []\n",
        "for idx in tqdm(range(dataset.shape[0])):\n",
        "  filename = dataset.path[idx] \n",
        "  processed_image = preprocess_image(filename, trans).unsqueeze(0).to(device)\n",
        "  preds = resnet(processed_image).detach().cpu()\n",
        "  features.append([dataset.path[idx]] + list(preds[0]))\n",
        "\n",
        "columns = ['path'] + ['feature_'+str(i+1) for i in range(512)]\n",
        "df_features = pd.DataFrame(features, columns = columns)\n",
        "columns = columns[1:]"
      ],
      "execution_count": 59,
      "outputs": [
        {
          "output_type": "stream",
          "text": [
            "100%|██████████| 9688/9688 [05:00<00:00, 32.19it/s]\n"
          ],
          "name": "stderr"
        }
      ]
    },
    {
      "cell_type": "code",
      "metadata": {
        "colab": {
          "base_uri": "https://localhost:8080/"
        },
        "id": "ub08CaCMWQ44",
        "outputId": "eaaefb3e-5f43-4491-dd9b-527f98af1c6f"
      },
      "source": [
        "%time\n",
        "# Посчитаем косинусное растояние между парами изображений\n",
        "sim = []\n",
        "data_pair['sim'] = [0.0]*data_pair.shape[0]\n",
        "for idx in tqdm(range(data_pair.shape[0])):\n",
        "  path_l = data_pair.loc[idx, 'path_l']\n",
        "  path_r = data_pair.loc[idx, 'path_r'] \n",
        "  data_pair.loc[idx, 'sim'] = cosine_similarity(np.array(df_features.loc[df_features.path == path_l,columns]).reshape(1,-1), np.array(df_features.loc[df_features.path == path_r,columns]).reshape(1,-1))[0][0]\n",
        "result = pd.DataFrame({'target':data_pair.same, 'score': data_pair.sim})"
      ],
      "execution_count": 60,
      "outputs": [
        {
          "output_type": "stream",
          "text": [
            "  0%|          | 20/6000 [00:00<00:31, 192.52it/s]"
          ],
          "name": "stderr"
        },
        {
          "output_type": "stream",
          "text": [
            "CPU times: user 3 µs, sys: 0 ns, total: 3 µs\n",
            "Wall time: 4.53 µs\n"
          ],
          "name": "stdout"
        },
        {
          "output_type": "stream",
          "text": [
            "100%|██████████| 6000/6000 [00:31<00:00, 189.64it/s]\n"
          ],
          "name": "stderr"
        }
      ]
    },
    {
      "cell_type": "code",
      "metadata": {
        "colab": {
          "base_uri": "https://localhost:8080/"
        },
        "id": "ZnH8uje__yC-",
        "outputId": "a5a16398-1fa6-4909-ca64-5db5483593ac"
      },
      "source": [
        "# Если использовать предобученную модель с github и не дообучать её \n",
        "metrics(result)"
      ],
      "execution_count": null,
      "outputs": [
        {
          "output_type": "stream",
          "text": [
            "roc_auc_score = 0.8881322222222222\n",
            "(trashold, accuracy) =  (0.6135678391959799, 0.8053333333333333)\n"
          ],
          "name": "stdout"
        }
      ]
    },
    {
      "cell_type": "code",
      "metadata": {
        "colab": {
          "base_uri": "https://localhost:8080/"
        },
        "id": "4bnp67wv2hYE",
        "outputId": "90221252-5e65-4eaf-aed5-6dc3b236cfd2"
      },
      "source": [
        "# Если использовать дообученную модель на Equalizedface\n",
        "metrics(result)"
      ],
      "execution_count": null,
      "outputs": [
        {
          "output_type": "stream",
          "text": [
            "roc_auc_score = 0.912874\n",
            "(trashold, accuracy) =  (0.4537688442211055, 0.8321666666666667)\n"
          ],
          "name": "stdout"
        }
      ]
    },
    {
      "cell_type": "code",
      "metadata": {
        "colab": {
          "base_uri": "https://localhost:8080/"
        },
        "id": "M8G6D0WlsDCy",
        "outputId": "e6981e2e-6698-4788-a7e1-cbd729bec970"
      },
      "source": [
        "# Если использовать дообученную модель на Equalizedface на полных изображениях\n",
        "metrics(result)"
      ],
      "execution_count": 61,
      "outputs": [
        {
          "output_type": "stream",
          "text": [
            "roc_auc_score = 0.9147588888888889\n",
            "(trashold, accuracy) =  (0.4899497487437186, 0.8351666666666666)\n"
          ],
          "name": "stdout"
        }
      ]
    },
    {
      "cell_type": "code",
      "metadata": {
        "id": "QsydSNdisDXb"
      },
      "source": [
        ""
      ],
      "execution_count": null,
      "outputs": []
    }
  ]
}